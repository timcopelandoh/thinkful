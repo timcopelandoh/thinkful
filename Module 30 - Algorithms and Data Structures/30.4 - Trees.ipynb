{
 "cells": [
  {
   "cell_type": "code",
   "execution_count": 25,
   "metadata": {
    "scrolled": true
   },
   "outputs": [
    {
     "name": "stdout",
     "output_type": "stream",
     "text": [
      "value: 1\n",
      "value: 2\n",
      "value: 3\n",
      "value: 4\n",
      "value: 5\n",
      "value: 6\n",
      "value: 7\n",
      "value: 8\n",
      "value: 9\n",
      "value: 10\n",
      "value: 11\n",
      "value: 12\n",
      "value: 13\n",
      "value: 14\n",
      "value: 15\n",
      "Tree traversed\n"
     ]
    }
   ],
   "source": [
    "class Node:\n",
    "    def __init__(self, val):\n",
    "        self.left = None\n",
    "        self.right = None\n",
    "        self.val = val\n",
    "\n",
    "\n",
    "node1 = Node(1)\n",
    "node1.left = Node(2)\n",
    "node1.right = Node(3)\n",
    "node1.left.left = Node(4)\n",
    "node1.left.right = Node(5)\n",
    "node1.right.left = Node(6)\n",
    "node1.right.right = Node(7)\n",
    "node1.left.left.left = Node(8)\n",
    "node1.left.left.right = Node(9)\n",
    "node1.left.right.left = Node(10)\n",
    "node1.left.right.right = Node(11)\n",
    "node1.right.left.left = Node(12)\n",
    "node1.right.left.right = Node(13)\n",
    "node1.right.right.left = Node(14)\n",
    "node1.right.right.right = Node(15)\n",
    "\n",
    "\n",
    "def traverse(x):\n",
    "    # Create empty list for next tree level\n",
    "    next_level = []\n",
    "    \n",
    "    # Print value and add left and right children to next_level list\n",
    "    # First, if a node is the input:\n",
    "    if type(x) == Node:\n",
    "        print('value: {}'.format(x.val))\n",
    "        if x.left != None:\n",
    "            next_level.append(x.left)\n",
    "        if x.right != None:\n",
    "            next_level.append(x.right)\n",
    "            \n",
    "        # call function on created list\n",
    "        traverse(next_level)\n",
    "        \n",
    "    # Next, if a list is the input:\n",
    "    if type(x) == list:\n",
    "        if len(x) == 0:\n",
    "            print('Tree traversed')\n",
    "        else:\n",
    "            for item in x:\n",
    "                print('value: {}'.format(item.val))\n",
    "                if item.left != None:\n",
    "                    next_level.append(item.left)\n",
    "                if item.right != None:\n",
    "                    next_level.append(item.right)\n",
    "            \n",
    "            # Call function on created list\n",
    "            traverse(next_level)\n",
    "\n",
    "traverse(node1)"
   ]
  }
 ],
 "metadata": {
  "kernelspec": {
   "display_name": "Python 3",
   "language": "python",
   "name": "python3"
  },
  "language_info": {
   "codemirror_mode": {
    "name": "ipython",
    "version": 3
   },
   "file_extension": ".py",
   "mimetype": "text/x-python",
   "name": "python",
   "nbconvert_exporter": "python",
   "pygments_lexer": "ipython3",
   "version": "3.7.4"
  }
 },
 "nbformat": 4,
 "nbformat_minor": 2
}
