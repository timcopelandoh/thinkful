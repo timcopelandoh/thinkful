{
 "cells": [
  {
   "cell_type": "code",
   "execution_count": 2,
   "metadata": {},
   "outputs": [],
   "source": [
    "import numpy as np\n",
    "import pandas as pd\n",
    "import matplotlib.pyplot as plt\n",
    "import seaborn as sns\n",
    "import datetime\n",
    "import warnings\n",
    "\n",
    "warnings.filterwarnings('ignore')\n",
    "%matplotlib inline\n",
    "\n",
    "\n",
    "loan = pd.read_csv('accepted_2007_to_2018Q4.csv')\n",
    "\n",
    "return_number = {\n",
    "    'Jan': 1,\n",
    "    'Feb': 2,\n",
    "    'Mar': 3,\n",
    "    'Apr': 4,\n",
    "    'May': 5,\n",
    "    'Jun': 6,\n",
    "    'Jul': 7,\n",
    "    'Aug': 8,\n",
    "    'Sep': 9,\n",
    "    'Oct': 10,\n",
    "    'Nov': 11,\n",
    "    'Dec': 12\n",
    "}\n",
    "\n",
    "def convert_date(d):\n",
    "    try:\n",
    "        return datetime.date(year=int(d[4:]), month=return_number[d[:3]], day=1)\n",
    "    except:\n",
    "        pass\n",
    "\n",
    "loan['issue_d'] = loan['issue_d'].apply(convert_date)\n",
    "loan['earliest_cr_line'] = loan['earliest_cr_line'].apply(convert_date)\n",
    "\n",
    "loan = loan[loan.issue_d < datetime.date(2015,7,1)]\n",
    "loan = loan[loan.issue_d >= datetime.date(2010,1,1)]\n",
    "\n",
    "loan = loan[loan.term == ' 36 months']\n",
    "\n",
    "loan['earliest_cr_line'] = loan.apply(lambda x: (x['issue_d'] - x['earliest_cr_line']).days, axis=1)\n",
    "\n",
    "loan = loan[(loan.loan_status == 'Fully Paid') | (loan.loan_status == 'Charged Off')]\n",
    "\n",
    "loan = loan[loan.annual_inc < 1000000]\n",
    "\n",
    "loan['ln_annual_inc'] = np.log(loan.annual_inc)\n",
    "\n",
    "loan = loan[loan.revol_util < 150]\n",
    "loan['ln_revol_bal'] = np.log(loan.revol_bal+1)\n",
    "\n",
    "loan['ln_earliest_cr_line'] = np.log(loan.earliest_cr_line)\n",
    "\n",
    "loan['ln_open_acc'] = np.log(loan.open_acc)\n",
    "\n",
    "loan.rename(columns = {'delinq_2yrs': 'num_delinq_2yrs'}, inplace=True)\n",
    "loan['delinq_2yrs'] = (loan['num_delinq_2yrs'] >= 1)\n",
    "\n",
    "loan.rename(columns = {'pub_rec': 'num_pub_rec'}, inplace=True)\n",
    "loan['pub_rec'] = (loan['num_pub_rec'] >= 1)\n",
    "\n",
    "loan.rename(columns = {'inq_last_6mths': 'num_inq_last_6mths'}, inplace=True)\n",
    "loan['inq_last_6mths'] = (loan['num_inq_last_6mths'] >= 1)\n",
    "\n",
    "loan['target'] = (loan['loan_status'] == 'Fully Paid')"
   ]
  },
  {
   "cell_type": "code",
   "execution_count": 3,
   "metadata": {},
   "outputs": [],
   "source": [
    "col_list = ['loan_amnt', 'int_rate', 'ln_annual_inc', 'dti', 'fico_range_high', 'num_delinq_2yrs', 'ln_earliest_cr_line', 'num_inq_last_6mths', 'mths_since_last_delinq', 'mths_since_last_record', 'ln_open_acc', 'num_pub_rec', 'ln_revol_bal', 'revol_util', 'total_acc']\n"
   ]
  },
  {
   "cell_type": "code",
   "execution_count": 4,
   "metadata": {},
   "outputs": [],
   "source": [
    "# We will use 2010-2013 to tune our models, and save data from 2014 and the first \n",
    "# 6 months of 2015 for walk-forward testing\n",
    "\n",
    "train = loan[loan.issue_d < datetime.date(2014, 1, 1)]\n",
    "test = loan[(loan.issue_d >= datetime.date(2014, 1, 1)) & (loan.issue_d < datetime.date(2015, 1, 1))]\n",
    "walkforward = loan[(loan.issue_d >= datetime.date(2015, 1, 1)) & (loan.issue_d < datetime.date(2015, 7, 1))]\n"
   ]
  },
  {
   "cell_type": "code",
   "execution_count": 5,
   "metadata": {},
   "outputs": [],
   "source": [
    "y = train['target']\n",
    "X1 = train[['loan_amnt', 'ln_annual_inc', 'dti', 'fico_range_high', 'delinq_2yrs', 'num_delinq_2yrs', 'ln_earliest_cr_line', 'inq_last_6mths', 'num_inq_last_6mths', 'ln_open_acc', 'pub_rec', 'num_pub_rec', 'ln_revol_bal', 'revol_util', 'total_acc']]\n",
    "X2 = pd.concat([X1, train.int_rate, pd.get_dummies(train.grade)], axis=1)\n",
    "X3 = pd.concat([X1, train.int_rate, pd.get_dummies(train.sub_grade)], axis=1)\n"
   ]
  },
  {
   "cell_type": "code",
   "execution_count": 6,
   "metadata": {},
   "outputs": [],
   "source": [
    "X1_test = test[['loan_amnt', 'ln_annual_inc', 'dti', 'fico_range_high', 'delinq_2yrs', 'num_delinq_2yrs', 'ln_earliest_cr_line', 'inq_last_6mths', 'num_inq_last_6mths', 'ln_open_acc', 'pub_rec', 'num_pub_rec', 'ln_revol_bal', 'revol_util', 'total_acc']]\n",
    "X2_test = pd.concat([X1_test, test.int_rate, pd.get_dummies(test.grade)], axis=1)\n",
    "X3_test = pd.concat([X1_test, test.int_rate, pd.get_dummies(test.sub_grade)], axis=1)\n",
    "y_test = test['target']"
   ]
  },
  {
   "cell_type": "code",
   "execution_count": 1,
   "metadata": {},
   "outputs": [
    {
     "ename": "NameError",
     "evalue": "name 'X1' is not defined",
     "output_type": "error",
     "traceback": [
      "\u001b[0;31m---------------------------------------------------------------------------\u001b[0m",
      "\u001b[0;31mNameError\u001b[0m                                 Traceback (most recent call last)",
      "\u001b[0;32m<ipython-input-1-cdcd5feb2ebc>\u001b[0m in \u001b[0;36m<module>\u001b[0;34m\u001b[0m\n\u001b[1;32m      5\u001b[0m \u001b[0mstart\u001b[0m \u001b[0;34m=\u001b[0m \u001b[0mtime\u001b[0m\u001b[0;34m.\u001b[0m\u001b[0mtime\u001b[0m\u001b[0;34m(\u001b[0m\u001b[0;34m)\u001b[0m\u001b[0;34m\u001b[0m\u001b[0;34m\u001b[0m\u001b[0m\n\u001b[1;32m      6\u001b[0m \u001b[0mrfc1\u001b[0m \u001b[0;34m=\u001b[0m \u001b[0mensemble\u001b[0m\u001b[0;34m.\u001b[0m\u001b[0mRandomForestClassifier\u001b[0m\u001b[0;34m(\u001b[0m\u001b[0mmax_depth\u001b[0m\u001b[0;34m=\u001b[0m\u001b[0;36m5\u001b[0m\u001b[0;34m,\u001b[0m \u001b[0mmax_features\u001b[0m\u001b[0;34m=\u001b[0m\u001b[0;36m5\u001b[0m\u001b[0;34m,\u001b[0m \u001b[0mn_estimators\u001b[0m\u001b[0;34m=\u001b[0m\u001b[0;36m50\u001b[0m\u001b[0;34m)\u001b[0m\u001b[0;34m\u001b[0m\u001b[0;34m\u001b[0m\u001b[0m\n\u001b[0;32m----> 7\u001b[0;31m \u001b[0mscores\u001b[0m \u001b[0;34m=\u001b[0m \u001b[0mcross_val_score\u001b[0m\u001b[0;34m(\u001b[0m\u001b[0mrfc1\u001b[0m\u001b[0;34m,\u001b[0m \u001b[0mX1\u001b[0m\u001b[0;34m,\u001b[0m \u001b[0my\u001b[0m\u001b[0;34m,\u001b[0m \u001b[0mcv\u001b[0m\u001b[0;34m=\u001b[0m\u001b[0;36m10\u001b[0m\u001b[0;34m)\u001b[0m\u001b[0;34m\u001b[0m\u001b[0;34m\u001b[0m\u001b[0m\n\u001b[0m\u001b[1;32m      8\u001b[0m \u001b[0mtime_elapsed\u001b[0m \u001b[0;34m=\u001b[0m \u001b[0mtime\u001b[0m\u001b[0;34m.\u001b[0m\u001b[0mtime\u001b[0m\u001b[0;34m(\u001b[0m\u001b[0;34m)\u001b[0m\u001b[0;34m-\u001b[0m\u001b[0mstart\u001b[0m\u001b[0;34m\u001b[0m\u001b[0;34m\u001b[0m\u001b[0m\n\u001b[1;32m      9\u001b[0m \u001b[0mprint\u001b[0m\u001b[0;34m(\u001b[0m\u001b[0mscores\u001b[0m\u001b[0;34m.\u001b[0m\u001b[0mmean\u001b[0m\u001b[0;34m(\u001b[0m\u001b[0;34m)\u001b[0m\u001b[0;34m)\u001b[0m\u001b[0;34m\u001b[0m\u001b[0;34m\u001b[0m\u001b[0m\n",
      "\u001b[0;31mNameError\u001b[0m: name 'X1' is not defined"
     ]
    }
   ],
   "source": [
    "from sklearn import ensemble\n",
    "from sklearn.model_selection import cross_val_score\n",
    "import time\n",
    "\n",
    "start = time.time()\n",
    "rfc1 = ensemble.RandomForestClassifier(max_depth=5, max_features=5, n_estimators=50)\n",
    "scores = cross_val_score(rfc1, X1, y, cv=10)\n",
    "time_elapsed = time.time()-start\n",
    "print(scores.mean())\n",
    "print(time_elapsed)\n",
    "\n"
   ]
  },
  {
   "cell_type": "code",
   "execution_count": 8,
   "metadata": {
    "scrolled": true
   },
   "outputs": [
    {
     "name": "stdout",
     "output_type": "stream",
     "text": [
      "loan_amnt: 0.013480679729929793\n",
      "ln_annual_inc: 0.26685870692150454\n",
      "dti: 0.09826934957277426\n",
      "fico_range_high: 0.38739938696612913\n",
      "delinq_2yrs: 0.0008140913271462269\n",
      "num_delinq_2yrs: 0.002971649881905773\n",
      "ln_earliest_cr_line: 0.02384140783282142\n",
      "inq_last_6mths: 0.031114306258451546\n",
      "num_inq_last_6mths: 0.07464413275742153\n",
      "ln_open_acc: 0.006613898789729678\n",
      "pub_rec: 0.000455669103118355\n",
      "num_pub_rec: 0.0011794362481755804\n",
      "ln_revol_bal: 0.0226159453759721\n",
      "revol_util: 0.05431627857199209\n",
      "total_acc: 0.015425060662928055\n"
     ]
    }
   ],
   "source": [
    "rfc1.fit(X1, y)\n",
    "\n",
    "\n",
    "for i in range(X1.shape[1]):\n",
    "    print('{}: {}'.format(X1.columns[i], rfc1.feature_importances_[i]))\n"
   ]
  },
  {
   "cell_type": "code",
   "execution_count": 9,
   "metadata": {},
   "outputs": [
    {
     "data": {
      "text/plain": [
       "(166313, 15)"
      ]
     },
     "execution_count": 9,
     "metadata": {},
     "output_type": "execute_result"
    }
   ],
   "source": [
    "X1.shape"
   ]
  },
  {
   "cell_type": "code",
   "execution_count": 10,
   "metadata": {},
   "outputs": [
    {
     "data": {
      "text/plain": [
       "array([0.01348068, 0.26685871, 0.09826935, 0.38739939, 0.00081409,\n",
       "       0.00297165, 0.02384141, 0.03111431, 0.07464413, 0.0066139 ,\n",
       "       0.00045567, 0.00117944, 0.02261595, 0.05431628, 0.01542506])"
      ]
     },
     "execution_count": 10,
     "metadata": {},
     "output_type": "execute_result"
    }
   ],
   "source": [
    "rfc1.feature_importances_"
   ]
  },
  {
   "cell_type": "code",
   "execution_count": 11,
   "metadata": {},
   "outputs": [],
   "source": [
    "pred1 = rfc1.predict_proba(X1_test)"
   ]
  },
  {
   "cell_type": "code",
   "execution_count": 12,
   "metadata": {},
   "outputs": [
    {
     "data": {
      "text/plain": [
       "<matplotlib.axes._subplots.AxesSubplot at 0x11eda1f90>"
      ]
     },
     "execution_count": 12,
     "metadata": {},
     "output_type": "execute_result"
    },
    {
     "data": {
      "image/png": "[encoded data removed]",
      "text/plain": [
       "<Figure size 432x288 with 1 Axes>"
      ]
     },
     "metadata": {
      "needs_background": "light"
     },
     "output_type": "display_data"
    }
   ],
   "source": [
    "sns.distplot([x[1] for x in pred1], kde=False)"
   ]
  },
  {
   "cell_type": "code",
   "execution_count": 13,
   "metadata": {},
   "outputs": [],
   "source": [
    "test['pred1'] = [x[1] for x in pred1]"
   ]
  },
  {
   "cell_type": "code",
   "execution_count": 31,
   "metadata": {},
   "outputs": [],
   "source": [
    "test['pct_return'] = (test.total_pymnt - test.funded_amnt) / test.funded_amnt\n"
   ]
  },
  {
   "cell_type": "code",
   "execution_count": 15,
   "metadata": {},
   "outputs": [
    {
     "name": "stdout",
     "output_type": "stream",
     "text": [
      "-----------------  A  -----------------\n",
      "\n",
      "Naive Returns:       7.141438714524952\n",
      "\n",
      "Model 1:\n",
      ">80th percentile:    7.292928452678245\n",
      ">90th percentile:    7.217038490320796\n",
      ">95th percentile:    7.078008123241843\n",
      ">99th percentile:    6.990534690588332\n",
      "\n",
      "\n",
      "-----------------  B  -----------------\n",
      "\n",
      "Naive Returns:       8.71693709483582\n",
      "\n",
      "Model 1:\n",
      ">80th percentile:    9.373381291211842\n",
      ">90th percentile:    9.33425811188497\n",
      ">95th percentile:    8.95148288943969\n",
      ">99th percentile:    9.103823507948935\n",
      "\n",
      "\n",
      "-----------------  C  -----------------\n",
      "\n",
      "Naive Returns:       8.296905799613116\n",
      "\n",
      "Model 1:\n",
      ">80th percentile:    9.739432049341143\n",
      ">90th percentile:    9.93254196315014\n",
      ">95th percentile:    10.234894207722514\n",
      ">99th percentile:    9.333306723147237\n",
      "\n",
      "\n",
      "-----------------  D  -----------------\n",
      "\n",
      "Naive Returns:       7.915659945631005\n",
      "\n",
      "Model 1:\n",
      ">80th percentile:    9.092677523399873\n",
      ">90th percentile:    8.861318628838344\n",
      ">95th percentile:    8.54832711587228\n",
      ">99th percentile:    9.067521124133107\n",
      "\n",
      "\n",
      "-----------------  E  -----------------\n",
      "\n",
      "Naive Returns:       7.291694950786074\n",
      "\n",
      "Model 1:\n",
      ">80th percentile:    8.201927868256414\n",
      ">90th percentile:    7.231458208735596\n",
      ">95th percentile:    6.551830813104711\n",
      ">99th percentile:    11.71022526712466\n",
      "\n",
      "\n",
      "-----------------  F  -----------------\n",
      "\n",
      "Naive Returns:       9.535019756814036\n",
      "\n",
      "Model 1:\n",
      ">80th percentile:    11.247758026925144\n",
      ">90th percentile:    8.817397864696094\n",
      ">95th percentile:    10.255463069411434\n",
      ">99th percentile:    -5.190568092863841\n",
      "\n",
      "\n",
      "-----------------  G  -----------------\n",
      "\n",
      "Naive Returns:       7.877324088472641\n",
      "\n",
      "Model 1:\n",
      ">80th percentile:    13.597788061861193\n",
      ">90th percentile:    8.078971359736798\n",
      ">95th percentile:    1.1574755579347913\n",
      ">99th percentile:    36.475319013593584\n",
      "\n",
      "\n"
     ]
    }
   ],
   "source": [
    "letters = ['A', 'B', 'C', 'D', 'E', 'F', 'G']\n",
    "\n",
    "test['pct_return'] = (test.total_pymnt - test.funded_amnt) / test.funded_amnt\n",
    "\n",
    "for letter in letters:\n",
    "    thresh_m1_80 = np.percentile(test[test.grade == letter]['pred1'], q=80)\n",
    "\n",
    "    thresh_m1_90 = np.percentile(test[test.grade == letter]['pred1'], q=90)\n",
    "\n",
    "    thresh_m1_95 = np.percentile(test[test.grade == letter]['pred1'], q=95)\n",
    "    \n",
    "    thresh_m1_99 = np.percentile(test[test.grade == letter]['pred1'], q=99)\n",
    "\n",
    "    print('-----------------  ' + letter + '  -----------------')\n",
    "    print('')\n",
    "    \n",
    "    print('Naive Returns:       {}'.format(test[test.grade==letter]['pct_return'].mean()*100))\n",
    "    \n",
    "    print('')\n",
    "    print('Model 1:')\n",
    "    print('>80th percentile:    {}'.format(test[(test.grade==letter)&(test.pred1 >= thresh_m1_80)]['pct_return'].mean()*100))\n",
    "    print('>90th percentile:    {}'.format(test[(test.grade==letter)&(test.pred1 >= thresh_m1_90)]['pct_return'].mean()*100))\n",
    "    print('>95th percentile:    {}'.format(test[(test.grade==letter)&(test.pred1 >= thresh_m1_95)]['pct_return'].mean()*100))\n",
    "    print('>99th percentile:    {}'.format(test[(test.grade==letter)&(test.pred1 >= thresh_m1_99)]['pct_return'].mean()*100))\n",
    "\n",
    "    print('\\n')"
   ]
  },
  {
   "cell_type": "code",
   "execution_count": 16,
   "metadata": {},
   "outputs": [],
   "source": [
    "from sklearn.model_selection import RandomizedSearchCV\n",
    "\n",
    "param_grid = {\n",
    "    'max_depth': [1,2,3,5,7,10,15,20,25,30,40,50,70,90],\n",
    "    'max_features': [2,3,4,5,7,10,15],\n",
    "    'n_estimators': [50]\n",
    "}\n",
    "\n",
    "#rf2 = ensemble.RandomForestClassifier()\n",
    "\n",
    "#rf2_random = RandomizedSearchCV(estimator=rf2, param_distributions = param_grid, n_iter=40, cv=5)\n",
    "\n",
    "#rf2_random.fit(X1, y)"
   ]
  },
  {
   "cell_type": "code",
   "execution_count": 17,
   "metadata": {},
   "outputs": [
    {
     "ename": "NameError",
     "evalue": "name 'rf2_random' is not defined",
     "output_type": "error",
     "traceback": [
      "\u001b[0;31m---------------------------------------------------------------------------\u001b[0m",
      "\u001b[0;31mNameError\u001b[0m                                 Traceback (most recent call last)",
      "\u001b[0;32m<ipython-input-17-cf6ac2c85564>\u001b[0m in \u001b[0;36m<module>\u001b[0;34m\u001b[0m\n\u001b[0;32m----> 1\u001b[0;31m \u001b[0mrf2_random\u001b[0m\u001b[0;34m.\u001b[0m\u001b[0mbest_params_\u001b[0m\u001b[0;34m\u001b[0m\u001b[0;34m\u001b[0m\u001b[0m\n\u001b[0m",
      "\u001b[0;31mNameError\u001b[0m: name 'rf2_random' is not defined"
     ]
    }
   ],
   "source": [
    "#rf2_random.best_params_"
   ]
  },
  {
   "cell_type": "code",
   "execution_count": 18,
   "metadata": {
    "scrolled": true
   },
   "outputs": [
    {
     "data": {
      "text/plain": [
       "RandomForestClassifier(bootstrap=True, ccp_alpha=0.0, class_weight=None,\n",
       "                       criterion='gini', max_depth=10, max_features=3,\n",
       "                       max_leaf_nodes=None, max_samples=None,\n",
       "                       min_impurity_decrease=0.0, min_impurity_split=None,\n",
       "                       min_samples_leaf=1, min_samples_split=2,\n",
       "                       min_weight_fraction_leaf=0.0, n_estimators=50,\n",
       "                       n_jobs=None, oob_score=False, random_state=None,\n",
       "                       verbose=0, warm_start=False)"
      ]
     },
     "execution_count": 18,
     "metadata": {},
     "output_type": "execute_result"
    }
   ],
   "source": [
    "rf3 = ensemble.RandomForestClassifier(n_estimators=50, max_features=3, max_depth=10)\n",
    "\n",
    "rf3.fit(X1, y)"
   ]
  },
  {
   "cell_type": "code",
   "execution_count": 26,
   "metadata": {
    "scrolled": true
   },
   "outputs": [],
   "source": [
    "test['pred2'] = [x[1] for x in rf3.predict_proba(X1_test)]\n",
    "\n",
    "def returns_by_grade(metric, grade, returns, thresh = [80, 90, 95]):\n",
    "    for letter in ['A', 'B', 'C', 'D', 'E', 'F', 'G']:\n",
    "        \n",
    "        cutoffs = [np.percentile(metric[grade == letter], q=x) for x in thresh]\n",
    "        \n",
    "        print('--------------  ' + letter + '  --------------')\n",
    "        print('')\n",
    "    \n",
    "        print('Naive Returns:             {}%'.format(round(returns[grade==letter].mean()*100, 2)))\n",
    "        print('')\n",
    "        \n",
    "        for c in range(len(thresh)):\n",
    "            print('{} Percent Cutoff:         {}%'.format(thresh[c], round(returns[(grade == letter) & (metric >= cutoffs[c])].mean()*100,2)))\n",
    "            \n",
    "        print('')\n",
    "        \n",
    "returns_by_grade(test.pred2, test.grade, test.pct_return)\n",
    "\n",
    "#test[['pred2', 'grade', 'pct_return']]"
   ]
  },
  {
   "cell_type": "code",
   "execution_count": 20,
   "metadata": {
    "scrolled": true
   },
   "outputs": [
    {
     "data": {
      "text/plain": [
       "0.6428340173834258"
      ]
     },
     "execution_count": 20,
     "metadata": {},
     "output_type": "execute_result"
    }
   ],
   "source": [
    "from sklearn.metrics import roc_auc_score\n",
    "\n",
    "roc_auc_score(test.target, test.pred2)"
   ]
  },
  {
   "cell_type": "code",
   "execution_count": 21,
   "metadata": {
    "scrolled": true
   },
   "outputs": [
    {
     "data": {
      "text/plain": [
       "0.6348036653921332"
      ]
     },
     "execution_count": 21,
     "metadata": {},
     "output_type": "execute_result"
    }
   ],
   "source": [
    "roc_auc_score(test.target, test.pred1)"
   ]
  },
  {
   "cell_type": "markdown",
   "metadata": {},
   "source": [
    "Our model with optimized hyperparameters did improve the model somewhat over manual selection of parameteres."
   ]
  },
  {
   "cell_type": "code",
   "execution_count": 22,
   "metadata": {
    "scrolled": true
   },
   "outputs": [
    {
     "data": {
      "text/plain": [
       "0.6713101951832501"
      ]
     },
     "execution_count": 22,
     "metadata": {},
     "output_type": "execute_result"
    }
   ],
   "source": [
    "rf4 = ensemble.RandomForestClassifier(max_depth=5, max_features=5, n_estimators=50)\n",
    "rf4.fit(X2, y)\n",
    "\n",
    "test['pred3'] = [x[1] for x in rf4.predict_proba(X2_test)]\n",
    "\n",
    "roc_auc_score(test.target, test.pred3)"
   ]
  },
  {
   "cell_type": "code",
   "execution_count": 23,
   "metadata": {
    "scrolled": false
   },
   "outputs": [],
   "source": [
    "from sklearn.model_selection import RandomizedSearchCV\n",
    "\n",
    "param_grid = {\n",
    "    'max_depth': [1,2,3,5,7,10,15,20,25,30,40,50,70,90],\n",
    "    'max_features': [2,3,4,5,7,10,15],\n",
    "    'n_estimators': [50]\n",
    "}\n",
    "\n",
    "#rf5 = ensemble.RandomForestClassifier()\n",
    "\n",
    "#rf5_random = RandomizedSearchCV(estimator=rf5, param_distributions = param_grid, n_iter=40, cv=3)\n",
    "\n",
    "#rf5_random.fit(X2, y)"
   ]
  },
  {
   "cell_type": "code",
   "execution_count": null,
   "metadata": {
    "scrolled": true
   },
   "outputs": [],
   "source": [
    "#rf2_random.best_params_"
   ]
  },
  {
   "cell_type": "code",
   "execution_count": 24,
   "metadata": {},
   "outputs": [
    {
     "data": {
      "text/plain": [
       "0.6728689185298052"
      ]
     },
     "execution_count": 24,
     "metadata": {},
     "output_type": "execute_result"
    }
   ],
   "source": [
    "rf6 = ensemble.RandomForestClassifier(n_estimators=500, max_features=4, max_depth=10)\n",
    "\n",
    "rf6.fit(X2, y)\n",
    "\n",
    "test['pred4'] = [x[1] for x in rf6.predict_proba(X2_test)]\n",
    "\n",
    "roc_auc_score(test.target, test.pred4)"
   ]
  },
  {
   "cell_type": "code",
   "execution_count": 27,
   "metadata": {
    "scrolled": true
   },
   "outputs": [],
   "source": [
    "def graph_by_grade(predictions, grade, target):\n",
    "    pred = []\n",
    "    act = []\n",
    "    letters = ['A', 'B', 'C', 'D', 'E', 'F', 'G']\n",
    "    \n",
    "    plt.figure(figsize=(12,6))\n",
    "    plt.subplot(2,4,1)\n",
    "    plt.title(\"Overall\")\n",
    "    \n",
    "    for i in range(21):\n",
    "        \n",
    "        lb = .58 + i*.02\n",
    "        ub = .58 + (i+1)*.02\n",
    "        sub = ((predictions >= lb)&(predictions < ub))\n",
    "        pred_compliance = predictions[sub].mean()\n",
    "        act_compliance = target[sub].mean()\n",
    "        pred.append(pred_compliance)\n",
    "        act.append(act_compliance)\n",
    "\n",
    "    plt.plot(pred, act)\n",
    "    plt.plot(pred, pred)\n",
    "\n",
    "    for letter in range(7):\n",
    "        \n",
    "        pred = []\n",
    "        act = []\n",
    "        ss = []\n",
    "        \n",
    "        for i in range(21):\n",
    "            lb = .58 + i*.02\n",
    "            ub = .58 + (i+1)*.02\n",
    "            sub = ((predictions >= lb)&(predictions < ub)&(grade==letters[letter]))\n",
    "            pred_compliance = predictions[sub].mean()\n",
    "            act_compliance = target[sub].mean()\n",
    "            pred.append(pred_compliance)\n",
    "            act.append(act_compliance)\n",
    "\n",
    "        plt.subplot(2,4,letter+2)\n",
    "        plt.title('Loan Grade: {}'.format(letters[letter]))\n",
    "        plt.plot(pred, act)\n",
    "        plt.plot(pred, pred)\n",
    "    \n",
    "    plt.show()\n",
    "    \n",
    "graph_by_grade(test.pred4, test.grade, test.target)"
   ]
  },
  {
   "cell_type": "code",
   "execution_count": 26,
   "metadata": {
    "scrolled": false
   },
   "outputs": [
    {
     "name": "stdout",
     "output_type": "stream",
     "text": [
      "--------------  A  --------------\n",
      "\n",
      "Naive Returns:             7.14%\n",
      "\n",
      "80 Percent Cutoff:         7.23%\n",
      "90 Percent Cutoff:         7.15%\n",
      "95 Percent Cutoff:         7.09%\n",
      "99 Percent Cutoff:         6.93%\n",
      "\n",
      "--------------  B  --------------\n",
      "\n",
      "Naive Returns:             8.72%\n",
      "\n",
      "80 Percent Cutoff:         9.51%\n",
      "90 Percent Cutoff:         9.38%\n",
      "95 Percent Cutoff:         9.43%\n",
      "99 Percent Cutoff:         9.1%\n",
      "\n",
      "--------------  C  --------------\n",
      "\n",
      "Naive Returns:             8.3%\n",
      "\n",
      "80 Percent Cutoff:         10.12%\n",
      "90 Percent Cutoff:         10.38%\n",
      "95 Percent Cutoff:         10.7%\n",
      "99 Percent Cutoff:         11.58%\n",
      "\n",
      "--------------  D  --------------\n",
      "\n",
      "Naive Returns:             7.92%\n",
      "\n",
      "80 Percent Cutoff:         10.77%\n",
      "90 Percent Cutoff:         11.44%\n",
      "95 Percent Cutoff:         12.07%\n",
      "99 Percent Cutoff:         13.51%\n",
      "\n",
      "--------------  E  --------------\n",
      "\n",
      "Naive Returns:             7.29%\n",
      "\n",
      "80 Percent Cutoff:         11.52%\n",
      "90 Percent Cutoff:         12.28%\n",
      "95 Percent Cutoff:         12.61%\n",
      "99 Percent Cutoff:         10.35%\n",
      "\n",
      "--------------  F  --------------\n",
      "\n",
      "Naive Returns:             9.54%\n",
      "\n",
      "80 Percent Cutoff:         17.21%\n",
      "90 Percent Cutoff:         19.07%\n",
      "95 Percent Cutoff:         19.55%\n",
      "99 Percent Cutoff:         25.41%\n",
      "\n",
      "--------------  G  --------------\n",
      "\n",
      "Naive Returns:             7.88%\n",
      "\n",
      "80 Percent Cutoff:         15.95%\n",
      "90 Percent Cutoff:         22.29%\n",
      "95 Percent Cutoff:         24.79%\n",
      "99 Percent Cutoff:         40.89%\n",
      "\n"
     ]
    }
   ],
   "source": [
    "returns_by_grade(test.pred4, test.grade, test.pct_return, [80, 90, 95, 99])"
   ]
  },
  {
   "cell_type": "code",
   "execution_count": 30,
   "metadata": {},
   "outputs": [],
   "source": [
    "def total_int_paid(n, i):\n",
    "    ii = i/12\n",
    "    return n*(ii * (1 + ii) ** n) / ((1+ii)**n - 1)-1\n",
    "\n",
    "total_int_paid(36, .12)\n",
    "\n",
    "test['total_int_paid'] = test.apply(lambda x: total_int_paid(36, x['int_rate']/100), axis=1)\n",
    "\n",
    "test['ev4'] = test['pred4'] * test['total_int_paid'] - (1 - test['pred4']) * .37"
   ]
  },
  {
   "cell_type": "code",
   "execution_count": 65,
   "metadata": {
    "scrolled": true
   },
   "outputs": [
    {
     "name": "stdout",
     "output_type": "stream",
     "text": [
      "--------------  A  --------------\n",
      "\n",
      "Naive Returns:             7.14%\n",
      "\n",
      "80 Percent Cutoff:         8.07%\n",
      "90 Percent Cutoff:         8.4%\n",
      "95 Percent Cutoff:         9.07%\n",
      "99 Percent Cutoff:         9.75%\n",
      "\n",
      "--------------  B  --------------\n",
      "\n",
      "Naive Returns:             8.72%\n",
      "\n",
      "80 Percent Cutoff:         10.66%\n",
      "90 Percent Cutoff:         11.38%\n",
      "95 Percent Cutoff:         12.0%\n",
      "99 Percent Cutoff:         13.48%\n",
      "\n",
      "--------------  C  --------------\n",
      "\n",
      "Naive Returns:             8.3%\n",
      "\n",
      "80 Percent Cutoff:         10.94%\n",
      "90 Percent Cutoff:         11.52%\n",
      "95 Percent Cutoff:         11.92%\n",
      "99 Percent Cutoff:         12.4%\n",
      "\n",
      "--------------  D  --------------\n",
      "\n",
      "Naive Returns:             7.92%\n",
      "\n",
      "80 Percent Cutoff:         11.0%\n",
      "90 Percent Cutoff:         12.52%\n",
      "95 Percent Cutoff:         13.51%\n",
      "99 Percent Cutoff:         16.98%\n",
      "\n",
      "--------------  E  --------------\n",
      "\n",
      "Naive Returns:             7.29%\n",
      "\n",
      "80 Percent Cutoff:         12.27%\n",
      "90 Percent Cutoff:         12.92%\n",
      "95 Percent Cutoff:         13.41%\n",
      "99 Percent Cutoff:         18.4%\n",
      "\n",
      "--------------  F  --------------\n",
      "\n",
      "Naive Returns:             9.54%\n",
      "\n",
      "80 Percent Cutoff:         17.48%\n",
      "90 Percent Cutoff:         19.53%\n",
      "95 Percent Cutoff:         20.79%\n",
      "99 Percent Cutoff:         20.67%\n",
      "\n",
      "--------------  G  --------------\n",
      "\n",
      "Naive Returns:             7.88%\n",
      "\n",
      "80 Percent Cutoff:         16.96%\n",
      "90 Percent Cutoff:         15.38%\n",
      "95 Percent Cutoff:         13.06%\n",
      "99 Percent Cutoff:         43.9%\n",
      "\n"
     ]
    }
   ],
   "source": [
    "returns_by_grade(test.ev4, test.grade, test.pct_return, [80, 90, 95, 99])"
   ]
  },
  {
   "cell_type": "code",
   "execution_count": 73,
   "metadata": {},
   "outputs": [
    {
     "data": {
      "text/plain": [
       "RandomizedSearchCV(cv=5, error_score=nan,\n",
       "                   estimator=RandomForestClassifier(bootstrap=True,\n",
       "                                                    ccp_alpha=0.0,\n",
       "                                                    class_weight=None,\n",
       "                                                    criterion='gini',\n",
       "                                                    max_depth=None,\n",
       "                                                    max_features='auto',\n",
       "                                                    max_leaf_nodes=None,\n",
       "                                                    max_samples=None,\n",
       "                                                    min_impurity_decrease=0.0,\n",
       "                                                    min_impurity_split=None,\n",
       "                                                    min_samples_leaf=1,\n",
       "                                                    min_samples_split=2,\n",
       "                                                    min_weight_fraction_leaf=0.0,\n",
       "                                                    n_estimators=100,\n",
       "                                                    n_jobs=None,\n",
       "                                                    oob_score=False,\n",
       "                                                    random_state=None,\n",
       "                                                    verbose=0,\n",
       "                                                    warm_start=False),\n",
       "                   iid='deprecated', n_iter=40, n_jobs=None,\n",
       "                   param_distributions={'max_depth': [1, 2, 3, 5, 7, 10, 15, 20,\n",
       "                                                      25, 30, 40, 50, 70, 90],\n",
       "                                        'max_features': [2, 3, 4, 5, 7, 10, 15],\n",
       "                                        'n_estimators': [500]},\n",
       "                   pre_dispatch='2*n_jobs', random_state=None, refit=True,\n",
       "                   return_train_score=False, scoring=None, verbose=0)"
      ]
     },
     "execution_count": 73,
     "metadata": {},
     "output_type": "execute_result"
    }
   ],
   "source": [
    "from sklearn.model_selection import RandomizedSearchCV\n",
    "\n",
    "param_grid = {\n",
    "    'max_depth': [1,2,3,5,7,10,15,20,25,30,40,50,70,90],\n",
    "    'max_features': [2,3,4,5,7,10,15],\n",
    "    'n_estimators': [500]\n",
    "}\n",
    "\n",
    "rf7 = ensemble.RandomForestClassifier()\n",
    "\n",
    "rf7_random = RandomizedSearchCV(estimator=rf7, param_distributions = param_grid, n_iter=40, cv=5)\n",
    "\n",
    "rf7_random.fit(X3, y)"
   ]
  },
  {
   "cell_type": "code",
   "execution_count": 74,
   "metadata": {
    "scrolled": true
   },
   "outputs": [
    {
     "data": {
      "text/plain": [
       "{'n_estimators': 500, 'max_features': 3, 'max_depth': 3}"
      ]
     },
     "execution_count": 74,
     "metadata": {},
     "output_type": "execute_result"
    }
   ],
   "source": [
    "rf7_random.best_params_"
   ]
  },
  {
   "cell_type": "code",
   "execution_count": 99,
   "metadata": {
    "scrolled": true
   },
   "outputs": [
    {
     "data": {
      "text/html": [
       "<div>\n",
       "<style scoped>\n",
       "    .dataframe tbody tr th:only-of-type {\n",
       "        vertical-align: middle;\n",
       "    }\n",
       "\n",
       "    .dataframe tbody tr th {\n",
       "        vertical-align: top;\n",
       "    }\n",
       "\n",
       "    .dataframe thead th {\n",
       "        text-align: right;\n",
       "    }\n",
       "</style>\n",
       "<table border=\"1\" class=\"dataframe\">\n",
       "  <thead>\n",
       "    <tr style=\"text-align: right;\">\n",
       "      <th></th>\n",
       "      <th>run_time</th>\n",
       "      <th>max_features</th>\n",
       "      <th>max_depth</th>\n",
       "      <th>rank</th>\n",
       "    </tr>\n",
       "  </thead>\n",
       "  <tbody>\n",
       "    <tr>\n",
       "      <td>0</td>\n",
       "      <td>17.621526</td>\n",
       "      <td>3.0</td>\n",
       "      <td>3.0</td>\n",
       "      <td>1.0</td>\n",
       "    </tr>\n",
       "    <tr>\n",
       "      <td>2</td>\n",
       "      <td>24.025836</td>\n",
       "      <td>2.0</td>\n",
       "      <td>7.0</td>\n",
       "      <td>1.0</td>\n",
       "    </tr>\n",
       "    <tr>\n",
       "      <td>5</td>\n",
       "      <td>70.698313</td>\n",
       "      <td>3.0</td>\n",
       "      <td>20.0</td>\n",
       "      <td>1.0</td>\n",
       "    </tr>\n",
       "    <tr>\n",
       "      <td>6</td>\n",
       "      <td>10.443843</td>\n",
       "      <td>2.0</td>\n",
       "      <td>1.0</td>\n",
       "      <td>1.0</td>\n",
       "    </tr>\n",
       "    <tr>\n",
       "      <td>10</td>\n",
       "      <td>14.234383</td>\n",
       "      <td>2.0</td>\n",
       "      <td>3.0</td>\n",
       "      <td>1.0</td>\n",
       "    </tr>\n",
       "    <tr>\n",
       "      <td>13</td>\n",
       "      <td>37.009632</td>\n",
       "      <td>10.0</td>\n",
       "      <td>3.0</td>\n",
       "      <td>1.0</td>\n",
       "    </tr>\n",
       "    <tr>\n",
       "      <td>16</td>\n",
       "      <td>18.465526</td>\n",
       "      <td>4.0</td>\n",
       "      <td>3.0</td>\n",
       "      <td>1.0</td>\n",
       "    </tr>\n",
       "    <tr>\n",
       "      <td>17</td>\n",
       "      <td>102.894903</td>\n",
       "      <td>4.0</td>\n",
       "      <td>25.0</td>\n",
       "      <td>1.0</td>\n",
       "    </tr>\n",
       "    <tr>\n",
       "      <td>18</td>\n",
       "      <td>18.855312</td>\n",
       "      <td>2.0</td>\n",
       "      <td>5.0</td>\n",
       "      <td>1.0</td>\n",
       "    </tr>\n",
       "    <tr>\n",
       "      <td>22</td>\n",
       "      <td>45.059657</td>\n",
       "      <td>15.0</td>\n",
       "      <td>3.0</td>\n",
       "      <td>1.0</td>\n",
       "    </tr>\n",
       "    <tr>\n",
       "      <td>24</td>\n",
       "      <td>74.988785</td>\n",
       "      <td>7.0</td>\n",
       "      <td>10.0</td>\n",
       "      <td>1.0</td>\n",
       "    </tr>\n",
       "    <tr>\n",
       "      <td>26</td>\n",
       "      <td>49.187157</td>\n",
       "      <td>4.0</td>\n",
       "      <td>10.0</td>\n",
       "      <td>1.0</td>\n",
       "    </tr>\n",
       "    <tr>\n",
       "      <td>27</td>\n",
       "      <td>57.572840</td>\n",
       "      <td>3.0</td>\n",
       "      <td>15.0</td>\n",
       "      <td>1.0</td>\n",
       "    </tr>\n",
       "    <tr>\n",
       "      <td>28</td>\n",
       "      <td>11.970480</td>\n",
       "      <td>2.0</td>\n",
       "      <td>2.0</td>\n",
       "      <td>1.0</td>\n",
       "    </tr>\n",
       "    <tr>\n",
       "      <td>30</td>\n",
       "      <td>19.209145</td>\n",
       "      <td>15.0</td>\n",
       "      <td>1.0</td>\n",
       "      <td>1.0</td>\n",
       "    </tr>\n",
       "    <tr>\n",
       "      <td>33</td>\n",
       "      <td>57.688767</td>\n",
       "      <td>2.0</td>\n",
       "      <td>20.0</td>\n",
       "      <td>1.0</td>\n",
       "    </tr>\n",
       "    <tr>\n",
       "      <td>36</td>\n",
       "      <td>132.128056</td>\n",
       "      <td>10.0</td>\n",
       "      <td>15.0</td>\n",
       "      <td>1.0</td>\n",
       "    </tr>\n",
       "    <tr>\n",
       "      <td>37</td>\n",
       "      <td>11.363846</td>\n",
       "      <td>4.0</td>\n",
       "      <td>1.0</td>\n",
       "      <td>1.0</td>\n",
       "    </tr>\n",
       "    <tr>\n",
       "      <td>38</td>\n",
       "      <td>98.590093</td>\n",
       "      <td>15.0</td>\n",
       "      <td>7.0</td>\n",
       "      <td>1.0</td>\n",
       "    </tr>\n",
       "  </tbody>\n",
       "</table>\n",
       "</div>"
      ],
      "text/plain": [
       "      run_time  max_features  max_depth  rank\n",
       "0    17.621526           3.0        3.0   1.0\n",
       "2    24.025836           2.0        7.0   1.0\n",
       "5    70.698313           3.0       20.0   1.0\n",
       "6    10.443843           2.0        1.0   1.0\n",
       "10   14.234383           2.0        3.0   1.0\n",
       "13   37.009632          10.0        3.0   1.0\n",
       "16   18.465526           4.0        3.0   1.0\n",
       "17  102.894903           4.0       25.0   1.0\n",
       "18   18.855312           2.0        5.0   1.0\n",
       "22   45.059657          15.0        3.0   1.0\n",
       "24   74.988785           7.0       10.0   1.0\n",
       "26   49.187157           4.0       10.0   1.0\n",
       "27   57.572840           3.0       15.0   1.0\n",
       "28   11.970480           2.0        2.0   1.0\n",
       "30   19.209145          15.0        1.0   1.0\n",
       "33   57.688767           2.0       20.0   1.0\n",
       "36  132.128056          10.0       15.0   1.0\n",
       "37   11.363846           4.0        1.0   1.0\n",
       "38   98.590093          15.0        7.0   1.0"
      ]
     },
     "execution_count": 99,
     "metadata": {},
     "output_type": "execute_result"
    }
   ],
   "source": [
    "#rf7_random.cv_results_['mean_fit_time', 'params', 'rank_test_score']\n",
    "\n",
    "results = pd.DataFrame([rf7_random.cv_results_['mean_fit_time'],\n",
    "                        [x['max_features'] for x in rf7_random.cv_results_['params']],\n",
    "                        [x['max_depth'] for x in rf7_random.cv_results_['params']],\n",
    "                        rf7_random.cv_results_['rank_test_score']\n",
    "                       ])\n",
    "results = results.transpose()\n",
    "results.rename(columns = {0: 'run_time', 1: 'max_features', 2: 'max_depth', 3: 'rank'}, inplace=True)\n",
    "results[results['rank']==1.0]"
   ]
  },
  {
   "cell_type": "code",
   "execution_count": 103,
   "metadata": {
    "scrolled": true
   },
   "outputs": [
    {
     "data": {
      "text/plain": [
       "RandomForestClassifier(bootstrap=True, ccp_alpha=0.0, class_weight=None,\n",
       "                       criterion='gini', max_depth=3, max_features=3,\n",
       "                       max_leaf_nodes=None, max_samples=None,\n",
       "                       min_impurity_decrease=0.0, min_impurity_split=None,\n",
       "                       min_samples_leaf=1, min_samples_split=2,\n",
       "                       min_weight_fraction_leaf=0.0, n_estimators=500,\n",
       "                       n_jobs=None, oob_score=False, random_state=None,\n",
       "                       verbose=0, warm_start=False)"
      ]
     },
     "execution_count": 103,
     "metadata": {},
     "output_type": "execute_result"
    }
   ],
   "source": [
    "rf8 = ensemble.RandomForestClassifier(n_estimators=500, max_features=3, max_depth=3)\n",
    "rf8.fit(X3, y)"
   ]
  },
  {
   "cell_type": "code",
   "execution_count": 105,
   "metadata": {},
   "outputs": [],
   "source": [
    "test['pred8'] = [x[1] for x in rf8.predict_proba(X3_test)]"
   ]
  },
  {
   "cell_type": "code",
   "execution_count": 108,
   "metadata": {
    "scrolled": true
   },
   "outputs": [
    {
     "data": {
      "text/plain": [
       "0.6657023819616924"
      ]
     },
     "execution_count": 108,
     "metadata": {},
     "output_type": "execute_result"
    }
   ],
   "source": [
    "roc_auc_score(test.target, test.pred8)"
   ]
  },
  {
   "cell_type": "code",
   "execution_count": 110,
   "metadata": {
    "scrolled": true
   },
   "outputs": [
    {
     "data": {
      "image/png": "[encoded data removed]",
      "text/plain": [
       "<Figure size 864x432 with 8 Axes>"
      ]
     },
     "metadata": {
      "needs_background": "light"
     },
     "output_type": "display_data"
    }
   ],
   "source": [
    "graph_by_grade(test.pred8, test.grade, test.target)"
   ]
  },
  {
   "cell_type": "code",
   "execution_count": 111,
   "metadata": {
    "scrolled": true
   },
   "outputs": [
    {
     "name": "stdout",
     "output_type": "stream",
     "text": [
      "--------------  A  --------------\n",
      "\n",
      "Naive Returns:             7.14%\n",
      "\n",
      "80 Percent Cutoff:         7.18%\n",
      "90 Percent Cutoff:         7.09%\n",
      "95 Percent Cutoff:         6.89%\n",
      "99 Percent Cutoff:         6.56%\n",
      "\n",
      "--------------  B  --------------\n",
      "\n",
      "Naive Returns:             8.72%\n",
      "\n",
      "80 Percent Cutoff:         9.15%\n",
      "90 Percent Cutoff:         9.31%\n",
      "95 Percent Cutoff:         9.36%\n",
      "99 Percent Cutoff:         8.56%\n",
      "\n",
      "--------------  C  --------------\n",
      "\n",
      "Naive Returns:             8.3%\n",
      "\n",
      "80 Percent Cutoff:         9.2%\n",
      "90 Percent Cutoff:         9.68%\n",
      "95 Percent Cutoff:         9.94%\n",
      "99 Percent Cutoff:         10.2%\n",
      "\n",
      "--------------  D  --------------\n",
      "\n",
      "Naive Returns:             7.92%\n",
      "\n",
      "80 Percent Cutoff:         9.16%\n",
      "90 Percent Cutoff:         9.27%\n",
      "95 Percent Cutoff:         9.02%\n",
      "99 Percent Cutoff:         9.81%\n",
      "\n",
      "--------------  E  --------------\n",
      "\n",
      "Naive Returns:             7.29%\n",
      "\n",
      "80 Percent Cutoff:         9.03%\n",
      "90 Percent Cutoff:         9.02%\n",
      "95 Percent Cutoff:         8.85%\n",
      "99 Percent Cutoff:         9.77%\n",
      "\n",
      "--------------  F  --------------\n",
      "\n",
      "Naive Returns:             9.54%\n",
      "\n",
      "80 Percent Cutoff:         11.12%\n",
      "90 Percent Cutoff:         10.77%\n",
      "95 Percent Cutoff:         8.71%\n",
      "99 Percent Cutoff:         -5.99%\n",
      "\n",
      "--------------  G  --------------\n",
      "\n",
      "Naive Returns:             7.88%\n",
      "\n",
      "80 Percent Cutoff:         11.73%\n",
      "90 Percent Cutoff:         6.28%\n",
      "95 Percent Cutoff:         3.02%\n",
      "99 Percent Cutoff:         32.23%\n",
      "\n"
     ]
    }
   ],
   "source": [
    "returns_by_grade(test.pred8, test.grade, test.pct_return, [80, 90, 95, 99])"
   ]
  },
  {
   "cell_type": "code",
   "execution_count": 112,
   "metadata": {
    "scrolled": true
   },
   "outputs": [
    {
     "name": "stdout",
     "output_type": "stream",
     "text": [
      "--------------  A  --------------\n",
      "\n",
      "Naive Returns:             7.14%\n",
      "\n",
      "80 Percent Cutoff:         8.15%\n",
      "90 Percent Cutoff:         8.46%\n",
      "95 Percent Cutoff:         9.13%\n",
      "99 Percent Cutoff:         10.07%\n",
      "\n",
      "--------------  B  --------------\n",
      "\n",
      "Naive Returns:             8.72%\n",
      "\n",
      "80 Percent Cutoff:         10.4%\n",
      "90 Percent Cutoff:         10.88%\n",
      "95 Percent Cutoff:         11.06%\n",
      "99 Percent Cutoff:         12.74%\n",
      "\n",
      "--------------  C  --------------\n",
      "\n",
      "Naive Returns:             8.3%\n",
      "\n",
      "80 Percent Cutoff:         9.99%\n",
      "90 Percent Cutoff:         10.76%\n",
      "95 Percent Cutoff:         10.67%\n",
      "99 Percent Cutoff:         12.31%\n",
      "\n",
      "--------------  D  --------------\n",
      "\n",
      "Naive Returns:             7.92%\n",
      "\n",
      "80 Percent Cutoff:         9.58%\n",
      "90 Percent Cutoff:         10.84%\n",
      "95 Percent Cutoff:         11.68%\n",
      "99 Percent Cutoff:         13.67%\n",
      "\n",
      "--------------  E  --------------\n",
      "\n",
      "Naive Returns:             7.29%\n",
      "\n",
      "80 Percent Cutoff:         9.71%\n",
      "90 Percent Cutoff:         9.83%\n",
      "95 Percent Cutoff:         10.01%\n",
      "99 Percent Cutoff:         9.46%\n",
      "\n",
      "--------------  F  --------------\n",
      "\n",
      "Naive Returns:             9.54%\n",
      "\n",
      "80 Percent Cutoff:         6.82%\n",
      "90 Percent Cutoff:         6.13%\n",
      "95 Percent Cutoff:         10.29%\n",
      "99 Percent Cutoff:         14.31%\n",
      "\n",
      "--------------  G  --------------\n",
      "\n",
      "Naive Returns:             7.88%\n",
      "\n",
      "80 Percent Cutoff:         11.62%\n",
      "90 Percent Cutoff:         5.6%\n",
      "95 Percent Cutoff:         6.6%\n",
      "99 Percent Cutoff:         -30.01%\n",
      "\n"
     ]
    }
   ],
   "source": [
    "test['ev8'] = test['pred8'] * test['total_int_paid'] - (1 - test['pred8']) * .37\n",
    "\n",
    "returns_by_grade(test.ev8, test.grade, test.pct_return, [80, 90, 95, 99])"
   ]
  },
  {
   "cell_type": "code",
   "execution_count": 18,
   "metadata": {},
   "outputs": [],
   "source": [
    "from imblearn.over_sampling import ADASYN, SMOTE\n",
    "\n",
    "subset = X2.iloc[:20, :]\n",
    "\n",
    "s_y = y[:20]\n",
    "\n",
    "sampler = ADASYN(n_neighbors=4)\n",
    "X2_rs, y_rs = sampler.fit_sample(X2, y)"
   ]
  },
  {
   "cell_type": "code",
   "execution_count": 20,
   "metadata": {},
   "outputs": [
    {
     "name": "stdout",
     "output_type": "stream",
     "text": [
      "Original Sample - Paid: 145709\n",
      "Original Sample - Default: 20604\n",
      "Rebalanced Sample - Paid: 145709\n",
      "Rebalanced Sample - Paid: 143189\n"
     ]
    }
   ],
   "source": [
    "print(\"Original Sample - Paid: {}\".format(sum(y == True)))\n",
    "print(\"Original Sample - Default: {}\".format(sum(y == False)))\n",
    "print(\"Rebalanced Sample - Paid: {}\".format(sum(y_rs == True)))\n",
    "print(\"Rebalanced Sample - Paid: {}\".format(sum(y_rs == False)))"
   ]
  },
  {
   "cell_type": "code",
   "execution_count": 23,
   "metadata": {
    "scrolled": true
   },
   "outputs": [
    {
     "ename": "NameError",
     "evalue": "name 'roc_auc_score' is not defined",
     "output_type": "error",
     "traceback": [
      "\u001b[0;31m---------------------------------------------------------------------------\u001b[0m",
      "\u001b[0;31mNameError\u001b[0m                                 Traceback (most recent call last)",
      "\u001b[0;32m<ipython-input-23-6ccc30f4496c>\u001b[0m in \u001b[0;36m<module>\u001b[0;34m\u001b[0m\n\u001b[1;32m      5\u001b[0m \u001b[0mtest\u001b[0m\u001b[0;34m[\u001b[0m\u001b[0;34m'pred5'\u001b[0m\u001b[0;34m]\u001b[0m \u001b[0;34m=\u001b[0m \u001b[0;34m[\u001b[0m\u001b[0mx\u001b[0m\u001b[0;34m[\u001b[0m\u001b[0;36m1\u001b[0m\u001b[0;34m]\u001b[0m \u001b[0;32mfor\u001b[0m \u001b[0mx\u001b[0m \u001b[0;32min\u001b[0m \u001b[0mrf9\u001b[0m\u001b[0;34m.\u001b[0m\u001b[0mpredict_proba\u001b[0m\u001b[0;34m(\u001b[0m\u001b[0mX2_test\u001b[0m\u001b[0;34m)\u001b[0m\u001b[0;34m]\u001b[0m\u001b[0;34m\u001b[0m\u001b[0;34m\u001b[0m\u001b[0m\n\u001b[1;32m      6\u001b[0m \u001b[0;34m\u001b[0m\u001b[0m\n\u001b[0;32m----> 7\u001b[0;31m \u001b[0mroc_auc_score\u001b[0m\u001b[0;34m(\u001b[0m\u001b[0mtest\u001b[0m\u001b[0;34m.\u001b[0m\u001b[0mtarget\u001b[0m\u001b[0;34m,\u001b[0m \u001b[0mtest\u001b[0m\u001b[0;34m.\u001b[0m\u001b[0mpred5\u001b[0m\u001b[0;34m)\u001b[0m\u001b[0;34m\u001b[0m\u001b[0;34m\u001b[0m\u001b[0m\n\u001b[0m",
      "\u001b[0;31mNameError\u001b[0m: name 'roc_auc_score' is not defined"
     ]
    }
   ],
   "source": [
    "rf9 = ensemble.RandomForestClassifier(n_estimators=500, max_features=4, max_depth=10)\n",
    "\n",
    "rf9.fit(X2_rs, y_rs)\n",
    "\n",
    "test['pred5'] = [x[1] for x in rf9.predict_proba(X2_test)]"
   ]
  },
  {
   "cell_type": "code",
   "execution_count": 25,
   "metadata": {},
   "outputs": [
    {
     "data": {
      "text/plain": [
       "0.6540009991907855"
      ]
     },
     "execution_count": 25,
     "metadata": {},
     "output_type": "execute_result"
    }
   ],
   "source": [
    "from sklearn.metrics import roc_auc_score\n",
    "roc_auc_score(test.target, test.pred5)"
   ]
  },
  {
   "cell_type": "code",
   "execution_count": 29,
   "metadata": {
    "scrolled": false
   },
   "outputs": [
    {
     "data": {
      "image/png": "[encoded data removed]",
      "text/plain": [
       "<Figure size 864x432 with 8 Axes>"
      ]
     },
     "metadata": {
      "needs_background": "light"
     },
     "output_type": "display_data"
    }
   ],
   "source": [
    "graph_by_grade(test.pred5, test.grade, test.target)"
   ]
  },
  {
   "cell_type": "code",
   "execution_count": 35,
   "metadata": {},
   "outputs": [
    {
     "data": {
      "image/png": "[encoded data removed]",
      "text/plain": [
       "<Figure size 864x432 with 8 Axes>"
      ]
     },
     "metadata": {
      "needs_background": "light"
     },
     "output_type": "display_data"
    }
   ],
   "source": [
    "test['pred5_adj'] = test['pred5']/(test['pred5'] + ((1 - test['pred5']) / 3))\n",
    "graph_by_grade(test.pred5_adj, test.grade, test.target)"
   ]
  },
  {
   "cell_type": "code",
   "execution_count": 33,
   "metadata": {
    "scrolled": true
   },
   "outputs": [
    {
     "name": "stdout",
     "output_type": "stream",
     "text": [
      "--------------  A  --------------\n",
      "\n",
      "Naive Returns:             7.45%\n",
      "\n",
      "80 Percent Cutoff:         7.4%\n",
      "90 Percent Cutoff:         7.45%\n",
      "95 Percent Cutoff:         7.17%\n",
      "99 Percent Cutoff:         7.19%\n",
      "\n",
      "--------------  B  --------------\n",
      "\n",
      "Naive Returns:             9.54%\n",
      "\n",
      "80 Percent Cutoff:         10.43%\n",
      "90 Percent Cutoff:         10.88%\n",
      "95 Percent Cutoff:         10.89%\n",
      "99 Percent Cutoff:         10.95%\n",
      "\n",
      "--------------  C  --------------\n",
      "\n",
      "Naive Returns:             9.31%\n",
      "\n",
      "80 Percent Cutoff:         11.56%\n",
      "90 Percent Cutoff:         11.88%\n",
      "95 Percent Cutoff:         12.5%\n",
      "99 Percent Cutoff:         13.95%\n",
      "\n",
      "--------------  D  --------------\n",
      "\n",
      "Naive Returns:             9.33%\n",
      "\n",
      "80 Percent Cutoff:         12.2%\n",
      "90 Percent Cutoff:         13.9%\n",
      "95 Percent Cutoff:         15.3%\n",
      "99 Percent Cutoff:         17.61%\n",
      "\n",
      "--------------  E  --------------\n",
      "\n",
      "Naive Returns:             9.5%\n",
      "\n",
      "80 Percent Cutoff:         12.43%\n",
      "90 Percent Cutoff:         13.78%\n",
      "95 Percent Cutoff:         16.11%\n",
      "99 Percent Cutoff:         19.48%\n",
      "\n",
      "--------------  F  --------------\n",
      "\n",
      "Naive Returns:             12.17%\n",
      "\n",
      "80 Percent Cutoff:         13.48%\n",
      "90 Percent Cutoff:         14.83%\n",
      "95 Percent Cutoff:         16.64%\n",
      "99 Percent Cutoff:         23.38%\n",
      "\n",
      "--------------  G  --------------\n",
      "\n",
      "Naive Returns:             8.53%\n",
      "\n",
      "80 Percent Cutoff:         7.93%\n",
      "90 Percent Cutoff:         3.15%\n",
      "95 Percent Cutoff:         18.83%\n",
      "99 Percent Cutoff:         29.99%\n",
      "\n"
     ]
    }
   ],
   "source": [
    "returns_by_grade(test.pred5, test.grade, test.pct_return, [80, 90, 95, 99])"
   ]
  },
  {
   "cell_type": "code",
   "execution_count": 36,
   "metadata": {},
   "outputs": [],
   "source": [
    "predictions = rf9.predict(X2_test)"
   ]
  },
  {
   "cell_type": "code",
   "execution_count": 37,
   "metadata": {},
   "outputs": [
    {
     "data": {
      "text/plain": [
       "array([ True,  True,  True,  True,  True,  True,  True,  True,  True,\n",
       "        True])"
      ]
     },
     "execution_count": 37,
     "metadata": {},
     "output_type": "execute_result"
    }
   ],
   "source": [
    "predictions[:10]"
   ]
  },
  {
   "cell_type": "code",
   "execution_count": 38,
   "metadata": {
    "scrolled": true
   },
   "outputs": [
    {
     "name": "stdout",
     "output_type": "stream",
     "text": [
      "153624\n",
      "8838\n"
     ]
    }
   ],
   "source": [
    "print(sum(predictions==True))\n",
    "print(sum(predictions==False))"
   ]
  },
  {
   "cell_type": "code",
   "execution_count": 39,
   "metadata": {
    "scrolled": true
   },
   "outputs": [
    {
     "data": {
      "text/plain": [
       "0.049689440993788817"
      ]
     },
     "execution_count": 39,
     "metadata": {},
     "output_type": "execute_result"
    }
   ],
   "source": [
    "8/161"
   ]
  },
  {
   "cell_type": "code",
   "execution_count": 41,
   "metadata": {},
   "outputs": [
    {
     "data": {
      "text/plain": [
       "0.8627555982322019"
      ]
     },
     "execution_count": 41,
     "metadata": {},
     "output_type": "execute_result"
    }
   ],
   "source": [
    "sum(y_test)/len(y_test)"
   ]
  }
 ],
 "metadata": {
  "kernelspec": {
   "display_name": "Python 3",
   "language": "python",
   "name": "python3"
  },
  "language_info": {
   "codemirror_mode": {
    "name": "ipython",
    "version": 3
   },
   "file_extension": ".py",
   "mimetype": "text/x-python",
   "name": "python",
   "nbconvert_exporter": "python",
   "pygments_lexer": "ipython3",
   "version": "3.7.4"
  }
 },
 "nbformat": 4,
 "nbformat_minor": 2
}
