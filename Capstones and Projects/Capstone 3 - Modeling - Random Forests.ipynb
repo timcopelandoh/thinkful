{
 "cells": [
  {
   "cell_type": "code",
   "execution_count": 2,
   "metadata": {},
   "outputs": [],
   "source": [
    "import numpy as np\n",
    "import pandas as pd\n",
    "import matplotlib.pyplot as plt\n",
    "import seaborn as sns\n",
    "import datetime\n",
    "import warnings\n",
    "\n",
    "warnings.filterwarnings('ignore')\n",
    "%matplotlib inline\n",
    "\n",
    "\n",
    "loan = pd.read_csv('accepted_2007_to_2018Q4.csv')\n",
    "\n",
    "return_number = {\n",
    "    'Jan': 1,\n",
    "    'Feb': 2,\n",
    "    'Mar': 3,\n",
    "    'Apr': 4,\n",
    "    'May': 5,\n",
    "    'Jun': 6,\n",
    "    'Jul': 7,\n",
    "    'Aug': 8,\n",
    "    'Sep': 9,\n",
    "    'Oct': 10,\n",
    "    'Nov': 11,\n",
    "    'Dec': 12\n",
    "}\n",
    "\n",
    "def convert_date(d):\n",
    "    try:\n",
    "        return datetime.date(year=int(d[4:]), month=return_number[d[:3]], day=1)\n",
    "    except:\n",
    "        pass\n",
    "\n",
    "loan['issue_d'] = loan['issue_d'].apply(convert_date)\n",
    "loan['earliest_cr_line'] = loan['earliest_cr_line'].apply(convert_date)\n",
    "\n",
    "loan = loan[loan.issue_d < datetime.date(2015,7,1)]\n",
    "loan = loan[loan.issue_d >= datetime.date(2010,1,1)]\n",
    "\n",
    "loan = loan[loan.term == ' 36 months']\n",
    "\n",
    "loan['earliest_cr_line'] = loan.apply(lambda x: (x['issue_d'] - x['earliest_cr_line']).days, axis=1)\n",
    "\n",
    "loan = loan[(loan.loan_status == 'Fully Paid') | (loan.loan_status == 'Charged Off')]\n",
    "\n",
    "loan = loan[loan.annual_inc < 1000000]\n",
    "\n",
    "loan['ln_annual_inc'] = np.log(loan.annual_inc)\n",
    "\n",
    "loan = loan[loan.revol_util < 150]\n",
    "loan['ln_revol_bal'] = np.log(loan.revol_bal+1)\n",
    "\n",
    "loan['ln_earliest_cr_line'] = np.log(loan.earliest_cr_line)\n",
    "\n",
    "loan['ln_open_acc'] = np.log(loan.open_acc)\n",
    "\n",
    "loan.rename(columns = {'delinq_2yrs': 'num_delinq_2yrs'}, inplace=True)\n",
    "loan['delinq_2yrs'] = (loan['num_delinq_2yrs'] >= 1)\n",
    "\n",
    "loan.rename(columns = {'pub_rec': 'num_pub_rec'}, inplace=True)\n",
    "loan['pub_rec'] = (loan['num_pub_rec'] >= 1)\n",
    "\n",
    "loan.rename(columns = {'inq_last_6mths': 'num_inq_last_6mths'}, inplace=True)\n",
    "loan['inq_last_6mths'] = (loan['num_inq_last_6mths'] >= 1)\n",
    "\n",
    "loan['target'] = (loan['loan_status'] == 'Fully Paid')"
   ]
  },
  {
   "cell_type": "code",
   "execution_count": 3,
   "metadata": {},
   "outputs": [],
   "source": [
    "col_list = ['loan_amnt', 'int_rate', 'ln_annual_inc', 'dti', 'fico_range_high', 'num_delinq_2yrs', 'ln_earliest_cr_line', 'num_inq_last_6mths', 'mths_since_last_delinq', 'mths_since_last_record', 'ln_open_acc', 'num_pub_rec', 'ln_revol_bal', 'revol_util', 'total_acc']\n"
   ]
  },
  {
   "cell_type": "code",
   "execution_count": 4,
   "metadata": {},
   "outputs": [],
   "source": [
    "# We will use 2010-2013 to tune our models, and save data from 2014 and the first \n",
    "# 6 months of 2015 for walk-forward testing\n",
    "\n",
    "train = loan[loan.issue_d < datetime.date(2014, 1, 1)]\n",
    "test = loan[(loan.issue_d >= datetime.date(2014, 1, 1)) & (loan.issue_d < datetime.date(2015, 7, 1))]\n"
   ]
  },
  {
   "cell_type": "code",
   "execution_count": 5,
   "metadata": {},
   "outputs": [],
   "source": [
    "y = train['target']\n",
    "X1 = train[['loan_amnt', 'ln_annual_inc', 'dti', 'fico_range_high', 'delinq_2yrs', 'num_delinq_2yrs', 'ln_earliest_cr_line', 'inq_last_6mths', 'num_inq_last_6mths', 'ln_open_acc', 'pub_rec', 'num_pub_rec', 'ln_revol_bal', 'revol_util', 'total_acc']]\n",
    "X2 = pd.concat([X1, train.int_rate, pd.get_dummies(train.grade)], axis=1)\n",
    "X3 = pd.concat([X1, train.int_rate, pd.get_dummies(train.sub_grade)], axis=1)\n"
   ]
  },
  {
   "cell_type": "code",
   "execution_count": 6,
   "metadata": {},
   "outputs": [],
   "source": [
    "X1_test = test[['loan_amnt', 'ln_annual_inc', 'dti', 'fico_range_high', 'delinq_2yrs', 'num_delinq_2yrs', 'ln_earliest_cr_line', 'inq_last_6mths', 'num_inq_last_6mths', 'ln_open_acc', 'pub_rec', 'num_pub_rec', 'ln_revol_bal', 'revol_util', 'total_acc']]\n",
    "X2_test = pd.concat([X1_test, test.int_rate, pd.get_dummies(test.grade)], axis=1)\n",
    "X3_test = pd.concat([X1_test, test.int_rate, pd.get_dummies(test.sub_grade)], axis=1)\n",
    "y_test = test['target']"
   ]
  },
  {
   "cell_type": "code",
   "execution_count": 7,
   "metadata": {},
   "outputs": [
    {
     "name": "stdout",
     "output_type": "stream",
     "text": [
      "0.8761131125804026\n",
      "72.68147993087769\n"
     ]
    }
   ],
   "source": [
    "from sklearn import ensemble\n",
    "from sklearn.model_selection import cross_val_score\n",
    "import time\n",
    "\n",
    "start = time.time()\n",
    "rfc1 = ensemble.RandomForestClassifier(max_depth=5, max_features=5, n_estimators=50)\n",
    "scores = cross_val_score(rfc1, X1, y, cv=10)\n",
    "time_elapsed = time.time()-start\n",
    "print(scores.mean())\n",
    "print(time_elapsed)\n",
    "\n"
   ]
  },
  {
   "cell_type": "code",
   "execution_count": 8,
   "metadata": {
    "scrolled": true
   },
   "outputs": [
    {
     "name": "stdout",
     "output_type": "stream",
     "text": [
      "loan_amnt: 0.013480679729929793\n",
      "ln_annual_inc: 0.26685870692150454\n",
      "dti: 0.09826934957277426\n",
      "fico_range_high: 0.38739938696612913\n",
      "delinq_2yrs: 0.0008140913271462269\n",
      "num_delinq_2yrs: 0.002971649881905773\n",
      "ln_earliest_cr_line: 0.02384140783282142\n",
      "inq_last_6mths: 0.031114306258451546\n",
      "num_inq_last_6mths: 0.07464413275742153\n",
      "ln_open_acc: 0.006613898789729678\n",
      "pub_rec: 0.000455669103118355\n",
      "num_pub_rec: 0.0011794362481755804\n",
      "ln_revol_bal: 0.0226159453759721\n",
      "revol_util: 0.05431627857199209\n",
      "total_acc: 0.015425060662928055\n"
     ]
    }
   ],
   "source": [
    "rfc1.fit(X1, y)\n",
    "\n",
    "\n",
    "for i in range(X1.shape[1]):\n",
    "    print('{}: {}'.format(X1.columns[i], rfc1.feature_importances_[i]))\n"
   ]
  },
  {
   "cell_type": "code",
   "execution_count": 9,
   "metadata": {},
   "outputs": [
    {
     "data": {
      "text/plain": [
       "(166313, 15)"
      ]
     },
     "execution_count": 9,
     "metadata": {},
     "output_type": "execute_result"
    }
   ],
   "source": [
    "X1.shape"
   ]
  },
  {
   "cell_type": "code",
   "execution_count": 10,
   "metadata": {},
   "outputs": [
    {
     "data": {
      "text/plain": [
       "array([0.01348068, 0.26685871, 0.09826935, 0.38739939, 0.00081409,\n",
       "       0.00297165, 0.02384141, 0.03111431, 0.07464413, 0.0066139 ,\n",
       "       0.00045567, 0.00117944, 0.02261595, 0.05431628, 0.01542506])"
      ]
     },
     "execution_count": 10,
     "metadata": {},
     "output_type": "execute_result"
    }
   ],
   "source": [
    "rfc1.feature_importances_"
   ]
  },
  {
   "cell_type": "code",
   "execution_count": 11,
   "metadata": {},
   "outputs": [],
   "source": [
    "pred1 = rfc1.predict_proba(X1_test)"
   ]
  },
  {
   "cell_type": "code",
   "execution_count": 12,
   "metadata": {},
   "outputs": [
    {
     "data": {
      "text/plain": [
       "<matplotlib.axes._subplots.AxesSubplot at 0x11eda1f90>"
      ]
     },
     "execution_count": 12,
     "metadata": {},
     "output_type": "execute_result"
    },
    {
     "data": {
      "image/png": "[encoded data removed]",
      "text/plain": [
       "<Figure size 432x288 with 1 Axes>"
      ]
     },
     "metadata": {
      "needs_background": "light"
     },
     "output_type": "display_data"
    }
   ],
   "source": [
    "sns.distplot([x[1] for x in pred1], kde=False)"
   ]
  },
  {
   "cell_type": "code",
   "execution_count": 13,
   "metadata": {},
   "outputs": [],
   "source": [
    "test['pred1'] = [x[1] for x in pred1]"
   ]
  },
  {
   "cell_type": "code",
   "execution_count": 14,
   "metadata": {},
   "outputs": [],
   "source": [
    "test['pct_return'] = (test.total_pymnt - test.funded_amnt) / test.funded_amnt\n"
   ]
  },
  {
   "cell_type": "code",
   "execution_count": 15,
   "metadata": {},
   "outputs": [
    {
     "name": "stdout",
     "output_type": "stream",
     "text": [
      "-----------------  A  -----------------\n",
      "\n",
      "Naive Returns:       7.141438714524952\n",
      "\n",
      "Model 1:\n",
      ">80th percentile:    7.292928452678245\n",
      ">90th percentile:    7.217038490320796\n",
      ">95th percentile:    7.078008123241843\n",
      ">99th percentile:    6.990534690588332\n",
      "\n",
      "\n",
      "-----------------  B  -----------------\n",
      "\n",
      "Naive Returns:       8.71693709483582\n",
      "\n",
      "Model 1:\n",
      ">80th percentile:    9.373381291211842\n",
      ">90th percentile:    9.33425811188497\n",
      ">95th percentile:    8.95148288943969\n",
      ">99th percentile:    9.103823507948935\n",
      "\n",
      "\n",
      "-----------------  C  -----------------\n",
      "\n",
      "Naive Returns:       8.296905799613116\n",
      "\n",
      "Model 1:\n",
      ">80th percentile:    9.739432049341143\n",
      ">90th percentile:    9.93254196315014\n",
      ">95th percentile:    10.234894207722514\n",
      ">99th percentile:    9.333306723147237\n",
      "\n",
      "\n",
      "-----------------  D  -----------------\n",
      "\n",
      "Naive Returns:       7.915659945631005\n",
      "\n",
      "Model 1:\n",
      ">80th percentile:    9.092677523399873\n",
      ">90th percentile:    8.861318628838344\n",
      ">95th percentile:    8.54832711587228\n",
      ">99th percentile:    9.067521124133107\n",
      "\n",
      "\n",
      "-----------------  E  -----------------\n",
      "\n",
      "Naive Returns:       7.291694950786074\n",
      "\n",
      "Model 1:\n",
      ">80th percentile:    8.201927868256414\n",
      ">90th percentile:    7.231458208735596\n",
      ">95th percentile:    6.551830813104711\n",
      ">99th percentile:    11.71022526712466\n",
      "\n",
      "\n",
      "-----------------  F  -----------------\n",
      "\n",
      "Naive Returns:       9.535019756814036\n",
      "\n",
      "Model 1:\n",
      ">80th percentile:    11.247758026925144\n",
      ">90th percentile:    8.817397864696094\n",
      ">95th percentile:    10.255463069411434\n",
      ">99th percentile:    -5.190568092863841\n",
      "\n",
      "\n",
      "-----------------  G  -----------------\n",
      "\n",
      "Naive Returns:       7.877324088472641\n",
      "\n",
      "Model 1:\n",
      ">80th percentile:    13.597788061861193\n",
      ">90th percentile:    8.078971359736798\n",
      ">95th percentile:    1.1574755579347913\n",
      ">99th percentile:    36.475319013593584\n",
      "\n",
      "\n"
     ]
    }
   ],
   "source": [
    "letters = ['A', 'B', 'C', 'D', 'E', 'F', 'G']\n",
    "\n",
    "test['pct_return'] = (test.total_pymnt - test.funded_amnt) / test.funded_amnt\n",
    "\n",
    "for letter in letters:\n",
    "    thresh_m1_80 = np.percentile(test[test.grade == letter]['pred1'], q=80)\n",
    "\n",
    "    thresh_m1_90 = np.percentile(test[test.grade == letter]['pred1'], q=90)\n",
    "\n",
    "    thresh_m1_95 = np.percentile(test[test.grade == letter]['pred1'], q=95)\n",
    "    \n",
    "    thresh_m1_99 = np.percentile(test[test.grade == letter]['pred1'], q=99)\n",
    "\n",
    "    print('-----------------  ' + letter + '  -----------------')\n",
    "    print('')\n",
    "    \n",
    "    print('Naive Returns:       {}'.format(test[test.grade==letter]['pct_return'].mean()*100))\n",
    "    \n",
    "    print('')\n",
    "    print('Model 1:')\n",
    "    print('>80th percentile:    {}'.format(test[(test.grade==letter)&(test.pred1 >= thresh_m1_80)]['pct_return'].mean()*100))\n",
    "    print('>90th percentile:    {}'.format(test[(test.grade==letter)&(test.pred1 >= thresh_m1_90)]['pct_return'].mean()*100))\n",
    "    print('>95th percentile:    {}'.format(test[(test.grade==letter)&(test.pred1 >= thresh_m1_95)]['pct_return'].mean()*100))\n",
    "    print('>99th percentile:    {}'.format(test[(test.grade==letter)&(test.pred1 >= thresh_m1_99)]['pct_return'].mean()*100))\n",
    "\n",
    "    print('\\n')"
   ]
  },
  {
   "cell_type": "code",
   "execution_count": 16,
   "metadata": {},
   "outputs": [],
   "source": [
    "from sklearn.model_selection import RandomizedSearchCV\n",
    "\n",
    "param_grid = {\n",
    "    'max_depth': [1,2,3,5,7,10,15,20,25,30,40,50,70,90],\n",
    "    'max_features': [2,3,4,5,7,10,15],\n",
    "    'n_estimators': [50]\n",
    "}\n",
    "\n",
    "#rf2 = ensemble.RandomForestClassifier()\n",
    "\n",
    "#rf2_random = RandomizedSearchCV(estimator=rf2, param_distributions = param_grid, n_iter=40, cv=5)\n",
    "\n",
    "#rf2_random.fit(X1, y)"
   ]
  },
  {
   "cell_type": "code",
   "execution_count": 17,
   "metadata": {},
   "outputs": [
    {
     "ename": "NameError",
     "evalue": "name 'rf2_random' is not defined",
     "output_type": "error",
     "traceback": [
      "\u001b[0;31m---------------------------------------------------------------------------\u001b[0m",
      "\u001b[0;31mNameError\u001b[0m                                 Traceback (most recent call last)",
      "\u001b[0;32m<ipython-input-17-cf6ac2c85564>\u001b[0m in \u001b[0;36m<module>\u001b[0;34m\u001b[0m\n\u001b[0;32m----> 1\u001b[0;31m \u001b[0mrf2_random\u001b[0m\u001b[0;34m.\u001b[0m\u001b[0mbest_params_\u001b[0m\u001b[0;34m\u001b[0m\u001b[0;34m\u001b[0m\u001b[0m\n\u001b[0m",
      "\u001b[0;31mNameError\u001b[0m: name 'rf2_random' is not defined"
     ]
    }
   ],
   "source": [
    "#rf2_random.best_params_"
   ]
  },
  {
   "cell_type": "code",
   "execution_count": 18,
   "metadata": {
    "scrolled": true
   },
   "outputs": [
    {
     "data": {
      "text/plain": [
       "RandomForestClassifier(bootstrap=True, ccp_alpha=0.0, class_weight=None,\n",
       "                       criterion='gini', max_depth=10, max_features=3,\n",
       "                       max_leaf_nodes=None, max_samples=None,\n",
       "                       min_impurity_decrease=0.0, min_impurity_split=None,\n",
       "                       min_samples_leaf=1, min_samples_split=2,\n",
       "                       min_weight_fraction_leaf=0.0, n_estimators=50,\n",
       "                       n_jobs=None, oob_score=False, random_state=None,\n",
       "                       verbose=0, warm_start=False)"
      ]
     },
     "execution_count": 18,
     "metadata": {},
     "output_type": "execute_result"
    }
   ],
   "source": [
    "rf3 = ensemble.RandomForestClassifier(n_estimators=50, max_features=3, max_depth=10)\n",
    "\n",
    "rf3.fit(X1, y)"
   ]
  },
  {
   "cell_type": "code",
   "execution_count": 19,
   "metadata": {
    "scrolled": true
   },
   "outputs": [
    {
     "name": "stdout",
     "output_type": "stream",
     "text": [
      "--------------  A  --------------\n",
      "\n",
      "Naive Returns:             7.14%\n",
      "\n",
      "80 Percent Cutoff:         7.28%\n",
      "90 Percent Cutoff:         7.09%\n",
      "95 Percent Cutoff:         7.0%\n",
      "\n",
      "--------------  B  --------------\n",
      "\n",
      "Naive Returns:             8.72%\n",
      "\n",
      "80 Percent Cutoff:         9.6%\n",
      "90 Percent Cutoff:         9.54%\n",
      "95 Percent Cutoff:         9.33%\n",
      "\n",
      "--------------  C  --------------\n",
      "\n",
      "Naive Returns:             8.3%\n",
      "\n",
      "80 Percent Cutoff:         10.18%\n",
      "90 Percent Cutoff:         10.5%\n",
      "95 Percent Cutoff:         10.55%\n",
      "\n",
      "--------------  D  --------------\n",
      "\n",
      "Naive Returns:             7.92%\n",
      "\n",
      "80 Percent Cutoff:         10.01%\n",
      "90 Percent Cutoff:         9.89%\n",
      "95 Percent Cutoff:         10.17%\n",
      "\n",
      "--------------  E  --------------\n",
      "\n",
      "Naive Returns:             7.29%\n",
      "\n",
      "80 Percent Cutoff:         9.5%\n",
      "90 Percent Cutoff:         8.52%\n",
      "95 Percent Cutoff:         9.15%\n",
      "\n",
      "--------------  F  --------------\n",
      "\n",
      "Naive Returns:             9.54%\n",
      "\n",
      "80 Percent Cutoff:         14.55%\n",
      "90 Percent Cutoff:         12.94%\n",
      "95 Percent Cutoff:         13.54%\n",
      "\n",
      "--------------  G  --------------\n",
      "\n",
      "Naive Returns:             7.88%\n",
      "\n",
      "80 Percent Cutoff:         15.57%\n",
      "90 Percent Cutoff:         4.89%\n",
      "95 Percent Cutoff:         6.55%\n",
      "\n"
     ]
    }
   ],
   "source": [
    "test['pred2'] = [x[1] for x in rf3.predict_proba(X1_test)]\n",
    "\n",
    "def returns_by_grade(metric, grade, returns, thresh = [80, 90, 95]):\n",
    "    for letter in ['A', 'B', 'C', 'D', 'E', 'F', 'G']:\n",
    "        \n",
    "        cutoffs = [np.percentile(metric[grade == letter], q=x) for x in thresh]\n",
    "        \n",
    "        print('--------------  ' + letter + '  --------------')\n",
    "        print('')\n",
    "    \n",
    "        print('Naive Returns:             {}%'.format(round(returns[grade==letter].mean()*100, 2)))\n",
    "        print('')\n",
    "        \n",
    "        for c in range(len(thresh)):\n",
    "            print('{} Percent Cutoff:         {}%'.format(thresh[c], round(returns[(grade == letter) & (metric >= cutoffs[c])].mean()*100,2)))\n",
    "            \n",
    "        print('')\n",
    "        \n",
    "returns_by_grade(test.pred2, test.grade, test.pct_return)\n",
    "\n",
    "#test[['pred2', 'grade', 'pct_return']]"
   ]
  },
  {
   "cell_type": "code",
   "execution_count": 20,
   "metadata": {
    "scrolled": true
   },
   "outputs": [
    {
     "data": {
      "text/plain": [
       "0.6428340173834258"
      ]
     },
     "execution_count": 20,
     "metadata": {},
     "output_type": "execute_result"
    }
   ],
   "source": [
    "from sklearn.metrics import roc_auc_score\n",
    "\n",
    "roc_auc_score(test.target, test.pred2)"
   ]
  },
  {
   "cell_type": "code",
   "execution_count": 21,
   "metadata": {
    "scrolled": true
   },
   "outputs": [
    {
     "data": {
      "text/plain": [
       "0.6348036653921332"
      ]
     },
     "execution_count": 21,
     "metadata": {},
     "output_type": "execute_result"
    }
   ],
   "source": [
    "roc_auc_score(test.target, test.pred1)"
   ]
  },
  {
   "cell_type": "markdown",
   "metadata": {},
   "source": [
    "Our model with optimized hyperparameters did improve the model somewhat over manual selection of parameteres."
   ]
  },
  {
   "cell_type": "code",
   "execution_count": 22,
   "metadata": {
    "scrolled": true
   },
   "outputs": [
    {
     "data": {
      "text/plain": [
       "0.6713101951832501"
      ]
     },
     "execution_count": 22,
     "metadata": {},
     "output_type": "execute_result"
    }
   ],
   "source": [
    "rf4 = ensemble.RandomForestClassifier(max_depth=5, max_features=5, n_estimators=50)\n",
    "rf4.fit(X2, y)\n",
    "\n",
    "test['pred3'] = [x[1] for x in rf4.predict_proba(X2_test)]\n",
    "\n",
    "roc_auc_score(test.target, test.pred3)"
   ]
  },
  {
   "cell_type": "code",
   "execution_count": 23,
   "metadata": {
    "scrolled": false
   },
   "outputs": [],
   "source": [
    "from sklearn.model_selection import RandomizedSearchCV\n",
    "\n",
    "param_grid = {\n",
    "    'max_depth': [1,2,3,5,7,10,15,20,25,30,40,50,70,90],\n",
    "    'max_features': [2,3,4,5,7,10,15],\n",
    "    'n_estimators': [50]\n",
    "}\n",
    "\n",
    "#rf5 = ensemble.RandomForestClassifier()\n",
    "\n",
    "#rf5_random = RandomizedSearchCV(estimator=rf5, param_distributions = param_grid, n_iter=40, cv=3)\n",
    "\n",
    "#rf5_random.fit(X2, y)"
   ]
  },
  {
   "cell_type": "code",
   "execution_count": null,
   "metadata": {
    "scrolled": true
   },
   "outputs": [],
   "source": [
    "#rf2_random.best_params_"
   ]
  },
  {
   "cell_type": "code",
   "execution_count": 24,
   "metadata": {},
   "outputs": [
    {
     "data": {
      "text/plain": [
       "0.6728689185298052"
      ]
     },
     "execution_count": 24,
     "metadata": {},
     "output_type": "execute_result"
    }
   ],
   "source": [
    "rf6 = ensemble.RandomForestClassifier(n_estimators=500, max_features=4, max_depth=10)\n",
    "\n",
    "rf6.fit(X2, y)\n",
    "\n",
    "test['pred4'] = [x[1] for x in rf6.predict_proba(X2_test)]\n",
    "\n",
    "roc_auc_score(test.target, test.pred4)"
   ]
  },
  {
   "cell_type": "code",
   "execution_count": 25,
   "metadata": {
    "scrolled": true
   },
   "outputs": [
    {
     "data": {
      "image/png": "[encoded data removed]",
      "text/plain": [
       "<Figure size 864x432 with 8 Axes>"
      ]
     },
     "metadata": {
      "needs_background": "light"
     },
     "output_type": "display_data"
    }
   ],
   "source": [
    "def graph_by_grade(predictions, grade, target):\n",
    "    pred = []\n",
    "    act = []\n",
    "    letters = ['A', 'B', 'C', 'D', 'E', 'F', 'G']\n",
    "    \n",
    "    plt.figure(figsize=(12,6))\n",
    "    plt.subplot(2,4,1)\n",
    "    plt.title(\"Overall\")\n",
    "    \n",
    "    for i in range(21):\n",
    "        \n",
    "        lb = .58 + i*.02\n",
    "        ub = .58 + (i+1)*.02\n",
    "        sub = ((predictions >= lb)&(predictions < ub))\n",
    "        pred_compliance = predictions[sub].mean()\n",
    "        act_compliance = target[sub].mean()\n",
    "        pred.append(pred_compliance)\n",
    "        act.append(act_compliance)\n",
    "\n",
    "    plt.plot(pred, act)\n",
    "    plt.plot(pred, pred)\n",
    "\n",
    "    for letter in range(7):\n",
    "        \n",
    "        pred = []\n",
    "        act = []\n",
    "        ss = []\n",
    "        \n",
    "        for i in range(21):\n",
    "            lb = .58 + i*.02\n",
    "            ub = .58 + (i+1)*.02\n",
    "            sub = ((predictions >= lb)&(predictions < ub)&(grade==letters[letter]))\n",
    "            pred_compliance = predictions[sub].mean()\n",
    "            act_compliance = target[sub].mean()\n",
    "            pred.append(pred_compliance)\n",
    "            act.append(act_compliance)\n",
    "\n",
    "        plt.subplot(2,4,letter+2)\n",
    "        plt.title('Loan Grade: {}'.format(letters[letter]))\n",
    "        plt.plot(pred, act)\n",
    "        plt.plot(pred, pred)\n",
    "    \n",
    "    plt.show()\n",
    "    \n",
    "graph_by_grade(test.pred4, test.grade, test.target)"
   ]
  },
  {
   "cell_type": "code",
   "execution_count": 26,
   "metadata": {
    "scrolled": true
   },
   "outputs": [
    {
     "name": "stdout",
     "output_type": "stream",
     "text": [
      "--------------  A  --------------\n",
      "\n",
      "Naive Returns:             7.14%\n",
      "\n",
      "80 Percent Cutoff:         7.23%\n",
      "90 Percent Cutoff:         7.15%\n",
      "95 Percent Cutoff:         7.09%\n",
      "99 Percent Cutoff:         6.93%\n",
      "\n",
      "--------------  B  --------------\n",
      "\n",
      "Naive Returns:             8.72%\n",
      "\n",
      "80 Percent Cutoff:         9.51%\n",
      "90 Percent Cutoff:         9.38%\n",
      "95 Percent Cutoff:         9.43%\n",
      "99 Percent Cutoff:         9.1%\n",
      "\n",
      "--------------  C  --------------\n",
      "\n",
      "Naive Returns:             8.3%\n",
      "\n",
      "80 Percent Cutoff:         10.12%\n",
      "90 Percent Cutoff:         10.38%\n",
      "95 Percent Cutoff:         10.7%\n",
      "99 Percent Cutoff:         11.58%\n",
      "\n",
      "--------------  D  --------------\n",
      "\n",
      "Naive Returns:             7.92%\n",
      "\n",
      "80 Percent Cutoff:         10.77%\n",
      "90 Percent Cutoff:         11.44%\n",
      "95 Percent Cutoff:         12.07%\n",
      "99 Percent Cutoff:         13.51%\n",
      "\n",
      "--------------  E  --------------\n",
      "\n",
      "Naive Returns:             7.29%\n",
      "\n",
      "80 Percent Cutoff:         11.52%\n",
      "90 Percent Cutoff:         12.28%\n",
      "95 Percent Cutoff:         12.61%\n",
      "99 Percent Cutoff:         10.35%\n",
      "\n",
      "--------------  F  --------------\n",
      "\n",
      "Naive Returns:             9.54%\n",
      "\n",
      "80 Percent Cutoff:         17.21%\n",
      "90 Percent Cutoff:         19.07%\n",
      "95 Percent Cutoff:         19.55%\n",
      "99 Percent Cutoff:         25.41%\n",
      "\n",
      "--------------  G  --------------\n",
      "\n",
      "Naive Returns:             7.88%\n",
      "\n",
      "80 Percent Cutoff:         15.95%\n",
      "90 Percent Cutoff:         22.29%\n",
      "95 Percent Cutoff:         24.79%\n",
      "99 Percent Cutoff:         40.89%\n",
      "\n"
     ]
    }
   ],
   "source": [
    "returns_by_grade(test.pred4, test.grade, test.pct_return, [80, 90, 95, 99])"
   ]
  },
  {
   "cell_type": "code",
   "execution_count": 66,
   "metadata": {
    "scrolled": true
   },
   "outputs": [],
   "source": [
    "from imblearn.over_sampling import ADASYN, SMOTE"
   ]
  },
  {
   "cell_type": "code",
   "execution_count": 67,
   "metadata": {},
   "outputs": [
    {
     "ename": "NameError",
     "evalue": "name '_safe_indexing' is not defined",
     "output_type": "error",
     "traceback": [
      "\u001b[0;31m---------------------------------------------------------------------------\u001b[0m",
      "\u001b[0;31mNameError\u001b[0m                                 Traceback (most recent call last)",
      "\u001b[0;32m<ipython-input-67-892abadd3188>\u001b[0m in \u001b[0;36m<module>\u001b[0;34m\u001b[0m\n\u001b[1;32m      5\u001b[0m \u001b[0;34m\u001b[0m\u001b[0m\n\u001b[1;32m      6\u001b[0m \u001b[0msampler\u001b[0m \u001b[0;34m=\u001b[0m \u001b[0mADASYN\u001b[0m\u001b[0;34m(\u001b[0m\u001b[0;34m)\u001b[0m\u001b[0;34m\u001b[0m\u001b[0;34m\u001b[0m\u001b[0m\n\u001b[0;32m----> 7\u001b[0;31m \u001b[0msampler\u001b[0m\u001b[0;34m.\u001b[0m\u001b[0mfit_sample\u001b[0m\u001b[0;34m(\u001b[0m\u001b[0msubset\u001b[0m\u001b[0;34m,\u001b[0m \u001b[0ms_y\u001b[0m\u001b[0;34m)\u001b[0m\u001b[0;34m\u001b[0m\u001b[0;34m\u001b[0m\u001b[0m\n\u001b[0m",
      "\u001b[0;32m/opt/anaconda3/lib/python3.7/site-packages/imblearn/base.py\u001b[0m in \u001b[0;36mfit_resample\u001b[0;34m(self, X, y)\u001b[0m\n\u001b[1;32m     79\u001b[0m         )\n\u001b[1;32m     80\u001b[0m \u001b[0;34m\u001b[0m\u001b[0m\n\u001b[0;32m---> 81\u001b[0;31m         \u001b[0moutput\u001b[0m \u001b[0;34m=\u001b[0m \u001b[0mself\u001b[0m\u001b[0;34m.\u001b[0m\u001b[0m_fit_resample\u001b[0m\u001b[0;34m(\u001b[0m\u001b[0mX\u001b[0m\u001b[0;34m,\u001b[0m \u001b[0my\u001b[0m\u001b[0;34m)\u001b[0m\u001b[0;34m\u001b[0m\u001b[0;34m\u001b[0m\u001b[0m\n\u001b[0m\u001b[1;32m     82\u001b[0m \u001b[0;34m\u001b[0m\u001b[0m\n\u001b[1;32m     83\u001b[0m         \u001b[0;32mif\u001b[0m \u001b[0mself\u001b[0m\u001b[0;34m.\u001b[0m\u001b[0m_X_columns\u001b[0m \u001b[0;32mis\u001b[0m \u001b[0;32mnot\u001b[0m \u001b[0;32mNone\u001b[0m \u001b[0;32mor\u001b[0m \u001b[0mself\u001b[0m\u001b[0;34m.\u001b[0m\u001b[0m_y_name\u001b[0m \u001b[0;32mis\u001b[0m \u001b[0;32mnot\u001b[0m \u001b[0;32mNone\u001b[0m\u001b[0;34m:\u001b[0m\u001b[0;34m\u001b[0m\u001b[0;34m\u001b[0m\u001b[0m\n",
      "\u001b[0;32m/opt/anaconda3/lib/python3.7/site-packages/imblearn/over_sampling/_adasyn.py\u001b[0m in \u001b[0;36m_fit_resample\u001b[0;34m(self, X, y)\u001b[0m\n\u001b[1;32m    112\u001b[0m             \u001b[0;32mif\u001b[0m \u001b[0mn_samples\u001b[0m \u001b[0;34m==\u001b[0m \u001b[0;36m0\u001b[0m\u001b[0;34m:\u001b[0m\u001b[0;34m\u001b[0m\u001b[0;34m\u001b[0m\u001b[0m\n\u001b[1;32m    113\u001b[0m                 \u001b[0;32mcontinue\u001b[0m\u001b[0;34m\u001b[0m\u001b[0;34m\u001b[0m\u001b[0m\n\u001b[0;32m--> 114\u001b[0;31m             \u001b[0mtarget_class_indices\u001b[0m \u001b[0;34m=\u001b[0m \u001b[0mnp\u001b[0m\u001b[0;34m.\u001b[0m\u001b[0mflatnonzero\u001b[0m\u001b[0;34m(\u001b[0m\u001b[0my\u001b[0m \u001b[0;34m==\u001b[0m \u001b[0mclass_sample\u001b[0m\u001b[0;34m)\u001b[0m\u001b[0;34m\u001b[0m\u001b[0;34m\u001b[0m\u001b[0m\n\u001b[0m\u001b[1;32m    115\u001b[0m             \u001b[0mX_class\u001b[0m \u001b[0;34m=\u001b[0m \u001b[0m_safe_indexing\u001b[0m\u001b[0;34m(\u001b[0m\u001b[0mX\u001b[0m\u001b[0;34m,\u001b[0m \u001b[0mtarget_class_indices\u001b[0m\u001b[0;34m)\u001b[0m\u001b[0;34m\u001b[0m\u001b[0;34m\u001b[0m\u001b[0m\n\u001b[1;32m    116\u001b[0m \u001b[0;34m\u001b[0m\u001b[0m\n",
      "\u001b[0;31mNameError\u001b[0m: name '_safe_indexing' is not defined"
     ]
    }
   ],
   "source": [
    "subset = X2.iloc[:20, :]\n",
    "\n",
    "\n",
    "s_y = y[:20]\n",
    "\n",
    "sampler = ADASYN()\n",
    "sampler.fit_sample(subset, s_y)"
   ]
  },
  {
   "cell_type": "code",
   "execution_count": 64,
   "metadata": {},
   "outputs": [],
   "source": [
    "def total_int_paid(n, i):\n",
    "    ii = i/12\n",
    "    return n*(ii * (1 + ii) ** n) / ((1+ii)**n - 1)-1\n",
    "\n",
    "total_int_paid(36, .12)\n",
    "\n",
    "test['total_int_paid'] = test.apply(lambda x: total_int_paid(36, x['int_rate']/100), axis=1)\n",
    "\n",
    "test['ev4'] = test['pred4'] * test['total_int_paid'] - (1 - test['pred4']) * .37"
   ]
  },
  {
   "cell_type": "code",
   "execution_count": 65,
   "metadata": {
    "scrolled": true
   },
   "outputs": [
    {
     "name": "stdout",
     "output_type": "stream",
     "text": [
      "--------------  A  --------------\n",
      "\n",
      "Naive Returns:             7.14%\n",
      "\n",
      "80 Percent Cutoff:         8.07%\n",
      "90 Percent Cutoff:         8.4%\n",
      "95 Percent Cutoff:         9.07%\n",
      "99 Percent Cutoff:         9.75%\n",
      "\n",
      "--------------  B  --------------\n",
      "\n",
      "Naive Returns:             8.72%\n",
      "\n",
      "80 Percent Cutoff:         10.66%\n",
      "90 Percent Cutoff:         11.38%\n",
      "95 Percent Cutoff:         12.0%\n",
      "99 Percent Cutoff:         13.48%\n",
      "\n",
      "--------------  C  --------------\n",
      "\n",
      "Naive Returns:             8.3%\n",
      "\n",
      "80 Percent Cutoff:         10.94%\n",
      "90 Percent Cutoff:         11.52%\n",
      "95 Percent Cutoff:         11.92%\n",
      "99 Percent Cutoff:         12.4%\n",
      "\n",
      "--------------  D  --------------\n",
      "\n",
      "Naive Returns:             7.92%\n",
      "\n",
      "80 Percent Cutoff:         11.0%\n",
      "90 Percent Cutoff:         12.52%\n",
      "95 Percent Cutoff:         13.51%\n",
      "99 Percent Cutoff:         16.98%\n",
      "\n",
      "--------------  E  --------------\n",
      "\n",
      "Naive Returns:             7.29%\n",
      "\n",
      "80 Percent Cutoff:         12.27%\n",
      "90 Percent Cutoff:         12.92%\n",
      "95 Percent Cutoff:         13.41%\n",
      "99 Percent Cutoff:         18.4%\n",
      "\n",
      "--------------  F  --------------\n",
      "\n",
      "Naive Returns:             9.54%\n",
      "\n",
      "80 Percent Cutoff:         17.48%\n",
      "90 Percent Cutoff:         19.53%\n",
      "95 Percent Cutoff:         20.79%\n",
      "99 Percent Cutoff:         20.67%\n",
      "\n",
      "--------------  G  --------------\n",
      "\n",
      "Naive Returns:             7.88%\n",
      "\n",
      "80 Percent Cutoff:         16.96%\n",
      "90 Percent Cutoff:         15.38%\n",
      "95 Percent Cutoff:         13.06%\n",
      "99 Percent Cutoff:         43.9%\n",
      "\n"
     ]
    }
   ],
   "source": [
    "returns_by_grade(test.ev4, test.grade, test.pct_return, [80, 90, 95, 99])"
   ]
  },
  {
   "cell_type": "code",
   "execution_count": 73,
   "metadata": {},
   "outputs": [
    {
     "data": {
      "text/plain": [
       "RandomizedSearchCV(cv=5, error_score=nan,\n",
       "                   estimator=RandomForestClassifier(bootstrap=True,\n",
       "                                                    ccp_alpha=0.0,\n",
       "                                                    class_weight=None,\n",
       "                                                    criterion='gini',\n",
       "                                                    max_depth=None,\n",
       "                                                    max_features='auto',\n",
       "                                                    max_leaf_nodes=None,\n",
       "                                                    max_samples=None,\n",
       "                                                    min_impurity_decrease=0.0,\n",
       "                                                    min_impurity_split=None,\n",
       "                                                    min_samples_leaf=1,\n",
       "                                                    min_samples_split=2,\n",
       "                                                    min_weight_fraction_leaf=0.0,\n",
       "                                                    n_estimators=100,\n",
       "                                                    n_jobs=None,\n",
       "                                                    oob_score=False,\n",
       "                                                    random_state=None,\n",
       "                                                    verbose=0,\n",
       "                                                    warm_start=False),\n",
       "                   iid='deprecated', n_iter=40, n_jobs=None,\n",
       "                   param_distributions={'max_depth': [1, 2, 3, 5, 7, 10, 15, 20,\n",
       "                                                      25, 30, 40, 50, 70, 90],\n",
       "                                        'max_features': [2, 3, 4, 5, 7, 10, 15],\n",
       "                                        'n_estimators': [500]},\n",
       "                   pre_dispatch='2*n_jobs', random_state=None, refit=True,\n",
       "                   return_train_score=False, scoring=None, verbose=0)"
      ]
     },
     "execution_count": 73,
     "metadata": {},
     "output_type": "execute_result"
    }
   ],
   "source": [
    "from sklearn.model_selection import RandomizedSearchCV\n",
    "\n",
    "param_grid = {\n",
    "    'max_depth': [1,2,3,5,7,10,15,20,25,30,40,50,70,90],\n",
    "    'max_features': [2,3,4,5,7,10,15],\n",
    "    'n_estimators': [500]\n",
    "}\n",
    "\n",
    "rf7 = ensemble.RandomForestClassifier()\n",
    "\n",
    "rf7_random = RandomizedSearchCV(estimator=rf7, param_distributions = param_grid, n_iter=40, cv=5)\n",
    "\n",
    "rf7_random.fit(X3, y)"
   ]
  },
  {
   "cell_type": "code",
   "execution_count": 74,
   "metadata": {
    "scrolled": true
   },
   "outputs": [
    {
     "data": {
      "text/plain": [
       "{'n_estimators': 500, 'max_features': 3, 'max_depth': 3}"
      ]
     },
     "execution_count": 74,
     "metadata": {},
     "output_type": "execute_result"
    }
   ],
   "source": [
    "rf7_random.best_params_"
   ]
  },
  {
   "cell_type": "code",
   "execution_count": 99,
   "metadata": {
    "scrolled": false
   },
   "outputs": [
    {
     "data": {
      "text/html": [
       "<div>\n",
       "<style scoped>\n",
       "    .dataframe tbody tr th:only-of-type {\n",
       "        vertical-align: middle;\n",
       "    }\n",
       "\n",
       "    .dataframe tbody tr th {\n",
       "        vertical-align: top;\n",
       "    }\n",
       "\n",
       "    .dataframe thead th {\n",
       "        text-align: right;\n",
       "    }\n",
       "</style>\n",
       "<table border=\"1\" class=\"dataframe\">\n",
       "  <thead>\n",
       "    <tr style=\"text-align: right;\">\n",
       "      <th></th>\n",
       "      <th>run_time</th>\n",
       "      <th>max_features</th>\n",
       "      <th>max_depth</th>\n",
       "      <th>rank</th>\n",
       "    </tr>\n",
       "  </thead>\n",
       "  <tbody>\n",
       "    <tr>\n",
       "      <td>0</td>\n",
       "      <td>17.621526</td>\n",
       "      <td>3.0</td>\n",
       "      <td>3.0</td>\n",
       "      <td>1.0</td>\n",
       "    </tr>\n",
       "    <tr>\n",
       "      <td>2</td>\n",
       "      <td>24.025836</td>\n",
       "      <td>2.0</td>\n",
       "      <td>7.0</td>\n",
       "      <td>1.0</td>\n",
       "    </tr>\n",
       "    <tr>\n",
       "      <td>5</td>\n",
       "      <td>70.698313</td>\n",
       "      <td>3.0</td>\n",
       "      <td>20.0</td>\n",
       "      <td>1.0</td>\n",
       "    </tr>\n",
       "    <tr>\n",
       "      <td>6</td>\n",
       "      <td>10.443843</td>\n",
       "      <td>2.0</td>\n",
       "      <td>1.0</td>\n",
       "      <td>1.0</td>\n",
       "    </tr>\n",
       "    <tr>\n",
       "      <td>10</td>\n",
       "      <td>14.234383</td>\n",
       "      <td>2.0</td>\n",
       "      <td>3.0</td>\n",
       "      <td>1.0</td>\n",
       "    </tr>\n",
       "    <tr>\n",
       "      <td>13</td>\n",
       "      <td>37.009632</td>\n",
       "      <td>10.0</td>\n",
       "      <td>3.0</td>\n",
       "      <td>1.0</td>\n",
       "    </tr>\n",
       "    <tr>\n",
       "      <td>16</td>\n",
       "      <td>18.465526</td>\n",
       "      <td>4.0</td>\n",
       "      <td>3.0</td>\n",
       "      <td>1.0</td>\n",
       "    </tr>\n",
       "    <tr>\n",
       "      <td>17</td>\n",
       "      <td>102.894903</td>\n",
       "      <td>4.0</td>\n",
       "      <td>25.0</td>\n",
       "      <td>1.0</td>\n",
       "    </tr>\n",
       "    <tr>\n",
       "      <td>18</td>\n",
       "      <td>18.855312</td>\n",
       "      <td>2.0</td>\n",
       "      <td>5.0</td>\n",
       "      <td>1.0</td>\n",
       "    </tr>\n",
       "    <tr>\n",
       "      <td>22</td>\n",
       "      <td>45.059657</td>\n",
       "      <td>15.0</td>\n",
       "      <td>3.0</td>\n",
       "      <td>1.0</td>\n",
       "    </tr>\n",
       "    <tr>\n",
       "      <td>24</td>\n",
       "      <td>74.988785</td>\n",
       "      <td>7.0</td>\n",
       "      <td>10.0</td>\n",
       "      <td>1.0</td>\n",
       "    </tr>\n",
       "    <tr>\n",
       "      <td>26</td>\n",
       "      <td>49.187157</td>\n",
       "      <td>4.0</td>\n",
       "      <td>10.0</td>\n",
       "      <td>1.0</td>\n",
       "    </tr>\n",
       "    <tr>\n",
       "      <td>27</td>\n",
       "      <td>57.572840</td>\n",
       "      <td>3.0</td>\n",
       "      <td>15.0</td>\n",
       "      <td>1.0</td>\n",
       "    </tr>\n",
       "    <tr>\n",
       "      <td>28</td>\n",
       "      <td>11.970480</td>\n",
       "      <td>2.0</td>\n",
       "      <td>2.0</td>\n",
       "      <td>1.0</td>\n",
       "    </tr>\n",
       "    <tr>\n",
       "      <td>30</td>\n",
       "      <td>19.209145</td>\n",
       "      <td>15.0</td>\n",
       "      <td>1.0</td>\n",
       "      <td>1.0</td>\n",
       "    </tr>\n",
       "    <tr>\n",
       "      <td>33</td>\n",
       "      <td>57.688767</td>\n",
       "      <td>2.0</td>\n",
       "      <td>20.0</td>\n",
       "      <td>1.0</td>\n",
       "    </tr>\n",
       "    <tr>\n",
       "      <td>36</td>\n",
       "      <td>132.128056</td>\n",
       "      <td>10.0</td>\n",
       "      <td>15.0</td>\n",
       "      <td>1.0</td>\n",
       "    </tr>\n",
       "    <tr>\n",
       "      <td>37</td>\n",
       "      <td>11.363846</td>\n",
       "      <td>4.0</td>\n",
       "      <td>1.0</td>\n",
       "      <td>1.0</td>\n",
       "    </tr>\n",
       "    <tr>\n",
       "      <td>38</td>\n",
       "      <td>98.590093</td>\n",
       "      <td>15.0</td>\n",
       "      <td>7.0</td>\n",
       "      <td>1.0</td>\n",
       "    </tr>\n",
       "  </tbody>\n",
       "</table>\n",
       "</div>"
      ],
      "text/plain": [
       "      run_time  max_features  max_depth  rank\n",
       "0    17.621526           3.0        3.0   1.0\n",
       "2    24.025836           2.0        7.0   1.0\n",
       "5    70.698313           3.0       20.0   1.0\n",
       "6    10.443843           2.0        1.0   1.0\n",
       "10   14.234383           2.0        3.0   1.0\n",
       "13   37.009632          10.0        3.0   1.0\n",
       "16   18.465526           4.0        3.0   1.0\n",
       "17  102.894903           4.0       25.0   1.0\n",
       "18   18.855312           2.0        5.0   1.0\n",
       "22   45.059657          15.0        3.0   1.0\n",
       "24   74.988785           7.0       10.0   1.0\n",
       "26   49.187157           4.0       10.0   1.0\n",
       "27   57.572840           3.0       15.0   1.0\n",
       "28   11.970480           2.0        2.0   1.0\n",
       "30   19.209145          15.0        1.0   1.0\n",
       "33   57.688767           2.0       20.0   1.0\n",
       "36  132.128056          10.0       15.0   1.0\n",
       "37   11.363846           4.0        1.0   1.0\n",
       "38   98.590093          15.0        7.0   1.0"
      ]
     },
     "execution_count": 99,
     "metadata": {},
     "output_type": "execute_result"
    }
   ],
   "source": [
    "#rf7_random.cv_results_['mean_fit_time', 'params', 'rank_test_score']\n",
    "\n",
    "results = pd.DataFrame([rf7_random.cv_results_['mean_fit_time'],\n",
    "                        [x['max_features'] for x in rf7_random.cv_results_['params']],\n",
    "                        [x['max_depth'] for x in rf7_random.cv_results_['params']],\n",
    "                        rf7_random.cv_results_['rank_test_score']\n",
    "                       ])\n",
    "results = results.transpose()\n",
    "results.rename(columns = {0: 'run_time', 1: 'max_features', 2: 'max_depth', 3: 'rank'}, inplace=True)\n",
    "results[results['rank']==1.0]"
   ]
  }
 ],
 "metadata": {
  "kernelspec": {
   "display_name": "Python 3",
   "language": "python",
   "name": "python3"
  },
  "language_info": {
   "codemirror_mode": {
    "name": "ipython",
    "version": 3
   },
   "file_extension": ".py",
   "mimetype": "text/x-python",
   "name": "python",
   "nbconvert_exporter": "python",
   "pygments_lexer": "ipython3",
   "version": "3.7.4"
  }
 },
 "nbformat": 4,
 "nbformat_minor": 2
}
