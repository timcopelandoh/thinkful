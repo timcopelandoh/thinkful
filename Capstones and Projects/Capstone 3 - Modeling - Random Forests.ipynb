{
 "cells": [
  {
   "cell_type": "code",
   "execution_count": 2,
   "metadata": {},
   "outputs": [],
   "source": [
    "import numpy as np\n",
    "import pandas as pd\n",
    "import matplotlib.pyplot as plt\n",
    "import seaborn as sns\n",
    "import datetime\n",
    "import warnings\n",
    "\n",
    "warnings.filterwarnings('ignore')\n",
    "%matplotlib inline\n",
    "\n",
    "\n",
    "loan = pd.read_csv('accepted_2007_to_2018Q4.csv')\n",
    "\n",
    "return_number = {\n",
    "    'Jan': 1,\n",
    "    'Feb': 2,\n",
    "    'Mar': 3,\n",
    "    'Apr': 4,\n",
    "    'May': 5,\n",
    "    'Jun': 6,\n",
    "    'Jul': 7,\n",
    "    'Aug': 8,\n",
    "    'Sep': 9,\n",
    "    'Oct': 10,\n",
    "    'Nov': 11,\n",
    "    'Dec': 12\n",
    "}\n",
    "\n",
    "def convert_date(d):\n",
    "    try:\n",
    "        return datetime.date(year=int(d[4:]), month=return_number[d[:3]], day=1)\n",
    "    except:\n",
    "        pass\n",
    "\n",
    "loan['issue_d'] = loan['issue_d'].apply(convert_date)\n",
    "loan['earliest_cr_line'] = loan['earliest_cr_line'].apply(convert_date)\n",
    "\n",
    "loan = loan[loan.issue_d < datetime.date(2015,7,1)]\n",
    "loan = loan[loan.issue_d >= datetime.date(2010,1,1)]\n",
    "\n",
    "loan = loan[loan.term == ' 36 months']\n",
    "\n",
    "loan['earliest_cr_line'] = loan.apply(lambda x: (x['issue_d'] - x['earliest_cr_line']).days, axis=1)\n",
    "\n",
    "loan = loan[(loan.loan_status == 'Fully Paid') | (loan.loan_status == 'Charged Off')]\n",
    "\n",
    "loan = loan[loan.annual_inc < 1000000]\n",
    "\n",
    "loan['ln_annual_inc'] = np.log(loan.annual_inc)\n",
    "\n",
    "loan = loan[loan.revol_util < 150]\n",
    "loan['ln_revol_bal'] = np.log(loan.revol_bal+1)\n",
    "\n",
    "loan['ln_earliest_cr_line'] = np.log(loan.earliest_cr_line)\n",
    "\n",
    "loan['ln_open_acc'] = np.log(loan.open_acc)\n",
    "\n",
    "loan.rename(columns = {'delinq_2yrs': 'num_delinq_2yrs'}, inplace=True)\n",
    "loan['delinq_2yrs'] = (loan['num_delinq_2yrs'] >= 1)\n",
    "\n",
    "loan.rename(columns = {'pub_rec': 'num_pub_rec'}, inplace=True)\n",
    "loan['pub_rec'] = (loan['num_pub_rec'] >= 1)\n",
    "\n",
    "loan.rename(columns = {'inq_last_6mths': 'num_inq_last_6mths'}, inplace=True)\n",
    "loan['inq_last_6mths'] = (loan['num_inq_last_6mths'] >= 1)\n",
    "\n",
    "loan['target'] = (loan['loan_status'] == 'Fully Paid')"
   ]
  },
  {
   "cell_type": "code",
   "execution_count": 3,
   "metadata": {},
   "outputs": [],
   "source": [
    "col_list = ['loan_amnt', 'int_rate', 'ln_annual_inc', 'dti', 'fico_range_high', 'num_delinq_2yrs', 'ln_earliest_cr_line', 'num_inq_last_6mths', 'mths_since_last_delinq', 'mths_since_last_record', 'ln_open_acc', 'num_pub_rec', 'ln_revol_bal', 'revol_util', 'total_acc']\n"
   ]
  },
  {
   "cell_type": "code",
   "execution_count": 4,
   "metadata": {},
   "outputs": [],
   "source": [
    "# We will use 2010-2013 to tune our models, and save data from 2014 and the first \n",
    "# 6 months of 2015 for walk-forward testing\n",
    "\n",
    "train = loan[loan.issue_d < datetime.date(2014, 1, 1)]\n",
    "wf = loan[(loan.issue_d >= datetime.date(2014, 1, 1)) & (loan.issue_d < datetime.date(2015, 7, 1))]\n"
   ]
  },
  {
   "cell_type": "code",
   "execution_count": 5,
   "metadata": {},
   "outputs": [],
   "source": [
    "y = train['target']\n",
    "X1 = train[['loan_amnt', 'ln_annual_inc', 'dti', 'fico_range_high', 'delinq_2yrs', 'num_delinq_2yrs', 'ln_earliest_cr_line', 'inq_last_6mths', 'num_inq_last_6mths', 'ln_open_acc', 'pub_rec', 'num_pub_rec', 'ln_revol_bal', 'revol_util', 'total_acc']]\n",
    "X2 = pd.concat([X1, train.int_rate, pd.get_dummies(train.grade)], axis=1)\n",
    "X3 = pd.concat([X1, train.int_rate, pd.get_dummies(train.sub_grade)], axis=1)\n"
   ]
  },
  {
   "cell_type": "code",
   "execution_count": 10,
   "metadata": {},
   "outputs": [],
   "source": [
    "X1_test = test[['loan_amnt', 'ln_annual_inc', 'dti', 'fico_range_high', 'delinq_2yrs', 'num_delinq_2yrs', 'ln_earliest_cr_line', 'inq_last_6mths', 'num_inq_last_6mths', 'ln_open_acc', 'pub_rec', 'num_pub_rec', 'ln_revol_bal', 'revol_util', 'total_acc']]\n",
    "X2_test = pd.concat([X1_test, test.int_rate, pd.get_dummies(test.grade)], axis=1)\n",
    "X3_test = pd.concat([X1_test, test.int_rate, pd.get_dummies(test.sub_grade)], axis=1)\n",
    "y_test = test['target']"
   ]
  },
  {
   "cell_type": "code",
   "execution_count": 37,
   "metadata": {},
   "outputs": [
    {
     "name": "stdout",
     "output_type": "stream",
     "text": [
      "0.8761131128523608\n"
     ]
    }
   ],
   "source": [
    "from sklearn import ensemble\n",
    "from sklearn.model_selection import cross_val_score\n",
    "\n",
    "rfc1 = ensemble.RandomForestClassifier(max_depth=5, max_features=5)\n",
    "scores = cross_val_score(rfc1, X1, y, cv=10)\n",
    "print(scores.mean())\n",
    "\n"
   ]
  },
  {
   "cell_type": "code",
   "execution_count": 38,
   "metadata": {
    "scrolled": false
   },
   "outputs": [
    {
     "data": {
      "text/plain": [
       "array([0.01396028, 0.30137375, 0.09170774, 0.36008385, 0.00158728,\n",
       "       0.00192742, 0.00851526, 0.06458054, 0.04912198, 0.00865634,\n",
       "       0.        , 0.00161057, 0.02166194, 0.05467861, 0.02053443])"
      ]
     },
     "execution_count": 38,
     "metadata": {},
     "output_type": "execute_result"
    }
   ],
   "source": [
    "rfc1.fit(X1, y)\n",
    "\n",
    "rfc1.feature_importances_"
   ]
  },
  {
   "cell_type": "code",
   "execution_count": 39,
   "metadata": {},
   "outputs": [],
   "source": [
    "pred1 = rfc1.predict_proba(X1_test)"
   ]
  },
  {
   "cell_type": "code",
   "execution_count": 40,
   "metadata": {},
   "outputs": [
    {
     "data": {
      "text/plain": [
       "<matplotlib.axes._subplots.AxesSubplot at 0x1a307dea90>"
      ]
     },
     "execution_count": 40,
     "metadata": {},
     "output_type": "execute_result"
    },
    {
     "data": {
      "image/png": "[encoded data removed]",
      "text/plain": [
       "<Figure size 432x288 with 1 Axes>"
      ]
     },
     "metadata": {
      "needs_background": "light"
     },
     "output_type": "display_data"
    }
   ],
   "source": [
    "sns.distplot([x[1] for x in pred1], kde=False)"
   ]
  },
  {
   "cell_type": "code",
   "execution_count": 44,
   "metadata": {},
   "outputs": [],
   "source": [
    "test['pred1'] = [x[1] for x in pred1]"
   ]
  },
  {
   "cell_type": "code",
   "execution_count": 45,
   "metadata": {},
   "outputs": [],
   "source": [
    "test['pct_return'] = (test.total_pymnt - test.funded_amnt) / test.funded_amnt\n"
   ]
  },
  {
   "cell_type": "code",
   "execution_count": 48,
   "metadata": {},
   "outputs": [
    {
     "name": "stdout",
     "output_type": "stream",
     "text": [
      "-----------------  A  -----------------\n",
      "\n",
      "Naive Returns:       7.141438714524952\n",
      "\n",
      "Model 1:\n",
      ">80th percentile:    7.282117020107001\n",
      ">90th percentile:    7.359706867524853\n",
      ">95th percentile:    7.067279929572543\n",
      ">99th percentile:    6.72450743969395\n",
      "\n",
      "\n",
      "-----------------  B  -----------------\n",
      "\n",
      "Naive Returns:       8.71693709483582\n",
      "\n",
      "Model 1:\n",
      ">80th percentile:    9.303162254771124\n",
      ">90th percentile:    9.197712522226567\n",
      ">95th percentile:    8.93804434080986\n",
      ">99th percentile:    8.794059882009835\n",
      "\n",
      "\n",
      "-----------------  C  -----------------\n",
      "\n",
      "Naive Returns:       8.296905799613116\n",
      "\n",
      "Model 1:\n",
      ">80th percentile:    9.884646185854203\n",
      ">90th percentile:    10.166566917448922\n",
      ">95th percentile:    10.070074996924586\n",
      ">99th percentile:    9.711266022661919\n",
      "\n",
      "\n",
      "-----------------  D  -----------------\n",
      "\n",
      "Naive Returns:       7.915659945631005\n",
      "\n",
      "Model 1:\n",
      ">80th percentile:    9.689230688653016\n",
      ">90th percentile:    9.463335321100354\n",
      ">95th percentile:    9.286752247104964\n",
      ">99th percentile:    9.474272740620123\n",
      "\n",
      "\n",
      "-----------------  E  -----------------\n",
      "\n",
      "Naive Returns:       7.291694950786074\n",
      "\n",
      "Model 1:\n",
      ">80th percentile:    8.472339127834788\n",
      ">90th percentile:    7.87531230618614\n",
      ">95th percentile:    6.575498286295882\n",
      ">99th percentile:    6.7326150104023625\n",
      "\n",
      "\n",
      "-----------------  F  -----------------\n",
      "\n",
      "Naive Returns:       9.535019756814036\n",
      "\n",
      "Model 1:\n",
      ">80th percentile:    10.977827624071255\n",
      ">90th percentile:    11.664255550756366\n",
      ">95th percentile:    7.44716083498469\n",
      ">99th percentile:    -2.1382095167633923\n",
      "\n",
      "\n",
      "-----------------  G  -----------------\n",
      "\n",
      "Naive Returns:       7.877324088472641\n",
      "\n",
      "Model 1:\n",
      ">80th percentile:    12.854644109681097\n",
      ">90th percentile:    12.065630738639301\n",
      ">95th percentile:    8.734613521882974\n",
      ">99th percentile:    35.77547197050705\n",
      "\n",
      "\n"
     ]
    }
   ],
   "source": [
    "letters = ['A', 'B', 'C', 'D', 'E', 'F', 'G']\n",
    "\n",
    "test['pct_return'] = (test.total_pymnt - test.funded_amnt) / test.funded_amnt\n",
    "\n",
    "for letter in letters:\n",
    "    thresh_m1_80 = np.percentile(test[test.grade == letter]['pred1'], q=80)\n",
    "\n",
    "    thresh_m1_90 = np.percentile(test[test.grade == letter]['pred1'], q=90)\n",
    "\n",
    "    thresh_m1_95 = np.percentile(test[test.grade == letter]['pred1'], q=95)\n",
    "    \n",
    "    thresh_m1_99 = np.percentile(test[test.grade == letter]['pred1'], q=99)\n",
    "\n",
    "    print('-----------------  ' + letter + '  -----------------')\n",
    "    print('')\n",
    "    \n",
    "    print('Naive Returns:       {}'.format(test[test.grade==letter]['pct_return'].mean()*100))\n",
    "    \n",
    "    print('')\n",
    "    print('Model 1:')\n",
    "    print('>80th percentile:    {}'.format(test[(test.grade==letter)&(test.pred1 >= thresh_m1_80)]['pct_return'].mean()*100))\n",
    "    print('>90th percentile:    {}'.format(test[(test.grade==letter)&(test.pred1 >= thresh_m1_90)]['pct_return'].mean()*100))\n",
    "    print('>95th percentile:    {}'.format(test[(test.grade==letter)&(test.pred1 >= thresh_m1_95)]['pct_return'].mean()*100))\n",
    "    print('>99th percentile:    {}'.format(test[(test.grade==letter)&(test.pred1 >= thresh_m1_99)]['pct_return'].mean()*100))\n",
    "\n",
    "    print('\\n')"
   ]
  }
 ],
 "metadata": {
  "kernelspec": {
   "display_name": "Python 3",
   "language": "python",
   "name": "python3"
  },
  "language_info": {
   "codemirror_mode": {
    "name": "ipython",
    "version": 3
   },
   "file_extension": ".py",
   "mimetype": "text/x-python",
   "name": "python",
   "nbconvert_exporter": "python",
   "pygments_lexer": "ipython3",
   "version": "3.7.3"
  }
 },
 "nbformat": 4,
 "nbformat_minor": 2
}
