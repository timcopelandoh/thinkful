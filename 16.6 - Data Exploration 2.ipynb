{
 "cells": [
  {
   "cell_type": "code",
   "execution_count": 25,
   "metadata": {},
   "outputs": [],
   "source": [
    "import matplotlib.pyplot as plt\n",
    "import numpy as np\n",
    "import pandas as pd\n",
    "from sqlalchemy import create_engine\n",
    "import warnings\n",
    "import seaborn as sns\n",
    "import scipy.stats as stats\n",
    "\n",
    "pd.set_option('display.float_format', lambda x: '%.5f' % x)\n",
    "\n",
    "warnings.filterwarnings('ignore')\n",
    "\n",
    "postgres_user = 'dsbc_student'\n",
    "postgres_pw = '7*.8G9QH21'\n",
    "postgres_host = '142.93.121.174'\n",
    "postgres_port = '5432'\n",
    "postgres_db = 'studentsperformance'\n",
    "\n",
    "engine = create_engine('postgresql://{}:{}@{}:{}/{}'.format(\n",
    "    postgres_user, postgres_pw, postgres_host, postgres_port, postgres_db))\n",
    "\n",
    "student = pd.read_sql_query('select * from studentsperformance',con=engine)\n",
    "\n",
    "engine.dispose()"
   ]
  },
  {
   "cell_type": "code",
   "execution_count": 3,
   "metadata": {},
   "outputs": [
    {
     "data": {
      "text/html": [
       "<div>\n",
       "<style scoped>\n",
       "    .dataframe tbody tr th:only-of-type {\n",
       "        vertical-align: middle;\n",
       "    }\n",
       "\n",
       "    .dataframe tbody tr th {\n",
       "        vertical-align: top;\n",
       "    }\n",
       "\n",
       "    .dataframe thead th {\n",
       "        text-align: right;\n",
       "    }\n",
       "</style>\n",
       "<table border=\"1\" class=\"dataframe\">\n",
       "  <thead>\n",
       "    <tr style=\"text-align: right;\">\n",
       "      <th></th>\n",
       "      <th>math score</th>\n",
       "      <th>reading score</th>\n",
       "      <th>writing score</th>\n",
       "    </tr>\n",
       "  </thead>\n",
       "  <tbody>\n",
       "    <tr>\n",
       "      <th>count</th>\n",
       "      <td>1000.00000</td>\n",
       "      <td>1000.00000</td>\n",
       "      <td>1000.00000</td>\n",
       "    </tr>\n",
       "    <tr>\n",
       "      <th>mean</th>\n",
       "      <td>66.08900</td>\n",
       "      <td>69.16900</td>\n",
       "      <td>68.05400</td>\n",
       "    </tr>\n",
       "    <tr>\n",
       "      <th>std</th>\n",
       "      <td>15.16308</td>\n",
       "      <td>14.60019</td>\n",
       "      <td>15.19566</td>\n",
       "    </tr>\n",
       "    <tr>\n",
       "      <th>min</th>\n",
       "      <td>0.00000</td>\n",
       "      <td>17.00000</td>\n",
       "      <td>10.00000</td>\n",
       "    </tr>\n",
       "    <tr>\n",
       "      <th>25%</th>\n",
       "      <td>57.00000</td>\n",
       "      <td>59.00000</td>\n",
       "      <td>57.75000</td>\n",
       "    </tr>\n",
       "    <tr>\n",
       "      <th>50%</th>\n",
       "      <td>66.00000</td>\n",
       "      <td>70.00000</td>\n",
       "      <td>69.00000</td>\n",
       "    </tr>\n",
       "    <tr>\n",
       "      <th>75%</th>\n",
       "      <td>77.00000</td>\n",
       "      <td>79.00000</td>\n",
       "      <td>79.00000</td>\n",
       "    </tr>\n",
       "    <tr>\n",
       "      <th>max</th>\n",
       "      <td>100.00000</td>\n",
       "      <td>100.00000</td>\n",
       "      <td>100.00000</td>\n",
       "    </tr>\n",
       "  </tbody>\n",
       "</table>\n",
       "</div>"
      ],
      "text/plain": [
       "       math score  reading score  writing score\n",
       "count  1000.00000     1000.00000     1000.00000\n",
       "mean     66.08900       69.16900       68.05400\n",
       "std      15.16308       14.60019       15.19566\n",
       "min       0.00000       17.00000       10.00000\n",
       "25%      57.00000       59.00000       57.75000\n",
       "50%      66.00000       70.00000       69.00000\n",
       "75%      77.00000       79.00000       79.00000\n",
       "max     100.00000      100.00000      100.00000"
      ]
     },
     "execution_count": 3,
     "metadata": {},
     "output_type": "execute_result"
    }
   ],
   "source": [
    "student.describe()"
   ]
  },
  {
   "cell_type": "code",
   "execution_count": 14,
   "metadata": {
    "scrolled": true
   },
   "outputs": [
    {
     "data": {
      "text/html": [
       "<div>\n",
       "<style scoped>\n",
       "    .dataframe tbody tr th:only-of-type {\n",
       "        vertical-align: middle;\n",
       "    }\n",
       "\n",
       "    .dataframe tbody tr th {\n",
       "        vertical-align: top;\n",
       "    }\n",
       "\n",
       "    .dataframe thead th {\n",
       "        text-align: right;\n",
       "    }\n",
       "</style>\n",
       "<table border=\"1\" class=\"dataframe\">\n",
       "  <thead>\n",
       "    <tr style=\"text-align: right;\">\n",
       "      <th></th>\n",
       "      <th>gender</th>\n",
       "      <th>race/ethnicity</th>\n",
       "      <th>parental level of education</th>\n",
       "      <th>lunch</th>\n",
       "      <th>test preparation course</th>\n",
       "      <th>math score</th>\n",
       "      <th>reading score</th>\n",
       "      <th>writing score</th>\n",
       "    </tr>\n",
       "  </thead>\n",
       "  <tbody>\n",
       "    <tr>\n",
       "      <th>0</th>\n",
       "      <td>female</td>\n",
       "      <td>group B</td>\n",
       "      <td>bachelor's degree</td>\n",
       "      <td>standard</td>\n",
       "      <td>none</td>\n",
       "      <td>72</td>\n",
       "      <td>72</td>\n",
       "      <td>74</td>\n",
       "    </tr>\n",
       "    <tr>\n",
       "      <th>1</th>\n",
       "      <td>female</td>\n",
       "      <td>group C</td>\n",
       "      <td>some college</td>\n",
       "      <td>standard</td>\n",
       "      <td>completed</td>\n",
       "      <td>69</td>\n",
       "      <td>90</td>\n",
       "      <td>88</td>\n",
       "    </tr>\n",
       "    <tr>\n",
       "      <th>2</th>\n",
       "      <td>female</td>\n",
       "      <td>group B</td>\n",
       "      <td>master's degree</td>\n",
       "      <td>standard</td>\n",
       "      <td>none</td>\n",
       "      <td>90</td>\n",
       "      <td>95</td>\n",
       "      <td>93</td>\n",
       "    </tr>\n",
       "    <tr>\n",
       "      <th>3</th>\n",
       "      <td>male</td>\n",
       "      <td>group A</td>\n",
       "      <td>associate's degree</td>\n",
       "      <td>free/reduced</td>\n",
       "      <td>none</td>\n",
       "      <td>47</td>\n",
       "      <td>57</td>\n",
       "      <td>44</td>\n",
       "    </tr>\n",
       "    <tr>\n",
       "      <th>4</th>\n",
       "      <td>male</td>\n",
       "      <td>group C</td>\n",
       "      <td>some college</td>\n",
       "      <td>standard</td>\n",
       "      <td>none</td>\n",
       "      <td>76</td>\n",
       "      <td>78</td>\n",
       "      <td>75</td>\n",
       "    </tr>\n",
       "  </tbody>\n",
       "</table>\n",
       "</div>"
      ],
      "text/plain": [
       "   gender race/ethnicity parental level of education         lunch  \\\n",
       "0  female        group B           bachelor's degree      standard   \n",
       "1  female        group C                some college      standard   \n",
       "2  female        group B             master's degree      standard   \n",
       "3    male        group A          associate's degree  free/reduced   \n",
       "4    male        group C                some college      standard   \n",
       "\n",
       "  test preparation course  math score  reading score  writing score  \n",
       "0                    none          72             72             74  \n",
       "1               completed          69             90             88  \n",
       "2                    none          90             95             93  \n",
       "3                    none          47             57             44  \n",
       "4                    none          76             78             75  "
      ]
     },
     "execution_count": 14,
     "metadata": {},
     "output_type": "execute_result"
    }
   ],
   "source": [
    "student.head()"
   ]
  },
  {
   "cell_type": "markdown",
   "metadata": {},
   "source": [
    "# Question 1"
   ]
  },
  {
   "cell_type": "code",
   "execution_count": 18,
   "metadata": {},
   "outputs": [
    {
     "data": {
      "image/png": "[encoded data removed]",
      "text/plain": [
       "<Figure size 1080x1080 with 9 Axes>"
      ]
     },
     "metadata": {
      "needs_background": "light"
     },
     "output_type": "display_data"
    }
   ],
   "source": [
    "plt.figure(figsize=[15,15])\n",
    "plt.subplot(3,3,1)\n",
    "plt.title('Math Score by Gender')\n",
    "sns.barplot(student['gender'],student['math score'])\n",
    "plt.subplot(3,3,2)\n",
    "plt.title('Reading Score by Gender')\n",
    "sns.barplot(student['gender'],student['reading score'])\n",
    "plt.subplot(3,3,3)\n",
    "plt.title('Writing Score by Gender')\n",
    "sns.barplot(student['gender'],student['writing score'])\n",
    "\n",
    "plt.subplot(3,3,4)\n",
    "plt.title('Math Score by Race/Ethnicity')\n",
    "sns.barplot(student['race/ethnicity'],student['math score'])\n",
    "plt.subplot(3,3,5)\n",
    "plt.title('Reading Score by Race/Ethnicity')\n",
    "sns.barplot(student['race/ethnicity'],student['reading score'])\n",
    "plt.subplot(3,3,6)\n",
    "plt.title('Writing Score by Race/Ethnicity')\n",
    "sns.barplot(student['race/ethnicity'],student['writing score'])\n",
    "\n",
    "plt.subplot(3,3,7)\n",
    "plt.title('Math Score by Parental Education')\n",
    "sns.barplot(student['parental level of education'],student['math score'])\n",
    "plt.xticks(rotation=45)\n",
    "plt.subplot(3,3,8)\n",
    "plt.title('Reading Score by Parental Education')\n",
    "sns.barplot(student['parental level of education'],student['reading score'])\n",
    "plt.xticks(rotation=45)\n",
    "plt.subplot(3,3,9)\n",
    "plt.title('Writing Score by Parental Education')\n",
    "sns.barplot(student['parental level of education'],student['writing score'])\n",
    "plt.xticks(rotation=45)\n",
    "\n",
    "plt.show()"
   ]
  },
  {
   "cell_type": "code",
   "execution_count": 51,
   "metadata": {},
   "outputs": [
    {
     "name": "stdout",
     "output_type": "stream",
     "text": [
      "\n",
      "\n",
      "\n",
      "Math Score by Gender\n",
      "T-test between female and male:\n",
      "Ttest_indResult(statistic=-5.383245869828983, pvalue=9.120185549328822e-08)\n",
      "\n",
      "\n",
      "\n",
      "Reading Score by Gender\n",
      "T-test between female and male:\n",
      "Ttest_indResult(statistic=7.959308005187657, pvalue=4.680538743933289e-15)\n",
      "\n",
      "\n",
      "\n",
      "Writing Score by Gender\n",
      "T-test between female and male:\n",
      "Ttest_indResult(statistic=9.979557910004507, pvalue=2.019877706867934e-22)\n",
      "\n",
      "\n",
      "\n",
      "Math Score by Race/Ethnicity\n",
      "T-test between group B and group C:\n",
      "Ttest_indResult(statistic=-0.7315669893534263, pvalue=0.4647708939167453)\n",
      "T-test between group B and group A:\n",
      "Ttest_indResult(statistic=0.9355076279747488, pvalue=0.3503415961659957)\n",
      "T-test between group B and group D:\n",
      "Ttest_indResult(statistic=-2.82845539712675, pvalue=0.004886197137104194)\n",
      "T-test between group B and group E:\n",
      "Ttest_indResult(statistic=-6.007397050552227, pvalue=5.007946047497971e-09)\n",
      "T-test between group C and group A:\n",
      "Ttest_indResult(statistic=1.5997220303217299, pvalue=0.11043810745588042)\n",
      "T-test between group C and group D:\n",
      "Ttest_indResult(statistic=-2.41858624746011, pvalue=0.015888349556016285)\n",
      "T-test between group C and group E:\n",
      "Ttest_indResult(statistic=-6.127642520822135, pvalue=1.927238849552764e-09)\n",
      "T-test between group A and group D:\n",
      "Ttest_indResult(statistic=-3.3466982429712298, pvalue=0.0009068636053543751)\n",
      "T-test between group A and group E:\n",
      "Ttest_indResult(statistic=-5.936141025544798, pvalue=1.083559122656415e-08)\n",
      "T-test between group D and group E:\n",
      "Ttest_indResult(statistic=-4.282287214674715, pvalue=2.3187640326715042e-05)\n",
      "\n",
      "\n",
      "\n",
      "Reading Score by Race/Ethnicity\n",
      "T-test between group B and group C:\n",
      "Ttest_indResult(statistic=-1.3223156212901772, pvalue=0.1866592809035069)\n",
      "T-test between group B and group A:\n",
      "Ttest_indResult(statistic=1.3633682262027682, pvalue=0.1738735513443721)\n",
      "T-test between group B and group D:\n",
      "Ttest_indResult(statistic=-1.9451563636864795, pvalue=0.0523786206559701)\n",
      "T-test between group B and group E:\n",
      "Ttest_indResult(statistic=-3.386066945409153, pvalue=0.0007951618495240944)\n",
      "T-test between group C and group A:\n",
      "Ttest_indResult(statistic=2.575432218066352, pvalue=0.010364398025471079)\n",
      "T-test between group C and group D:\n",
      "Ttest_indResult(statistic=-0.7970109316408917, pvalue=0.425771382113019)\n",
      "T-test between group C and group E:\n",
      "Ttest_indResult(statistic=-2.7133018645371685, pvalue=0.0069132842804986595)\n",
      "T-test between group A and group D:\n",
      "Ttest_indResult(statistic=-3.0468548573461187, pvalue=0.002488654464332207)\n",
      "T-test between group A and group E:\n",
      "Ttest_indResult(statistic=-4.071106227981414, pvalue=6.463395931833847e-05)\n",
      "T-test between group D and group E:\n",
      "Ttest_indResult(statistic=-2.0106479406031794, pvalue=0.045033306431345586)\n",
      "\n",
      "\n",
      "\n",
      "Writing Score by Race/Ethnicity\n",
      "T-test between group B and group C:\n",
      "Ttest_indResult(statistic=-1.5964963433740407, pvalue=0.1110010959814519)\n",
      "T-test between group B and group A:\n",
      "Ttest_indResult(statistic=1.4624420577998105, pvalue=0.14475374198993884)\n",
      "T-test between group B and group D:\n",
      "Ttest_indResult(statistic=-3.19929333232526, pvalue=0.0014749978881319053)\n",
      "T-test between group B and group E:\n",
      "Ttest_indResult(statistic=-3.3831978345244518, pvalue=0.0008032300486353951)\n",
      "T-test between group C and group A:\n",
      "Ttest_indResult(statistic=2.848872404992454, pvalue=0.004610690740740428)\n",
      "T-test between group C and group D:\n",
      "Ttest_indResult(statistic=-1.8896631516726248, pvalue=0.05930232918708209)\n",
      "T-test between group C and group E:\n",
      "Ttest_indResult(statistic=-2.3502811868359177, pvalue=0.019183539018898285)\n",
      "T-test between group A and group D:\n",
      "Ttest_indResult(statistic=-4.1556316361449195, pvalue=4.084805733969806e-05)\n",
      "T-test between group A and group E:\n",
      "Ttest_indResult(statistic=-4.2234736631970105, pvalue=3.483278064499439e-05)\n",
      "T-test between group D and group E:\n",
      "Ttest_indResult(statistic=-0.8239736571520918, pvalue=0.4104455517392258)\n",
      "\n",
      "\n",
      "\n",
      "Math Score by Parental Level Of Education\n",
      "T-test between bachelor's degree and some college:\n",
      "Ttest_indResult(statistic=1.3702352829617477, pvalue=0.17151224218471559)\n",
      "T-test between bachelor's degree and master's degree:\n",
      "Ttest_indResult(statistic=-0.14868196568849312, pvalue=0.8819757824867702)\n",
      "T-test between bachelor's degree and associate's degree:\n",
      "Ttest_indResult(statistic=0.8786641889793243, pvalue=0.38020757818036177)\n",
      "T-test between bachelor's degree and high school:\n",
      "Ttest_indResult(statistic=4.236143622484822, pvalue=2.9965345853843376e-05)\n",
      "T-test between bachelor's degree and some high school:\n",
      "Ttest_indResult(statistic=3.196718602676573, pvalue=0.0015409192922812146)\n",
      "T-test between some college and master's degree:\n",
      "Ttest_indResult(statistic=-1.2356334215824571, pvalue=0.21761956810347416)\n",
      "T-test between some college and associate's degree:\n",
      "Ttest_indResult(statistic=-0.5426842696247527, pvalue=0.5876182809234072)\n",
      "T-test between some college and high school:\n",
      "Ttest_indResult(statistic=3.5461079495681163, pvalue=0.00043498004192453146)\n",
      "T-test between some college and some high school:\n",
      "Ttest_indResult(statistic=2.4117046231407633, pvalue=0.016324361572645503)\n",
      "T-test between master's degree and associate's degree:\n",
      "Ttest_indResult(statistic=0.8411229688563471, pvalue=0.4009993636124658)\n",
      "T-test between master's degree and high school:\n",
      "Ttest_indResult(statistic=3.4893759321890823, pvalue=0.000570929230228812)\n",
      "T-test between master's degree and some high school:\n",
      "Ttest_indResult(statistic=2.6442572081925526, pvalue=0.008736228790471057)\n",
      "T-test between associate's degree and high school:\n",
      "Ttest_indResult(statistic=3.9481325318265013, pvalue=9.247314274963044e-05)\n",
      "T-test between associate's degree and some high school:\n",
      "Ttest_indResult(statistic=2.820053979930256, pvalue=0.005041081492906143)\n",
      "T-test between high school and some high school:\n",
      "Ttest_indResult(statistic=-0.8640629490772553, pvalue=0.388108610360687)\n",
      "\n",
      "\n",
      "\n",
      "Reading Score by Parental Level Of Education\n",
      "T-test between bachelor's degree and some college:\n",
      "Ttest_indResult(statistic=2.2048821209085077, pvalue=0.028127555314401052)\n",
      "T-test between bachelor's degree and master's degree:\n",
      "Ttest_indResult(statistic=-1.0540858949475984, pvalue=0.29329675131787897)\n",
      "T-test between bachelor's degree and associate's degree:\n",
      "Ttest_indResult(statistic=1.2977969850452833, pvalue=0.19524206483091092)\n",
      "T-test between bachelor's degree and high school:\n",
      "Ttest_indResult(statistic=5.017577900835298, pvalue=8.804250310784477e-07)\n",
      "T-test between bachelor's degree and some high school:\n",
      "Ttest_indResult(statistic=3.4039270673798745, pvalue=0.0007561971719730451)\n",
      "T-test between some college and master's degree:\n",
      "Ttest_indResult(statistic=-2.888843374950649, pvalue=0.004165440800640354)\n",
      "T-test between some college and associate's degree:\n",
      "Ttest_indResult(statistic=-1.11231882169149, pvalue=0.26660028539980146)\n",
      "T-test between some college and high school:\n",
      "Ttest_indResult(statistic=3.4578427683620334, pvalue=0.0006001048481252139)\n",
      "T-test between some college and some high school:\n",
      "Ttest_indResult(statistic=1.714161972758909, pvalue=0.08726786856243877)\n",
      "T-test between master's degree and associate's degree:\n",
      "Ttest_indResult(statistic=2.1912015759838686, pvalue=0.02926414570972208)\n",
      "T-test between master's degree and high school:\n",
      "Ttest_indResult(statistic=5.113158728723477, pvalue=6.257558119816884e-07)\n",
      "T-test between master's degree and some high school:\n",
      "Ttest_indResult(statistic=3.7261574122231513, pvalue=0.00024334552617191513)\n",
      "T-test between associate's degree and high school:\n",
      "Ttest_indResult(statistic=4.538021419898997, pvalue=7.442167797135797e-06)\n",
      "T-test between associate's degree and some high school:\n",
      "Ttest_indResult(statistic=2.7183602204037927, pvalue=0.006846770119677965)\n",
      "T-test between high school and some high school:\n",
      "Ttest_indResult(statistic=-1.461284757591555, pvalue=0.1447791955248275)\n",
      "\n",
      "\n",
      "\n",
      "Writing Score by Parental Level Of Education\n",
      "T-test between bachelor's degree and some college:\n",
      "Ttest_indResult(statistic=2.6803314684632196, pvalue=0.00771101202367254)\n",
      "T-test between bachelor's degree and master's degree:\n",
      "Ttest_indResult(statistic=-0.9998741306804844, pvalue=0.3187519641464658)\n",
      "T-test between bachelor's degree and associate's degree:\n",
      "Ttest_indResult(statistic=2.1159296639133762, pvalue=0.03508162451719667)\n",
      "T-test between bachelor's degree and high school:\n",
      "Ttest_indResult(statistic=6.547380937127048, pvalue=2.4076253789515874e-10)\n",
      "T-test between bachelor's degree and some high school:\n",
      "Ttest_indResult(statistic=4.667733097498242, pvalue=4.628198526834338e-06)\n",
      "T-test between some college and master's degree:\n",
      "Ttest_indResult(statistic=-3.1687690632394907, pvalue=0.0016985933135959495)\n",
      "T-test between some college and associate's degree:\n",
      "Ttest_indResult(statistic=-0.7615968643953912, pvalue=0.44670316603036575)\n",
      "T-test between some college and high school:\n",
      "Ttest_indResult(statistic=4.488520877492127, pvalue=9.275017802620877e-06)\n",
      "T-test between some college and some high school:\n",
      "Ttest_indResult(statistic=2.5757211403792417, pvalue=0.010358529086081357)\n",
      "T-test between master's degree and associate's degree:\n",
      "Ttest_indResult(statistic=2.78124154906855, pvalue=0.00578403270525775)\n",
      "T-test between master's degree and high school:\n",
      "Ttest_indResult(statistic=6.360904883721531, pvalue=9.326930296880332e-10)\n",
      "T-test between master's degree and some high school:\n",
      "Ttest_indResult(statistic=4.707583817143559, pvalue=4.275465153074631e-06)\n",
      "T-test between associate's degree and high school:\n",
      "Ttest_indResult(statistic=5.348725635626432, pvalue=1.4650545536741998e-07)\n",
      "T-test between associate's degree and some high school:\n",
      "Ttest_indResult(statistic=3.3317223453475715, pvalue=0.0009435990258795855)\n",
      "T-test between high school and some high school:\n",
      "Ttest_indResult(statistic=-1.5838885273076473, pvalue=0.11406653932963291)\n",
      "\n",
      "\n",
      "Percentage of tests with p-value above 0.1:  70.51282051282051\n",
      "Percentage of tests with p-value above 0.05:  66.66666666666667\n",
      "Percentage of tests with p-value above 0.01:  55.12820512820513\n"
     ]
    }
   ],
   "source": [
    "groupings = ['gender', 'race/ethnicity', 'parental level of education']\n",
    "plist = []\n",
    "for grouping in groupings:\n",
    "    for var in ['math score', 'reading score', 'writing score']:\n",
    "        print('\\n\\n\\n{} by {}'.format(var.title(), grouping.title()))\n",
    "        groups = student[grouping].unique()\n",
    "        l = len(groups)\n",
    "        for i in range(0,l):\n",
    "            for j in range(i+1,l):\n",
    "                print('T-test between {} and {}:'.format(groups[i], groups[j]))\n",
    "                test = stats.ttest_ind(\n",
    "                    student[var][student[grouping] == groups[i]],\n",
    "                    student[var][student[grouping] == groups[j]]\n",
    "                )\n",
    "                print(test)\n",
    "                plist.append(test.pvalue)\n",
    "\n",
    "print('\\n\\nPercentage of tests with p-value above 0.1: ', str(round(sum([p <= .1 for p in plist]),3)*100/len(plist)))\n",
    "print('Percentage of tests with p-value above 0.05: ', str(round(sum([p <= .05 for p in plist]),3)*100/len(plist)))\n",
    "print('Percentage of tests with p-value above 0.01: ', str(round(sum([p <= .01 for p in plist]),3)*100/len(plist)))"
   ]
  },
  {
   "cell_type": "code",
   "execution_count": null,
   "metadata": {},
   "outputs": [],
   "source": [
    "Two-thirds of group comparisons have statistically significant differences"
   ]
  },
  {
   "cell_type": "markdown",
   "metadata": {},
   "source": [
    "# Question 2"
   ]
  },
  {
   "cell_type": "code",
   "execution_count": 52,
   "metadata": {},
   "outputs": [
    {
     "data": {
      "text/plain": [
       "array(['standard', 'free/reduced'], dtype=object)"
      ]
     },
     "execution_count": 52,
     "metadata": {},
     "output_type": "execute_result"
    }
   ],
   "source": [
    "student['lunch'].unique()"
   ]
  },
  {
   "cell_type": "code",
   "execution_count": 57,
   "metadata": {},
   "outputs": [
    {
     "name": "stdout",
     "output_type": "stream",
     "text": [
      "Math Score:\n",
      "Ttest_indResult(statistic=11.837180472914612, pvalue=2.4131955993137074e-30)\n",
      "\n",
      "\n",
      "Reading Score:\n",
      "Ttest_indResult(statistic=7.451056467473455, pvalue=2.0027966545279011e-13)\n",
      "\n",
      "\n",
      "Writing Score:\n",
      "Ttest_indResult(statistic=8.009784197834758, pvalue=3.186189583166477e-15)\n",
      "\n",
      "\n"
     ]
    }
   ],
   "source": [
    "for var in ['math score', 'reading score', 'writing score']:\n",
    "    print(var.title() + ':')\n",
    "    print(stats.ttest_ind(\n",
    "    student[var][student['lunch']=='standard'],\n",
    "    student[var][student['lunch']=='free/reduced']\n",
    "    ))\n",
    "    print('\\n')"
   ]
  },
  {
   "cell_type": "markdown",
   "metadata": {},
   "source": [
    "Yes, there are stastically significant differences across lunch level for all 3 tests. This makes sense, as lunch status should be correlated with poverty and a parent's education level. It is not randomly assigned in most cases."
   ]
  },
  {
   "cell_type": "markdown",
   "metadata": {},
   "source": [
    "# Question 3"
   ]
  },
  {
   "cell_type": "code",
   "execution_count": 59,
   "metadata": {},
   "outputs": [
    {
     "name": "stdout",
     "output_type": "stream",
     "text": [
      "Math Score:\n",
      "Ttest_indResult(statistic=5.704616417349102, pvalue=1.5359134607147415e-08)\n",
      "\n",
      "\n",
      "Reading Score:\n",
      "Ttest_indResult(statistic=7.871663538941468, pvalue=9.081783336892205e-15)\n",
      "\n",
      "\n",
      "Writing Score:\n",
      "Ttest_indResult(statistic=10.409173436808748, pvalue=3.68529173524572e-24)\n",
      "\n",
      "\n"
     ]
    }
   ],
   "source": [
    "for var in ['math score', 'reading score', 'writing score']:\n",
    "    print(var.title() + ':')\n",
    "    print(stats.ttest_ind(\n",
    "    student[var][student['test preparation course']=='completed'],\n",
    "    student[var][student['test preparation course']=='none']\n",
    "    ))\n",
    "    print('\\n')"
   ]
  },
  {
   "cell_type": "markdown",
   "metadata": {},
   "source": [
    "Yes, there are statistically significant (and positive) differences between students who completed and did not complete the test preparation course. However, to determine a causal effect, we have to consider how selection into the course is determined. If it is merely the smart and motivated students who sign up, we may just be observing selection effects"
   ]
  },
  {
   "cell_type": "code",
   "execution_count": 64,
   "metadata": {},
   "outputs": [
    {
     "ename": "TypeError",
     "evalue": "unsupported operand type(s) for /: 'str' and 'int'",
     "output_type": "error",
     "traceback": [
      "\u001b[0;31m---------------------------------------------------------------------------\u001b[0m",
      "\u001b[0;31mTypeError\u001b[0m                                 Traceback (most recent call last)",
      "\u001b[0;32m<ipython-input-64-c934e29d1558>\u001b[0m in \u001b[0;36m<module>\u001b[0;34m\u001b[0m\n\u001b[1;32m      1\u001b[0m stats.ttest_ind(\n\u001b[1;32m      2\u001b[0m     \u001b[0mstudent\u001b[0m\u001b[0;34m[\u001b[0m\u001b[0;34m'test preparation course'\u001b[0m\u001b[0;34m]\u001b[0m\u001b[0;34m[\u001b[0m\u001b[0mstudent\u001b[0m\u001b[0;34m[\u001b[0m\u001b[0;34m'parental level of education'\u001b[0m\u001b[0;34m]\u001b[0m \u001b[0;34m==\u001b[0m \u001b[0;34m'some high school'\u001b[0m\u001b[0;34m]\u001b[0m\u001b[0;34m,\u001b[0m\u001b[0;34m\u001b[0m\u001b[0;34m\u001b[0m\u001b[0m\n\u001b[0;32m----> 3\u001b[0;31m     \u001b[0mstudent\u001b[0m\u001b[0;34m[\u001b[0m\u001b[0;34m'test preparation course'\u001b[0m\u001b[0;34m]\u001b[0m\u001b[0;34m[\u001b[0m\u001b[0mstudent\u001b[0m\u001b[0;34m[\u001b[0m\u001b[0;34m'parental level of education'\u001b[0m\u001b[0;34m]\u001b[0m \u001b[0;34m==\u001b[0m \u001b[0;34m\"master's degree\"\u001b[0m\u001b[0;34m]\u001b[0m\u001b[0;34m\u001b[0m\u001b[0;34m\u001b[0m\u001b[0m\n\u001b[0m\u001b[1;32m      4\u001b[0m )\n",
      "\u001b[0;32m//anaconda3/lib/python3.7/site-packages/scipy/stats/stats.py\u001b[0m in \u001b[0;36mttest_ind\u001b[0;34m(a, b, axis, equal_var, nan_policy)\u001b[0m\n\u001b[1;32m   4558\u001b[0m         \u001b[0;32mreturn\u001b[0m \u001b[0mTtest_indResult\u001b[0m\u001b[0;34m(\u001b[0m\u001b[0mnp\u001b[0m\u001b[0;34m.\u001b[0m\u001b[0mnan\u001b[0m\u001b[0;34m,\u001b[0m \u001b[0mnp\u001b[0m\u001b[0;34m.\u001b[0m\u001b[0mnan\u001b[0m\u001b[0;34m)\u001b[0m\u001b[0;34m\u001b[0m\u001b[0;34m\u001b[0m\u001b[0m\n\u001b[1;32m   4559\u001b[0m \u001b[0;34m\u001b[0m\u001b[0m\n\u001b[0;32m-> 4560\u001b[0;31m     \u001b[0mv1\u001b[0m \u001b[0;34m=\u001b[0m \u001b[0mnp\u001b[0m\u001b[0;34m.\u001b[0m\u001b[0mvar\u001b[0m\u001b[0;34m(\u001b[0m\u001b[0ma\u001b[0m\u001b[0;34m,\u001b[0m \u001b[0maxis\u001b[0m\u001b[0;34m,\u001b[0m \u001b[0mddof\u001b[0m\u001b[0;34m=\u001b[0m\u001b[0;36m1\u001b[0m\u001b[0;34m)\u001b[0m\u001b[0;34m\u001b[0m\u001b[0;34m\u001b[0m\u001b[0m\n\u001b[0m\u001b[1;32m   4561\u001b[0m     \u001b[0mv2\u001b[0m \u001b[0;34m=\u001b[0m \u001b[0mnp\u001b[0m\u001b[0;34m.\u001b[0m\u001b[0mvar\u001b[0m\u001b[0;34m(\u001b[0m\u001b[0mb\u001b[0m\u001b[0;34m,\u001b[0m \u001b[0maxis\u001b[0m\u001b[0;34m,\u001b[0m \u001b[0mddof\u001b[0m\u001b[0;34m=\u001b[0m\u001b[0;36m1\u001b[0m\u001b[0;34m)\u001b[0m\u001b[0;34m\u001b[0m\u001b[0;34m\u001b[0m\u001b[0m\n\u001b[1;32m   4562\u001b[0m     \u001b[0mn1\u001b[0m \u001b[0;34m=\u001b[0m \u001b[0ma\u001b[0m\u001b[0;34m.\u001b[0m\u001b[0mshape\u001b[0m\u001b[0;34m[\u001b[0m\u001b[0maxis\u001b[0m\u001b[0;34m]\u001b[0m\u001b[0;34m\u001b[0m\u001b[0;34m\u001b[0m\u001b[0m\n",
      "\u001b[0;32m//anaconda3/lib/python3.7/site-packages/numpy/core/fromnumeric.py\u001b[0m in \u001b[0;36mvar\u001b[0;34m(a, axis, dtype, out, ddof, keepdims)\u001b[0m\n\u001b[1;32m   3365\u001b[0m \u001b[0;34m\u001b[0m\u001b[0m\n\u001b[1;32m   3366\u001b[0m     return _methods._var(a, axis=axis, dtype=dtype, out=out, ddof=ddof,\n\u001b[0;32m-> 3367\u001b[0;31m                          **kwargs)\n\u001b[0m\u001b[1;32m   3368\u001b[0m \u001b[0;34m\u001b[0m\u001b[0m\n\u001b[1;32m   3369\u001b[0m \u001b[0;34m\u001b[0m\u001b[0m\n",
      "\u001b[0;32m//anaconda3/lib/python3.7/site-packages/numpy/core/_methods.py\u001b[0m in \u001b[0;36m_var\u001b[0;34m(a, axis, dtype, out, ddof, keepdims)\u001b[0m\n\u001b[1;32m    108\u001b[0m     \u001b[0;32mif\u001b[0m \u001b[0misinstance\u001b[0m\u001b[0;34m(\u001b[0m\u001b[0marrmean\u001b[0m\u001b[0;34m,\u001b[0m \u001b[0mmu\u001b[0m\u001b[0;34m.\u001b[0m\u001b[0mndarray\u001b[0m\u001b[0;34m)\u001b[0m\u001b[0;34m:\u001b[0m\u001b[0;34m\u001b[0m\u001b[0;34m\u001b[0m\u001b[0m\n\u001b[1;32m    109\u001b[0m         arrmean = um.true_divide(\n\u001b[0;32m--> 110\u001b[0;31m                 arrmean, rcount, out=arrmean, casting='unsafe', subok=False)\n\u001b[0m\u001b[1;32m    111\u001b[0m     \u001b[0;32melse\u001b[0m\u001b[0;34m:\u001b[0m\u001b[0;34m\u001b[0m\u001b[0;34m\u001b[0m\u001b[0m\n\u001b[1;32m    112\u001b[0m         \u001b[0marrmean\u001b[0m \u001b[0;34m=\u001b[0m \u001b[0marrmean\u001b[0m\u001b[0;34m.\u001b[0m\u001b[0mdtype\u001b[0m\u001b[0;34m.\u001b[0m\u001b[0mtype\u001b[0m\u001b[0;34m(\u001b[0m\u001b[0marrmean\u001b[0m \u001b[0;34m/\u001b[0m \u001b[0mrcount\u001b[0m\u001b[0;34m)\u001b[0m\u001b[0;34m\u001b[0m\u001b[0;34m\u001b[0m\u001b[0m\n",
      "\u001b[0;31mTypeError\u001b[0m: unsupported operand type(s) for /: 'str' and 'int'"
     ]
    }
   ],
   "source": [
    "stats.ttest_ind(\n",
    "    student['test preparation course'][student['parental level of education'] == 'some high school'],\n",
    "    student['test preparation course'][student['parental level of education'] == \"master's degree\"]\n",
    ")"
   ]
  },
  {
   "cell_type": "code",
   "execution_count": 67,
   "metadata": {},
   "outputs": [
    {
     "data": {
      "text/plain": [
       "<matplotlib.axes._subplots.AxesSubplot at 0x1a237395c0>"
      ]
     },
     "execution_count": 67,
     "metadata": {},
     "output_type": "execute_result"
    },
    {
     "data": {
      "image/png": "[encoded data removed]",
      "text/plain": [
       "<Figure size 432x288 with 1 Axes>"
      ]
     },
     "metadata": {
      "needs_background": "light"
     },
     "output_type": "display_data"
    }
   ],
   "source": [
    "by_pared = student.groupby('parental level of education')\n",
    "\n",
    "sns.barplot(len(student['parental level of education']),student['test preparation course'])\n",
    "\n"
   ]
  },
  {
   "cell_type": "code",
   "execution_count": 82,
   "metadata": {},
   "outputs": [
    {
     "name": "stdout",
     "output_type": "stream",
     "text": [
      "bachelor's degree\n",
      "0.3898305084745763\n",
      "\n",
      "\n",
      "some college\n",
      "0.3407079646017699\n",
      "\n",
      "\n",
      "master's degree\n",
      "0.3389830508474576\n",
      "\n",
      "\n",
      "associate's degree\n",
      "0.36936936936936937\n",
      "\n",
      "\n",
      "high school\n",
      "0.2857142857142857\n",
      "\n",
      "\n",
      "some high school\n",
      "0.4301675977653631\n",
      "\n",
      "\n"
     ]
    }
   ],
   "source": [
    "for level in student['parental level of education'].unique():\n",
    "    print(level)\n",
    "    new_df = student[student['parental level of education']==level]\n",
    "    completed = [x=='completed' for x in new_df['test preparation course']]\n",
    "    print(sum(completed)/len(new_df))\n",
    "    print('\\n')"
   ]
  },
  {
   "cell_type": "markdown",
   "metadata": {},
   "source": [
    "We would have to commit to further analysis to see what is driving the differences."
   ]
  },
  {
   "cell_type": "markdown",
   "metadata": {},
   "source": [
    "# Question 4"
   ]
  },
  {
   "cell_type": "code",
   "execution_count": 87,
   "metadata": {},
   "outputs": [
    {
     "data": {
      "text/html": [
       "<div>\n",
       "<style scoped>\n",
       "    .dataframe tbody tr th:only-of-type {\n",
       "        vertical-align: middle;\n",
       "    }\n",
       "\n",
       "    .dataframe tbody tr th {\n",
       "        vertical-align: top;\n",
       "    }\n",
       "\n",
       "    .dataframe thead th {\n",
       "        text-align: right;\n",
       "    }\n",
       "</style>\n",
       "<table border=\"1\" class=\"dataframe\">\n",
       "  <thead>\n",
       "    <tr style=\"text-align: right;\">\n",
       "      <th></th>\n",
       "      <th>math score</th>\n",
       "      <th>reading score</th>\n",
       "      <th>writing score</th>\n",
       "    </tr>\n",
       "  </thead>\n",
       "  <tbody>\n",
       "    <tr>\n",
       "      <th>math score</th>\n",
       "      <td>1.00000</td>\n",
       "      <td>0.81758</td>\n",
       "      <td>0.80264</td>\n",
       "    </tr>\n",
       "    <tr>\n",
       "      <th>reading score</th>\n",
       "      <td>0.81758</td>\n",
       "      <td>1.00000</td>\n",
       "      <td>0.95460</td>\n",
       "    </tr>\n",
       "    <tr>\n",
       "      <th>writing score</th>\n",
       "      <td>0.80264</td>\n",
       "      <td>0.95460</td>\n",
       "      <td>1.00000</td>\n",
       "    </tr>\n",
       "  </tbody>\n",
       "</table>\n",
       "</div>"
      ],
      "text/plain": [
       "               math score  reading score  writing score\n",
       "math score        1.00000        0.81758        0.80264\n",
       "reading score     0.81758        1.00000        0.95460\n",
       "writing score     0.80264        0.95460        1.00000"
      ]
     },
     "execution_count": 87,
     "metadata": {},
     "output_type": "execute_result"
    }
   ],
   "source": [
    "scores = student.iloc[:,5:8]\n",
    "\n",
    "scores.corr()"
   ]
  },
  {
   "cell_type": "markdown",
   "metadata": {},
   "source": [
    "Reading and writing are most correlated."
   ]
  }
 ],
 "metadata": {
  "kernelspec": {
   "display_name": "Python 3",
   "language": "python",
   "name": "python3"
  },
  "language_info": {
   "codemirror_mode": {
    "name": "ipython",
    "version": 3
   },
   "file_extension": ".py",
   "mimetype": "text/x-python",
   "name": "python",
   "nbconvert_exporter": "python",
   "pygments_lexer": "ipython3",
   "version": "3.7.3"
  }
 },
 "nbformat": 4,
 "nbformat_minor": 2
}
