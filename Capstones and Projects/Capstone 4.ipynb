{
 "cells": [
  {
   "cell_type": "markdown",
   "metadata": {},
   "source": [
    "# Capstone 4 - Building a Recommendation System Using Clustering"
   ]
  },
  {
   "cell_type": "markdown",
   "metadata": {},
   "source": []
  },
  {
   "cell_type": "code",
   "execution_count": 1,
   "metadata": {},
   "outputs": [],
   "source": [
    "import numpy as np\n",
    "import pandas as pd\n",
    "import matplotlib.pyplot as plt\n",
    "import seaborn as sns\n",
    "from sklearn.cluster import MiniBatchKMeans\n",
    "from sklearn import metrics \n",
    "from scipy.spatial.distance import cdist\n",
    "import warnings\n",
    "\n",
    "warnings.filterwarnings('ignore')\n",
    "%matplotlib inline\n",
    "\n",
    "user_artist = pd.read_table('lastfm/user_artists.dat')\n",
    "user_taggedartists = pd.read_table('lastfm/user_taggedartists.dat')\n",
    "user_taggedartists_timestamps = pd.read_table('lastfm/user_taggedartists-timestamps.dat')\n",
    "user_friends = pd.read_table('lastfm/user_friends.dat')\n",
    "tags = pd.read_table('lastfm/tags.dat', encoding='latin-1')\n",
    "artists = pd.read_table('lastfm/artists.dat')\n"
   ]
  },
  {
   "cell_type": "code",
   "execution_count": 2,
   "metadata": {
    "scrolled": true
   },
   "outputs": [
    {
     "data": {
      "text/plain": [
       "userID      0\n",
       "artistID    0\n",
       "weight      0\n",
       "dtype: int64"
      ]
     },
     "execution_count": 2,
     "metadata": {},
     "output_type": "execute_result"
    }
   ],
   "source": [
    "user_artist.isna().sum()"
   ]
  },
  {
   "cell_type": "code",
   "execution_count": 3,
   "metadata": {},
   "outputs": [
    {
     "data": {
      "text/plain": [
       "userID      0\n",
       "artistID    0\n",
       "tagID       0\n",
       "day         0\n",
       "month       0\n",
       "year        0\n",
       "dtype: int64"
      ]
     },
     "execution_count": 3,
     "metadata": {},
     "output_type": "execute_result"
    }
   ],
   "source": [
    "user_taggedartists.isna().sum()"
   ]
  },
  {
   "cell_type": "code",
   "execution_count": 4,
   "metadata": {},
   "outputs": [
    {
     "data": {
      "text/plain": [
       "userID       0\n",
       "artistID     0\n",
       "tagID        0\n",
       "timestamp    0\n",
       "dtype: int64"
      ]
     },
     "execution_count": 4,
     "metadata": {},
     "output_type": "execute_result"
    }
   ],
   "source": [
    "user_taggedartists_timestamps.isna().sum()"
   ]
  },
  {
   "cell_type": "code",
   "execution_count": 5,
   "metadata": {
    "scrolled": true
   },
   "outputs": [
    {
     "data": {
      "text/plain": [
       "userID      0\n",
       "friendID    0\n",
       "dtype: int64"
      ]
     },
     "execution_count": 5,
     "metadata": {},
     "output_type": "execute_result"
    }
   ],
   "source": [
    "user_friends.isna().sum()"
   ]
  },
  {
   "cell_type": "code",
   "execution_count": 6,
   "metadata": {},
   "outputs": [
    {
     "data": {
      "text/plain": [
       "tagID tagValue    0\n",
       "dtype: int64"
      ]
     },
     "execution_count": 6,
     "metadata": {},
     "output_type": "execute_result"
    }
   ],
   "source": [
    "tags.isna().sum()"
   ]
  },
  {
   "cell_type": "code",
   "execution_count": 4,
   "metadata": {},
   "outputs": [
    {
     "data": {
      "text/html": [
       "<div>\n",
       "<style scoped>\n",
       "    .dataframe tbody tr th:only-of-type {\n",
       "        vertical-align: middle;\n",
       "    }\n",
       "\n",
       "    .dataframe tbody tr th {\n",
       "        vertical-align: top;\n",
       "    }\n",
       "\n",
       "    .dataframe thead th {\n",
       "        text-align: right;\n",
       "    }\n",
       "</style>\n",
       "<table border=\"1\" class=\"dataframe\">\n",
       "  <thead>\n",
       "    <tr style=\"text-align: right;\">\n",
       "      <th></th>\n",
       "      <th>tagValue</th>\n",
       "    </tr>\n",
       "  </thead>\n",
       "  <tbody>\n",
       "    <tr>\n",
       "      <td>1</td>\n",
       "      <td>metal</td>\n",
       "    </tr>\n",
       "    <tr>\n",
       "      <td>2</td>\n",
       "      <td>alternative metal</td>\n",
       "    </tr>\n",
       "    <tr>\n",
       "      <td>3</td>\n",
       "      <td>goth rock</td>\n",
       "    </tr>\n",
       "    <tr>\n",
       "      <td>4</td>\n",
       "      <td>black metal</td>\n",
       "    </tr>\n",
       "    <tr>\n",
       "      <td>5</td>\n",
       "      <td>death metal</td>\n",
       "    </tr>\n",
       "    <tr>\n",
       "      <td>...</td>\n",
       "      <td>...</td>\n",
       "    </tr>\n",
       "    <tr>\n",
       "      <td>12644</td>\n",
       "      <td>suomi</td>\n",
       "    </tr>\n",
       "    <tr>\n",
       "      <td>12645</td>\n",
       "      <td>symbiosis</td>\n",
       "    </tr>\n",
       "    <tr>\n",
       "      <td>12646</td>\n",
       "      <td>sverige</td>\n",
       "    </tr>\n",
       "    <tr>\n",
       "      <td>12647</td>\n",
       "      <td>eire</td>\n",
       "    </tr>\n",
       "    <tr>\n",
       "      <td>12648</td>\n",
       "      <td>electro latino</td>\n",
       "    </tr>\n",
       "  </tbody>\n",
       "</table>\n",
       "<p>11946 rows × 1 columns</p>\n",
       "</div>"
      ],
      "text/plain": [
       "                tagValue\n",
       "1                  metal\n",
       "2      alternative metal\n",
       "3              goth rock\n",
       "4            black metal\n",
       "5            death metal\n",
       "...                  ...\n",
       "12644              suomi\n",
       "12645          symbiosis\n",
       "12646            sverige\n",
       "12647               eire\n",
       "12648     electro latino\n",
       "\n",
       "[11946 rows x 1 columns]"
      ]
     },
     "execution_count": 4,
     "metadata": {},
     "output_type": "execute_result"
    }
   ],
   "source": [
    "#tags.columns = ['tagID', 'tagValue']\n",
    "tags = tags.rename(columns={'tagID tagValue': 'tagValue'})\n",
    "tags"
   ]
  },
  {
   "cell_type": "code",
   "execution_count": 8,
   "metadata": {
    "scrolled": true
   },
   "outputs": [
    {
     "data": {
      "text/plain": [
       "id              0\n",
       "name            0\n",
       "url             0\n",
       "pictureURL    444\n",
       "dtype: int64"
      ]
     },
     "execution_count": 8,
     "metadata": {},
     "output_type": "execute_result"
    }
   ],
   "source": [
    "artists.isna().sum()"
   ]
  },
  {
   "cell_type": "code",
   "execution_count": 5,
   "metadata": {
    "scrolled": true
   },
   "outputs": [
    {
     "data": {
      "text/html": [
       "<div>\n",
       "<style scoped>\n",
       "    .dataframe tbody tr th:only-of-type {\n",
       "        vertical-align: middle;\n",
       "    }\n",
       "\n",
       "    .dataframe tbody tr th {\n",
       "        vertical-align: top;\n",
       "    }\n",
       "\n",
       "    .dataframe thead th {\n",
       "        text-align: right;\n",
       "    }\n",
       "</style>\n",
       "<table border=\"1\" class=\"dataframe\">\n",
       "  <thead>\n",
       "    <tr style=\"text-align: right;\">\n",
       "      <th></th>\n",
       "      <th>id</th>\n",
       "      <th>name</th>\n",
       "      <th>url</th>\n",
       "      <th>pictureURL</th>\n",
       "    </tr>\n",
       "  </thead>\n",
       "  <tbody>\n",
       "    <tr>\n",
       "      <td>0</td>\n",
       "      <td>1</td>\n",
       "      <td>MALICE MIZER</td>\n",
       "      <td>http://www.last.fm/music/MALICE+MIZER</td>\n",
       "      <td>http://userserve-ak.last.fm/serve/252/10808.jpg</td>\n",
       "    </tr>\n",
       "    <tr>\n",
       "      <td>1</td>\n",
       "      <td>2</td>\n",
       "      <td>Diary of Dreams</td>\n",
       "      <td>http://www.last.fm/music/Diary+of+Dreams</td>\n",
       "      <td>http://userserve-ak.last.fm/serve/252/3052066.jpg</td>\n",
       "    </tr>\n",
       "    <tr>\n",
       "      <td>2</td>\n",
       "      <td>3</td>\n",
       "      <td>Carpathian Forest</td>\n",
       "      <td>http://www.last.fm/music/Carpathian+Forest</td>\n",
       "      <td>http://userserve-ak.last.fm/serve/252/40222717...</td>\n",
       "    </tr>\n",
       "    <tr>\n",
       "      <td>3</td>\n",
       "      <td>4</td>\n",
       "      <td>Moi dix Mois</td>\n",
       "      <td>http://www.last.fm/music/Moi+dix+Mois</td>\n",
       "      <td>http://userserve-ak.last.fm/serve/252/54697835...</td>\n",
       "    </tr>\n",
       "    <tr>\n",
       "      <td>4</td>\n",
       "      <td>5</td>\n",
       "      <td>Bella Morte</td>\n",
       "      <td>http://www.last.fm/music/Bella+Morte</td>\n",
       "      <td>http://userserve-ak.last.fm/serve/252/14789013...</td>\n",
       "    </tr>\n",
       "  </tbody>\n",
       "</table>\n",
       "</div>"
      ],
      "text/plain": [
       "   id               name                                         url  \\\n",
       "0   1       MALICE MIZER       http://www.last.fm/music/MALICE+MIZER   \n",
       "1   2    Diary of Dreams    http://www.last.fm/music/Diary+of+Dreams   \n",
       "2   3  Carpathian Forest  http://www.last.fm/music/Carpathian+Forest   \n",
       "3   4       Moi dix Mois       http://www.last.fm/music/Moi+dix+Mois   \n",
       "4   5        Bella Morte        http://www.last.fm/music/Bella+Morte   \n",
       "\n",
       "                                          pictureURL  \n",
       "0    http://userserve-ak.last.fm/serve/252/10808.jpg  \n",
       "1  http://userserve-ak.last.fm/serve/252/3052066.jpg  \n",
       "2  http://userserve-ak.last.fm/serve/252/40222717...  \n",
       "3  http://userserve-ak.last.fm/serve/252/54697835...  \n",
       "4  http://userserve-ak.last.fm/serve/252/14789013...  "
      ]
     },
     "execution_count": 5,
     "metadata": {},
     "output_type": "execute_result"
    }
   ],
   "source": [
    "artists.head()"
   ]
  },
  {
   "cell_type": "code",
   "execution_count": 34,
   "metadata": {},
   "outputs": [
    {
     "data": {
      "text/plain": [
       "id                                                          1\n",
       "name                                             MALICE MIZER\n",
       "url                     http://www.last.fm/music/MALICE+MIZER\n",
       "pictureURL    http://userserve-ak.last.fm/serve/252/10808.jpg\n",
       "Name: 0, dtype: object"
      ]
     },
     "execution_count": 34,
     "metadata": {},
     "output_type": "execute_result"
    }
   ],
   "source": [
    "artists.iloc[0,:]"
   ]
  },
  {
   "cell_type": "code",
   "execution_count": 6,
   "metadata": {},
   "outputs": [],
   "source": [
    "artist_id_to_name = {artists.iloc[x,0]: artists.iloc[x,1] for x in range(artists.shape[0])}\n",
    "artist_name_to_id = {artists.iloc[x,1].lower(): artists.iloc[x,0] for x in range(artists.shape[0])}"
   ]
  },
  {
   "cell_type": "code",
   "execution_count": 7,
   "metadata": {},
   "outputs": [],
   "source": [
    "top_artists = user_artist.groupby(['artistID']).count()\n",
    "top_artists = top_artists.merge(artists, left_on='artistID', right_on='id')\n",
    "top_artists = top_artists[['name', 'userID']].sort_values(by='userID', ascending=False)\n",
    "top_artists = top_artists.rename(columns={'name': 'Artist', 'userID': 'Likes'})\n",
    "top_twenty_artists = top_artists[:20]\n"
   ]
  },
  {
   "cell_type": "code",
   "execution_count": 8,
   "metadata": {
    "scrolled": true
   },
   "outputs": [
    {
     "data": {
      "text/html": [
       "<div>\n",
       "<style scoped>\n",
       "    .dataframe tbody tr th:only-of-type {\n",
       "        vertical-align: middle;\n",
       "    }\n",
       "\n",
       "    .dataframe tbody tr th {\n",
       "        vertical-align: top;\n",
       "    }\n",
       "\n",
       "    .dataframe thead th {\n",
       "        text-align: right;\n",
       "    }\n",
       "</style>\n",
       "<table border=\"1\" class=\"dataframe\">\n",
       "  <thead>\n",
       "    <tr style=\"text-align: right;\">\n",
       "      <th></th>\n",
       "      <th>Artist</th>\n",
       "      <th>Likes</th>\n",
       "    </tr>\n",
       "  </thead>\n",
       "  <tbody>\n",
       "    <tr>\n",
       "      <td>83</td>\n",
       "      <td>Lady Gaga</td>\n",
       "      <td>611</td>\n",
       "    </tr>\n",
       "    <tr>\n",
       "      <td>283</td>\n",
       "      <td>Britney Spears</td>\n",
       "      <td>522</td>\n",
       "    </tr>\n",
       "    <tr>\n",
       "      <td>282</td>\n",
       "      <td>Rihanna</td>\n",
       "      <td>484</td>\n",
       "    </tr>\n",
       "    <tr>\n",
       "      <td>221</td>\n",
       "      <td>The Beatles</td>\n",
       "      <td>480</td>\n",
       "    </tr>\n",
       "    <tr>\n",
       "      <td>294</td>\n",
       "      <td>Katy Perry</td>\n",
       "      <td>473</td>\n",
       "    </tr>\n",
       "    <tr>\n",
       "      <td>61</td>\n",
       "      <td>Madonna</td>\n",
       "      <td>429</td>\n",
       "    </tr>\n",
       "    <tr>\n",
       "      <td>327</td>\n",
       "      <td>Avril Lavigne</td>\n",
       "      <td>417</td>\n",
       "    </tr>\n",
       "    <tr>\n",
       "      <td>286</td>\n",
       "      <td>Christina Aguilera</td>\n",
       "      <td>407</td>\n",
       "    </tr>\n",
       "    <tr>\n",
       "      <td>184</td>\n",
       "      <td>Muse</td>\n",
       "      <td>400</td>\n",
       "    </tr>\n",
       "    <tr>\n",
       "      <td>492</td>\n",
       "      <td>Paramore</td>\n",
       "      <td>399</td>\n",
       "    </tr>\n",
       "    <tr>\n",
       "      <td>289</td>\n",
       "      <td>Beyoncé</td>\n",
       "      <td>397</td>\n",
       "    </tr>\n",
       "    <tr>\n",
       "      <td>148</td>\n",
       "      <td>Radiohead</td>\n",
       "      <td>393</td>\n",
       "    </tr>\n",
       "    <tr>\n",
       "      <td>59</td>\n",
       "      <td>Coldplay</td>\n",
       "      <td>369</td>\n",
       "    </tr>\n",
       "    <tr>\n",
       "      <td>460</td>\n",
       "      <td>Ke$ha</td>\n",
       "      <td>362</td>\n",
       "    </tr>\n",
       "    <tr>\n",
       "      <td>695</td>\n",
       "      <td>Shakira</td>\n",
       "      <td>319</td>\n",
       "    </tr>\n",
       "    <tr>\n",
       "      <td>296</td>\n",
       "      <td>P!nk</td>\n",
       "      <td>305</td>\n",
       "    </tr>\n",
       "    <tr>\n",
       "      <td>300</td>\n",
       "      <td>Black Eyed Peas</td>\n",
       "      <td>304</td>\n",
       "    </tr>\n",
       "    <tr>\n",
       "      <td>223</td>\n",
       "      <td>The Killers</td>\n",
       "      <td>304</td>\n",
       "    </tr>\n",
       "    <tr>\n",
       "      <td>49</td>\n",
       "      <td>Kylie Minogue</td>\n",
       "      <td>298</td>\n",
       "    </tr>\n",
       "    <tr>\n",
       "      <td>455</td>\n",
       "      <td>Miley Cyrus</td>\n",
       "      <td>286</td>\n",
       "    </tr>\n",
       "  </tbody>\n",
       "</table>\n",
       "</div>"
      ],
      "text/plain": [
       "                 Artist  Likes\n",
       "83            Lady Gaga    611\n",
       "283      Britney Spears    522\n",
       "282             Rihanna    484\n",
       "221         The Beatles    480\n",
       "294          Katy Perry    473\n",
       "61              Madonna    429\n",
       "327       Avril Lavigne    417\n",
       "286  Christina Aguilera    407\n",
       "184                Muse    400\n",
       "492            Paramore    399\n",
       "289             Beyoncé    397\n",
       "148           Radiohead    393\n",
       "59             Coldplay    369\n",
       "460               Ke$ha    362\n",
       "695             Shakira    319\n",
       "296                P!nk    305\n",
       "300     Black Eyed Peas    304\n",
       "223         The Killers    304\n",
       "49        Kylie Minogue    298\n",
       "455         Miley Cyrus    286"
      ]
     },
     "execution_count": 8,
     "metadata": {},
     "output_type": "execute_result"
    }
   ],
   "source": [
    "top_twenty_artists"
   ]
  },
  {
   "cell_type": "code",
   "execution_count": 9,
   "metadata": {
    "scrolled": false
   },
   "outputs": [
    {
     "data": {
      "image/png": "[encoded data removed]",
      "text/plain": [
       "<Figure size 432x288 with 1 Axes>"
      ]
     },
     "metadata": {
      "needs_background": "light"
     },
     "output_type": "display_data"
    }
   ],
   "source": [
    "like_freq_u30 = top_artists.Likes.value_counts()[top_artists.Likes.value_counts().index <= 30]\n",
    "\n",
    "plt.bar(like_freq_u30.index,\n",
    "        like_freq_u30.values)\n",
    "plt.show()"
   ]
  },
  {
   "cell_type": "code",
   "execution_count": 10,
   "metadata": {
    "scrolled": true
   },
   "outputs": [
    {
     "data": {
      "text/html": [
       "<div>\n",
       "<style scoped>\n",
       "    .dataframe tbody tr th:only-of-type {\n",
       "        vertical-align: middle;\n",
       "    }\n",
       "\n",
       "    .dataframe tbody tr th {\n",
       "        vertical-align: top;\n",
       "    }\n",
       "\n",
       "    .dataframe thead th {\n",
       "        text-align: right;\n",
       "    }\n",
       "</style>\n",
       "<table border=\"1\" class=\"dataframe\">\n",
       "  <thead>\n",
       "    <tr style=\"text-align: right;\">\n",
       "      <th></th>\n",
       "      <th>Tag</th>\n",
       "      <th>Frequency</th>\n",
       "    </tr>\n",
       "  </thead>\n",
       "  <tbody>\n",
       "    <tr>\n",
       "      <td>73</td>\n",
       "      <td>rock</td>\n",
       "      <td>7503</td>\n",
       "    </tr>\n",
       "    <tr>\n",
       "      <td>24</td>\n",
       "      <td>pop</td>\n",
       "      <td>5418</td>\n",
       "    </tr>\n",
       "    <tr>\n",
       "      <td>79</td>\n",
       "      <td>alternative</td>\n",
       "      <td>5251</td>\n",
       "    </tr>\n",
       "    <tr>\n",
       "      <td>18</td>\n",
       "      <td>electronic</td>\n",
       "      <td>4672</td>\n",
       "    </tr>\n",
       "    <tr>\n",
       "      <td>81</td>\n",
       "      <td>indie</td>\n",
       "      <td>4458</td>\n",
       "    </tr>\n",
       "    <tr>\n",
       "      <td>130</td>\n",
       "      <td>female vocalists</td>\n",
       "      <td>4228</td>\n",
       "    </tr>\n",
       "    <tr>\n",
       "      <td>25</td>\n",
       "      <td>80s</td>\n",
       "      <td>2791</td>\n",
       "    </tr>\n",
       "    <tr>\n",
       "      <td>39</td>\n",
       "      <td>dance</td>\n",
       "      <td>2739</td>\n",
       "    </tr>\n",
       "    <tr>\n",
       "      <td>78</td>\n",
       "      <td>alternative rock</td>\n",
       "      <td>2631</td>\n",
       "    </tr>\n",
       "    <tr>\n",
       "      <td>192</td>\n",
       "      <td>classic rock</td>\n",
       "      <td>2287</td>\n",
       "    </tr>\n",
       "  </tbody>\n",
       "</table>\n",
       "</div>"
      ],
      "text/plain": [
       "                  Tag  Frequency\n",
       "73               rock       7503\n",
       "24                pop       5418\n",
       "79        alternative       5251\n",
       "18         electronic       4672\n",
       "81              indie       4458\n",
       "130  female vocalists       4228\n",
       "25                80s       2791\n",
       "39              dance       2739\n",
       "78   alternative rock       2631\n",
       "192      classic rock       2287"
      ]
     },
     "execution_count": 10,
     "metadata": {},
     "output_type": "execute_result"
    }
   ],
   "source": [
    "tag_freq = pd.merge(user_taggedartists.tagID.value_counts(), tags, left_index=True, right_index=True)\n",
    "tag_freq.rename(columns={'tagID': 'Frequency', 'tagValue': 'Tag'}, inplace=True)\n",
    "tag_freq = tag_freq[['Tag', 'Frequency']]\n",
    "tag_freq[:10]"
   ]
  },
  {
   "cell_type": "code",
   "execution_count": 11,
   "metadata": {},
   "outputs": [
    {
     "data": {
      "image/png": "[encoded data removed]",
      "text/plain": [
       "<Figure size 864x432 with 1 Axes>"
      ]
     },
     "metadata": {
      "needs_background": "light"
     },
     "output_type": "display_data"
    }
   ],
   "source": [
    "plt.figure(figsize=(12,6))\n",
    "plt.bar(tag_freq[:15]['Tag'], tag_freq[:15]['Frequency'])\n",
    "plt.xticks(rotation=45)\n",
    "plt.show()"
   ]
  },
  {
   "cell_type": "code",
   "execution_count": 12,
   "metadata": {
    "scrolled": false
   },
   "outputs": [
    {
     "data": {
      "text/html": [
       "<div>\n",
       "<style scoped>\n",
       "    .dataframe tbody tr th:only-of-type {\n",
       "        vertical-align: middle;\n",
       "    }\n",
       "\n",
       "    .dataframe tbody tr th {\n",
       "        vertical-align: top;\n",
       "    }\n",
       "\n",
       "    .dataframe thead th {\n",
       "        text-align: right;\n",
       "    }\n",
       "</style>\n",
       "<table border=\"1\" class=\"dataframe\">\n",
       "  <thead>\n",
       "    <tr style=\"text-align: right;\">\n",
       "      <th></th>\n",
       "      <th>artistID</th>\n",
       "      <th>1</th>\n",
       "      <th>2</th>\n",
       "      <th>3</th>\n",
       "      <th>4</th>\n",
       "      <th>5</th>\n",
       "      <th>6</th>\n",
       "      <th>7</th>\n",
       "      <th>8</th>\n",
       "      <th>9</th>\n",
       "      <th>...</th>\n",
       "      <th>12638</th>\n",
       "      <th>12639</th>\n",
       "      <th>12640</th>\n",
       "      <th>12641</th>\n",
       "      <th>12642</th>\n",
       "      <th>12643</th>\n",
       "      <th>12644</th>\n",
       "      <th>12645</th>\n",
       "      <th>12646</th>\n",
       "      <th>12647</th>\n",
       "    </tr>\n",
       "  </thead>\n",
       "  <tbody>\n",
       "    <tr>\n",
       "      <td>0</td>\n",
       "      <td>0</td>\n",
       "      <td>0.000000</td>\n",
       "      <td>0.0</td>\n",
       "      <td>0.0</td>\n",
       "      <td>0.0</td>\n",
       "      <td>0.0</td>\n",
       "      <td>0.0</td>\n",
       "      <td>0.000000</td>\n",
       "      <td>0.0</td>\n",
       "      <td>0.0</td>\n",
       "      <td>...</td>\n",
       "      <td>0.0</td>\n",
       "      <td>0.0</td>\n",
       "      <td>0.0</td>\n",
       "      <td>0.0</td>\n",
       "      <td>0.0</td>\n",
       "      <td>0.0</td>\n",
       "      <td>0.0</td>\n",
       "      <td>0.0</td>\n",
       "      <td>0.0</td>\n",
       "      <td>0.0</td>\n",
       "    </tr>\n",
       "    <tr>\n",
       "      <td>1</td>\n",
       "      <td>1</td>\n",
       "      <td>0.000000</td>\n",
       "      <td>0.0</td>\n",
       "      <td>0.0</td>\n",
       "      <td>0.0</td>\n",
       "      <td>0.0</td>\n",
       "      <td>0.0</td>\n",
       "      <td>0.000000</td>\n",
       "      <td>0.0</td>\n",
       "      <td>0.0</td>\n",
       "      <td>...</td>\n",
       "      <td>0.0</td>\n",
       "      <td>0.0</td>\n",
       "      <td>0.0</td>\n",
       "      <td>0.0</td>\n",
       "      <td>0.0</td>\n",
       "      <td>0.0</td>\n",
       "      <td>0.0</td>\n",
       "      <td>0.0</td>\n",
       "      <td>0.0</td>\n",
       "      <td>0.0</td>\n",
       "    </tr>\n",
       "    <tr>\n",
       "      <td>2</td>\n",
       "      <td>2</td>\n",
       "      <td>0.000000</td>\n",
       "      <td>0.0</td>\n",
       "      <td>0.0</td>\n",
       "      <td>0.0</td>\n",
       "      <td>0.0</td>\n",
       "      <td>0.0</td>\n",
       "      <td>0.000000</td>\n",
       "      <td>0.0</td>\n",
       "      <td>0.0</td>\n",
       "      <td>...</td>\n",
       "      <td>0.0</td>\n",
       "      <td>0.0</td>\n",
       "      <td>0.0</td>\n",
       "      <td>0.0</td>\n",
       "      <td>0.0</td>\n",
       "      <td>0.0</td>\n",
       "      <td>0.0</td>\n",
       "      <td>0.0</td>\n",
       "      <td>0.0</td>\n",
       "      <td>0.0</td>\n",
       "    </tr>\n",
       "    <tr>\n",
       "      <td>3</td>\n",
       "      <td>3</td>\n",
       "      <td>0.000000</td>\n",
       "      <td>0.0</td>\n",
       "      <td>0.0</td>\n",
       "      <td>1.0</td>\n",
       "      <td>0.0</td>\n",
       "      <td>0.0</td>\n",
       "      <td>0.000000</td>\n",
       "      <td>0.0</td>\n",
       "      <td>0.0</td>\n",
       "      <td>...</td>\n",
       "      <td>0.0</td>\n",
       "      <td>0.0</td>\n",
       "      <td>0.0</td>\n",
       "      <td>0.0</td>\n",
       "      <td>0.0</td>\n",
       "      <td>0.0</td>\n",
       "      <td>0.0</td>\n",
       "      <td>0.0</td>\n",
       "      <td>0.0</td>\n",
       "      <td>0.0</td>\n",
       "    </tr>\n",
       "    <tr>\n",
       "      <td>4</td>\n",
       "      <td>4</td>\n",
       "      <td>0.333333</td>\n",
       "      <td>0.0</td>\n",
       "      <td>0.0</td>\n",
       "      <td>0.0</td>\n",
       "      <td>0.0</td>\n",
       "      <td>0.0</td>\n",
       "      <td>0.166667</td>\n",
       "      <td>0.0</td>\n",
       "      <td>0.0</td>\n",
       "      <td>...</td>\n",
       "      <td>0.0</td>\n",
       "      <td>0.0</td>\n",
       "      <td>0.0</td>\n",
       "      <td>0.0</td>\n",
       "      <td>0.0</td>\n",
       "      <td>0.0</td>\n",
       "      <td>0.0</td>\n",
       "      <td>0.0</td>\n",
       "      <td>0.0</td>\n",
       "      <td>0.0</td>\n",
       "    </tr>\n",
       "    <tr>\n",
       "      <td>...</td>\n",
       "      <td>...</td>\n",
       "      <td>...</td>\n",
       "      <td>...</td>\n",
       "      <td>...</td>\n",
       "      <td>...</td>\n",
       "      <td>...</td>\n",
       "      <td>...</td>\n",
       "      <td>...</td>\n",
       "      <td>...</td>\n",
       "      <td>...</td>\n",
       "      <td>...</td>\n",
       "      <td>...</td>\n",
       "      <td>...</td>\n",
       "      <td>...</td>\n",
       "      <td>...</td>\n",
       "      <td>...</td>\n",
       "      <td>...</td>\n",
       "      <td>...</td>\n",
       "      <td>...</td>\n",
       "      <td>...</td>\n",
       "      <td>...</td>\n",
       "    </tr>\n",
       "    <tr>\n",
       "      <td>18740</td>\n",
       "      <td>18740</td>\n",
       "      <td>0.000000</td>\n",
       "      <td>0.0</td>\n",
       "      <td>0.0</td>\n",
       "      <td>0.0</td>\n",
       "      <td>0.0</td>\n",
       "      <td>0.0</td>\n",
       "      <td>0.000000</td>\n",
       "      <td>0.0</td>\n",
       "      <td>0.0</td>\n",
       "      <td>...</td>\n",
       "      <td>0.0</td>\n",
       "      <td>0.0</td>\n",
       "      <td>0.0</td>\n",
       "      <td>0.0</td>\n",
       "      <td>0.0</td>\n",
       "      <td>0.0</td>\n",
       "      <td>0.0</td>\n",
       "      <td>0.0</td>\n",
       "      <td>0.0</td>\n",
       "      <td>0.0</td>\n",
       "    </tr>\n",
       "    <tr>\n",
       "      <td>18741</td>\n",
       "      <td>18741</td>\n",
       "      <td>0.000000</td>\n",
       "      <td>0.0</td>\n",
       "      <td>0.0</td>\n",
       "      <td>0.0</td>\n",
       "      <td>0.0</td>\n",
       "      <td>0.0</td>\n",
       "      <td>0.000000</td>\n",
       "      <td>0.0</td>\n",
       "      <td>0.0</td>\n",
       "      <td>...</td>\n",
       "      <td>0.0</td>\n",
       "      <td>0.0</td>\n",
       "      <td>0.0</td>\n",
       "      <td>0.0</td>\n",
       "      <td>0.0</td>\n",
       "      <td>0.0</td>\n",
       "      <td>0.0</td>\n",
       "      <td>0.0</td>\n",
       "      <td>0.0</td>\n",
       "      <td>0.0</td>\n",
       "    </tr>\n",
       "    <tr>\n",
       "      <td>18742</td>\n",
       "      <td>18742</td>\n",
       "      <td>0.000000</td>\n",
       "      <td>0.0</td>\n",
       "      <td>0.0</td>\n",
       "      <td>0.0</td>\n",
       "      <td>0.0</td>\n",
       "      <td>0.0</td>\n",
       "      <td>0.000000</td>\n",
       "      <td>0.0</td>\n",
       "      <td>0.0</td>\n",
       "      <td>...</td>\n",
       "      <td>0.0</td>\n",
       "      <td>0.0</td>\n",
       "      <td>0.0</td>\n",
       "      <td>0.0</td>\n",
       "      <td>0.0</td>\n",
       "      <td>0.0</td>\n",
       "      <td>0.0</td>\n",
       "      <td>0.0</td>\n",
       "      <td>0.0</td>\n",
       "      <td>0.0</td>\n",
       "    </tr>\n",
       "    <tr>\n",
       "      <td>18743</td>\n",
       "      <td>18743</td>\n",
       "      <td>0.000000</td>\n",
       "      <td>0.0</td>\n",
       "      <td>0.0</td>\n",
       "      <td>0.0</td>\n",
       "      <td>0.0</td>\n",
       "      <td>0.0</td>\n",
       "      <td>0.000000</td>\n",
       "      <td>0.0</td>\n",
       "      <td>0.0</td>\n",
       "      <td>...</td>\n",
       "      <td>0.0</td>\n",
       "      <td>0.0</td>\n",
       "      <td>0.0</td>\n",
       "      <td>0.0</td>\n",
       "      <td>0.0</td>\n",
       "      <td>0.0</td>\n",
       "      <td>0.0</td>\n",
       "      <td>0.0</td>\n",
       "      <td>0.0</td>\n",
       "      <td>0.0</td>\n",
       "    </tr>\n",
       "    <tr>\n",
       "      <td>18744</td>\n",
       "      <td>18744</td>\n",
       "      <td>0.000000</td>\n",
       "      <td>0.0</td>\n",
       "      <td>0.0</td>\n",
       "      <td>0.0</td>\n",
       "      <td>0.0</td>\n",
       "      <td>0.0</td>\n",
       "      <td>0.000000</td>\n",
       "      <td>0.0</td>\n",
       "      <td>0.0</td>\n",
       "      <td>...</td>\n",
       "      <td>0.0</td>\n",
       "      <td>0.0</td>\n",
       "      <td>0.0</td>\n",
       "      <td>0.0</td>\n",
       "      <td>0.0</td>\n",
       "      <td>0.0</td>\n",
       "      <td>0.0</td>\n",
       "      <td>0.0</td>\n",
       "      <td>0.0</td>\n",
       "      <td>0.0</td>\n",
       "    </tr>\n",
       "  </tbody>\n",
       "</table>\n",
       "<p>18745 rows × 12648 columns</p>\n",
       "</div>"
      ],
      "text/plain": [
       "       artistID         1    2    3    4    5    6         7    8    9  ...  \\\n",
       "0             0  0.000000  0.0  0.0  0.0  0.0  0.0  0.000000  0.0  0.0  ...   \n",
       "1             1  0.000000  0.0  0.0  0.0  0.0  0.0  0.000000  0.0  0.0  ...   \n",
       "2             2  0.000000  0.0  0.0  0.0  0.0  0.0  0.000000  0.0  0.0  ...   \n",
       "3             3  0.000000  0.0  0.0  1.0  0.0  0.0  0.000000  0.0  0.0  ...   \n",
       "4             4  0.333333  0.0  0.0  0.0  0.0  0.0  0.166667  0.0  0.0  ...   \n",
       "...         ...       ...  ...  ...  ...  ...  ...       ...  ...  ...  ...   \n",
       "18740     18740  0.000000  0.0  0.0  0.0  0.0  0.0  0.000000  0.0  0.0  ...   \n",
       "18741     18741  0.000000  0.0  0.0  0.0  0.0  0.0  0.000000  0.0  0.0  ...   \n",
       "18742     18742  0.000000  0.0  0.0  0.0  0.0  0.0  0.000000  0.0  0.0  ...   \n",
       "18743     18743  0.000000  0.0  0.0  0.0  0.0  0.0  0.000000  0.0  0.0  ...   \n",
       "18744     18744  0.000000  0.0  0.0  0.0  0.0  0.0  0.000000  0.0  0.0  ...   \n",
       "\n",
       "       12638  12639  12640  12641  12642  12643  12644  12645  12646  12647  \n",
       "0        0.0    0.0    0.0    0.0    0.0    0.0    0.0    0.0    0.0    0.0  \n",
       "1        0.0    0.0    0.0    0.0    0.0    0.0    0.0    0.0    0.0    0.0  \n",
       "2        0.0    0.0    0.0    0.0    0.0    0.0    0.0    0.0    0.0    0.0  \n",
       "3        0.0    0.0    0.0    0.0    0.0    0.0    0.0    0.0    0.0    0.0  \n",
       "4        0.0    0.0    0.0    0.0    0.0    0.0    0.0    0.0    0.0    0.0  \n",
       "...      ...    ...    ...    ...    ...    ...    ...    ...    ...    ...  \n",
       "18740    0.0    0.0    0.0    0.0    0.0    0.0    0.0    0.0    0.0    0.0  \n",
       "18741    0.0    0.0    0.0    0.0    0.0    0.0    0.0    0.0    0.0    0.0  \n",
       "18742    0.0    0.0    0.0    0.0    0.0    0.0    0.0    0.0    0.0    0.0  \n",
       "18743    0.0    0.0    0.0    0.0    0.0    0.0    0.0    0.0    0.0    0.0  \n",
       "18744    0.0    0.0    0.0    0.0    0.0    0.0    0.0    0.0    0.0    0.0  \n",
       "\n",
       "[18745 rows x 12648 columns]"
      ]
     },
     "execution_count": 12,
     "metadata": {},
     "output_type": "execute_result"
    }
   ],
   "source": [
    "content_vector = []\n",
    "\n",
    "for i in range(max(artists.id)):\n",
    "    artist = user_taggedartists[user_taggedartists.artistID == i]\n",
    "    vc = artist.tagID.value_counts()\n",
    "    \n",
    "    newvec = [0]*(max(user_taggedartists.tagID)+1)\n",
    "    newvec[0] = i\n",
    "    \n",
    "    for j in vc.index:\n",
    "        newvec[j] = vc[j]/max(vc)\n",
    "\n",
    "    content_vector.append(newvec)\n",
    "\n",
    "content_vector = pd.DataFrame(content_vector)\n",
    "content_vector.rename(columns = {0: 'artistID'}, inplace=True)\n",
    "content_vector"
   ]
  },
  {
   "cell_type": "code",
   "execution_count": null,
   "metadata": {},
   "outputs": [],
   "source": []
  },
  {
   "cell_type": "code",
   "execution_count": 15,
   "metadata": {
    "scrolled": true
   },
   "outputs": [
    {
     "data": {
      "text/html": [
       "<div>\n",
       "<style scoped>\n",
       "    .dataframe tbody tr th:only-of-type {\n",
       "        vertical-align: middle;\n",
       "    }\n",
       "\n",
       "    .dataframe tbody tr th {\n",
       "        vertical-align: top;\n",
       "    }\n",
       "\n",
       "    .dataframe thead th {\n",
       "        text-align: right;\n",
       "    }\n",
       "</style>\n",
       "<table border=\"1\" class=\"dataframe\">\n",
       "  <thead>\n",
       "    <tr style=\"text-align: right;\">\n",
       "      <th></th>\n",
       "      <th>73</th>\n",
       "      <th>24</th>\n",
       "      <th>79</th>\n",
       "      <th>18</th>\n",
       "      <th>81</th>\n",
       "    </tr>\n",
       "  </thead>\n",
       "  <tbody>\n",
       "    <tr>\n",
       "      <td>73</td>\n",
       "      <td>1.000000</td>\n",
       "      <td>0.119020</td>\n",
       "      <td>0.384189</td>\n",
       "      <td>-0.039279</td>\n",
       "      <td>0.196445</td>\n",
       "    </tr>\n",
       "    <tr>\n",
       "      <td>24</td>\n",
       "      <td>0.119020</td>\n",
       "      <td>1.000000</td>\n",
       "      <td>0.075703</td>\n",
       "      <td>0.046584</td>\n",
       "      <td>0.072592</td>\n",
       "    </tr>\n",
       "    <tr>\n",
       "      <td>79</td>\n",
       "      <td>0.384189</td>\n",
       "      <td>0.075703</td>\n",
       "      <td>1.000000</td>\n",
       "      <td>0.054913</td>\n",
       "      <td>0.368231</td>\n",
       "    </tr>\n",
       "    <tr>\n",
       "      <td>18</td>\n",
       "      <td>-0.039279</td>\n",
       "      <td>0.046584</td>\n",
       "      <td>0.054913</td>\n",
       "      <td>1.000000</td>\n",
       "      <td>0.079013</td>\n",
       "    </tr>\n",
       "    <tr>\n",
       "      <td>81</td>\n",
       "      <td>0.196445</td>\n",
       "      <td>0.072592</td>\n",
       "      <td>0.368231</td>\n",
       "      <td>0.079013</td>\n",
       "      <td>1.000000</td>\n",
       "    </tr>\n",
       "  </tbody>\n",
       "</table>\n",
       "</div>"
      ],
      "text/plain": [
       "          73        24        79        18        81\n",
       "73  1.000000  0.119020  0.384189 -0.039279  0.196445\n",
       "24  0.119020  1.000000  0.075703  0.046584  0.072592\n",
       "79  0.384189  0.075703  1.000000  0.054913  0.368231\n",
       "18 -0.039279  0.046584  0.054913  1.000000  0.079013\n",
       "81  0.196445  0.072592  0.368231  0.079013  1.000000"
      ]
     },
     "execution_count": 15,
     "metadata": {},
     "output_type": "execute_result"
    }
   ],
   "source": [
    "pd.concat([content_vector[73], content_vector[24], content_vector[79], content_vector[18], content_vector[81]], axis=1).corr()"
   ]
  },
  {
   "cell_type": "code",
   "execution_count": 16,
   "metadata": {},
   "outputs": [],
   "source": [
    "from sklearn.cluster import KMeans\n",
    "\n",
    "km = KMeans(n_clusters=20)\n",
    "clusters = km.fit(content_vector.iloc[:,1:])"
   ]
  },
  {
   "cell_type": "code",
   "execution_count": 134,
   "metadata": {},
   "outputs": [],
   "source": [
    "predict = pd.Series(clusters.predict(content_vector.iloc[:,1:]))"
   ]
  },
  {
   "cell_type": "code",
   "execution_count": 135,
   "metadata": {},
   "outputs": [
    {
     "data": {
      "text/plain": [
       "<BarContainer object of 20 artists>"
      ]
     },
     "execution_count": 135,
     "metadata": {},
     "output_type": "execute_result"
    },
    {
     "data": {
      "image/png": "[encoded data removed]",
      "text/plain": [
       "<Figure size 432x288 with 1 Axes>"
      ]
     },
     "metadata": {
      "needs_background": "light"
     },
     "output_type": "display_data"
    }
   ],
   "source": [
    "plt.bar(predict.value_counts().index, predict.value_counts())"
   ]
  },
  {
   "cell_type": "code",
   "execution_count": 20,
   "metadata": {
    "scrolled": true
   },
   "outputs": [
    {
     "data": {
      "text/plain": [
       "[501    Saosin\n",
       " Name: name, dtype: object, 745    Maximum the Hormone\n",
       " Name: name, dtype: object, 759    Enter Shikari\n",
       " Name: name, dtype: object, 807    A Day to Remember\n",
       " Name: name, dtype: object, 818    Ignite\n",
       " Name: name, dtype: object, 820    It Prevails\n",
       " Name: name, dtype: object, 1171    Escape The Fate\n",
       " Name: name, dtype: object, 1172    Silverstein\n",
       " Name: name, dtype: object, 1176    Alesana\n",
       " Name: name, dtype: object, 1183    Four Year Strong\n",
       " Name: name, dtype: object, 1186    Alexisonfire\n",
       " Name: name, dtype: object, 1202    Lärm\n",
       " Name: name, dtype: object, 1530    Chainsaw Disaster\n",
       " Name: name, dtype: object, 1536    Raimundos\n",
       " Name: name, dtype: object, 1537    boysetsfire\n",
       " Name: name, dtype: object, 1538    Hatebreed\n",
       " Name: name, dtype: object, 1539    wecamewithbrokenteeth\n",
       " Name: name, dtype: object, 1854    Hollywood Undead\n",
       " Name: name, dtype: object, 1859    A Skylit Drive\n",
       " Name: name, dtype: object, 2170    ВFI\n",
       " Name: name, dtype: object, 2172    Stick to Your Guns\n",
       " Name: name, dtype: object, 2181    Gallows\n",
       " Name: name, dtype: object, 2194    It Dies Today\n",
       " Name: name, dtype: object, 2333    Desperado\n",
       " Name: name, dtype: object, 2677    belladonnakillz\n",
       " Name: name, dtype: object, 2680    The Speed Freak\n",
       " Name: name, dtype: object, 2830    Underoath\n",
       " Name: name, dtype: object, 2935    Bury Your Dead\n",
       " Name: name, dtype: object, 2939    Eyes Set to Kill\n",
       " Name: name, dtype: object, 3007    Evergreen Terrace\n",
       " Name: name, dtype: object, 3011    The Ghost of a Thousand\n",
       " Name: name, dtype: object, 3012    Comeback Kid\n",
       " Name: name, dtype: object, 3017    Raised Fist\n",
       " Name: name, dtype: object, 3022    This Is Hell\n",
       " Name: name, dtype: object, 3023    Have Heart\n",
       " Name: name, dtype: object, 3030    Biohazard\n",
       " Name: name, dtype: object, 3327    Fugazi\n",
       " Name: name, dtype: object, 3391    A Static Lullaby\n",
       " Name: name, dtype: object, 3407    Dead Kennedys\n",
       " Name: name, dtype: object, 3490    Discharge\n",
       " Name: name, dtype: object, 3517    Schoolyard Heroes\n",
       " Name: name, dtype: object, Series([], Name: name, dtype: object), 3653    Madball\n",
       " Name: name, dtype: object, 3664    Dance of Days\n",
       " Name: name, dtype: object, 3704    D.R.I.\n",
       " Name: name, dtype: object, 3708    GBH\n",
       " Name: name, dtype: object, 3727    Wolfbrigade\n",
       " Name: name, dtype: object, 3932    Arbiter\n",
       " Name: name, dtype: object, 3937    Make Them Suffer\n",
       " Name: name, dtype: object, 4017    Cancer Bats\n",
       " Name: name, dtype: object, 4018    He Is Legend\n",
       " Name: name, dtype: object, 4025    Some Girls\n",
       " Name: name, dtype: object, 4073    Os Pedrero\n",
       " Name: name, dtype: object, 4083    Life in Your Way\n",
       " Name: name, dtype: object, 4107    Hot Water Music\n",
       " Name: name, dtype: object, 4110    Descendents\n",
       " Name: name, dtype: object, 4114    The Suicide Machines\n",
       " Name: name, dtype: object, 4120    Bane\n",
       " Name: name, dtype: object, 4125    7Seconds\n",
       " Name: name, dtype: object, 4127    H2O\n",
       " Name: name, dtype: object, 4134    Pennywise\n",
       " Name: name, dtype: object, 4343    Sky Eats Airplane\n",
       " Name: name, dtype: object, 4410    Terror\n",
       " Name: name, dtype: object, 4413    La Vida Cuesta Libertades\n",
       " Name: name, dtype: object, 4681    Ratos de Porão\n",
       " Name: name, dtype: object, 4695    The Exploited\n",
       " Name: name, dtype: object, 4710    Lagwagon\n",
       " Name: name, dtype: object, 4712    No Use for a Name\n",
       " Name: name, dtype: object, 4713    Cueio Limão\n",
       " Name: name, dtype: object, 4716    Rufio\n",
       " Name: name, dtype: object, 4718    Forfun\n",
       " Name: name, dtype: object, 4720    Belvedere\n",
       " Name: name, dtype: object, 4722    Mest\n",
       " Name: name, dtype: object, 4723    Less Than Jake\n",
       " Name: name, dtype: object, 4729    Aditive\n",
       " Name: name, dtype: object, 4731    Hardneja Sertacore\n",
       " Name: name, dtype: object, 4734    Houdini\n",
       " Name: name, dtype: object, 4735    Blind Pigs\n",
       " Name: name, dtype: object, 4736    Fistt\n",
       " Name: name, dtype: object, 4737    Face to Face\n",
       " Name: name, dtype: object, 4738    Gritando HC\n",
       " Name: name, dtype: object, 4788    Across Five Aprils\n",
       " Name: name, dtype: object, 4837    Deez Nuts\n",
       " Name: name, dtype: object, 4949    Aiden\n",
       " Name: name, dtype: object, 4985    Throwdown\n",
       " Name: name, dtype: object, 5086    Refused\n",
       " Name: name, dtype: object, 5474    Lionheart\n",
       " Name: name, dtype: object, 5475    Embraced by Hatred\n",
       " Name: name, dtype: object, 5477    Agnostic Front\n",
       " Name: name, dtype: object, 5479    For My Enemy\n",
       " Name: name, dtype: object, 5481    In Blood We Trust\n",
       " Name: name, dtype: object, 5507    Dead Fish\n",
       " Name: name, dtype: object, 5508    A Wilhelm Scream\n",
       " Name: name, dtype: object, 5509    Verse\n",
       " Name: name, dtype: object, 5514    Reffer\n",
       " Name: name, dtype: object, 5516    Mukeka Di Rato\n",
       " Name: name, dtype: object, 5517    Nitrominds\n",
       " Name: name, dtype: object, 5992    DJ Kurt\n",
       " Name: name, dtype: object, 5995    CPM 22\n",
       " Name: name, dtype: object, 6069    Leathermouth\n",
       " Name: name, dtype: object, 6074    The Vegas Wake Up\n",
       " Name: name, dtype: object, 6418    Good Riddance\n",
       " Name: name, dtype: object, 6852    The Casualties\n",
       " Name: name, dtype: object, Series([], Name: name, dtype: object), Series([], Name: name, dtype: object), Series([], Name: name, dtype: object), 7713    Hazen Street\n",
       " Name: name, dtype: object, 8018    Snot\n",
       " Name: name, dtype: object, 8101    American Me\n",
       " Name: name, dtype: object, 8102    The Armed\n",
       " Name: name, dtype: object, 8104    The Korea\n",
       " Name: name, dtype: object, 8191    Hopes Die Last\n",
       " Name: name, dtype: object, 8263    Every Time I Die\n",
       " Name: name, dtype: object, 8267    The Bled\n",
       " Name: name, dtype: object, 8272    Memphis May Fire\n",
       " Name: name, dtype: object, 8416    What We Feel\n",
       " Name: name, dtype: object, 8427    Проверочная Линейка\n",
       " Name: name, dtype: object, 8480    Close Your Eyes\n",
       " Name: name, dtype: object, 8521    Take It Back!\n",
       " Name: name, dtype: object, 8705    Youth of Today\n",
       " Name: name, dtype: object, Series([], Name: name, dtype: object), Series([], Name: name, dtype: object), 8709    Earth Crisis\n",
       " Name: name, dtype: object, 8710    Cruel Hand\n",
       " Name: name, dtype: object, 8711    The Mongoloids\n",
       " Name: name, dtype: object, 8715    Carry On\n",
       " Name: name, dtype: object, 8716    Minor Threat\n",
       " Name: name, dtype: object, Series([], Name: name, dtype: object), 8717    Death Before Dishonor\n",
       " Name: name, dtype: object, 8719    Ceremony\n",
       " Name: name, dtype: object, 8772    Дети Олимпиады\n",
       " Name: name, dtype: object, 8895    Magrudergrind\n",
       " Name: name, dtype: object, 9561    Trash Talk\n",
       " Name: name, dtype: object, 9579    50 Lions\n",
       " Name: name, dtype: object, 9616    Garotos Podres\n",
       " Name: name, dtype: object, 9695    Vanna\n",
       " Name: name, dtype: object, 9707    Your Demise\n",
       " Name: name, dtype: object, 10198    Пурген\n",
       " Name: name, dtype: object, 10212    Ray\n",
       " Name: name, dtype: object, 10275    Trapped Under Ice\n",
       " Name: name, dtype: object, 10278    Down to Nothing\n",
       " Name: name, dtype: object, 10279    International Superheroes of Hardcore\n",
       " Name: name, dtype: object, 10280    True Colors\n",
       " Name: name, dtype: object, 10281    Kingdom\n",
       " Name: name, dtype: object, 10282    Blood for Blood\n",
       " Name: name, dtype: object, 10285    All For Nothing\n",
       " Name: name, dtype: object, 10288    Frostbite\n",
       " Name: name, dtype: object, 10289    Internal Affairs\n",
       " Name: name, dtype: object, 10292    Furious Styles\n",
       " Name: name, dtype: object, 10361    Blooms\n",
       " Name: name, dtype: object, 10438    Blindside\n",
       " Name: name, dtype: object, 10460    Adolescents\n",
       " Name: name, dtype: object, 10491    Polara\n",
       " Name: name, dtype: object, 10498    Dibob\n",
       " Name: name, dtype: object, 10671    Fim do Silêncio\n",
       " Name: name, dtype: object, 10676    Belle Epoque\n",
       " Name: name, dtype: object, 10706    Circle Jerks\n",
       " Name: name, dtype: object, 10779    A Life Once Lost\n",
       " Name: name, dtype: object, 11219    Pulling Teeth\n",
       " Name: name, dtype: object, 11228    United Nations\n",
       " Name: name, dtype: object, 11388    Touche Amore\n",
       " Name: name, dtype: object, 11455    Sworn Enemy\n",
       " Name: name, dtype: object, 11466    Sick of It All\n",
       " Name: name, dtype: object, 11565    Doomriders\n",
       " Name: name, dtype: object, 11570    Coalesce\n",
       " Name: name, dtype: object, 11577    Trap Them\n",
       " Name: name, dtype: object, 11669    DFC\n",
       " Name: name, dtype: object, 12078    seis35\n",
       " Name: name, dtype: object, 12504    Ataque Verbal\n",
       " Name: name, dtype: object, 13037    Send More Paramedics\n",
       " Name: name, dtype: object, 13073    His Hero Is Gone\n",
       " Name: name, dtype: object, 13077    Integrity\n",
       " Name: name, dtype: object, 13149    Champion\n",
       " Name: name, dtype: object, 13528    Resist and Exist\n",
       " Name: name, dtype: object, 14128    Awaken Demons\n",
       " Name: name, dtype: object, 14132    Destruction of a King\n",
       " Name: name, dtype: object, 14144    Casey Jones\n",
       " Name: name, dtype: object, 14148    xBishopx\n",
       " Name: name, dtype: object, 14151    Berri Txarrak\n",
       " Name: name, dtype: object, 14154    Settle the Score\n",
       " Name: name, dtype: object, 14155    xREPRESENTx\n",
       " Name: name, dtype: object, 14340    Eternal Lord\n",
       " Name: name, dtype: object, 14351    Fear Before the March of Flames\n",
       " Name: name, dtype: object, 14462    Leftöver Crack\n",
       " Name: name, dtype: object, 14480    Koro\n",
       " Name: name, dtype: object, 14482    Assfactor 4\n",
       " Name: name, dtype: object, 14483    Infest\n",
       " Name: name, dtype: object, 14484    Zero Boys\n",
       " Name: name, dtype: object, 14489    Raw Power\n",
       " Name: name, dtype: object, 14681    Bambix\n",
       " Name: name, dtype: object, 14683    Secret Lives of the Freemasons\n",
       " Name: name, dtype: object, 14743    Chunk! No, Captain Chunk!\n",
       " Name: name, dtype: object, 14747    Golliwog\n",
       " Name: name, dtype: object, 15390    Heroin\n",
       " Name: name, dtype: object, 15444    Slapshot\n",
       " Name: name, dtype: object, Series([], Name: name, dtype: object), 15590    Hundredth\n",
       " Name: name, dtype: object, 15636    V/Vm\n",
       " Name: name, dtype: object, 15762    Cro-Mags\n",
       " Name: name, dtype: object, 16048    Beecher\n",
       " Name: name, dtype: object, 16165    Cursed\n",
       " Name: name, dtype: object, 16297    Tolerância Zero\n",
       " Name: name, dtype: object, 16319    None More Black\n",
       " Name: name, dtype: object, 16381    DS-13\n",
       " Name: name, dtype: object, 16915    Dangers\n",
       " Name: name, dtype: object, 16921    XFilesX\n",
       " Name: name, dtype: object, 16923    Reign Supreme\n",
       " Name: name, dtype: object, 16926    Witch Hunt\n",
       " Name: name, dtype: object, 16927    Ten Yard Fight\n",
       " Name: name, dtype: object, 16929    Killing the Dream\n",
       " Name: name, dtype: object, 16990    Broken Fist\n",
       " Name: name, dtype: object, 17040    Tunnelvison\n",
       " Name: name, dtype: object, Series([], Name: name, dtype: object), Series([], Name: name, dtype: object), Series([], Name: name, dtype: object), 17466    Jozeh Luiz\n",
       " Name: name, dtype: object, Series([], Name: name, dtype: object), Series([], Name: name, dtype: object), 17532    Заражение Крови\n",
       " Name: name, dtype: object]"
      ]
     },
     "execution_count": 20,
     "metadata": {},
     "output_type": "execute_result"
    }
   ],
   "source": [
    "ids = content_vector.artistID[predict==0]\n",
    "[artists['name'][artists.id==x] for x in ids]"
   ]
  },
  {
   "cell_type": "code",
   "execution_count": 21,
   "metadata": {},
   "outputs": [
    {
     "name": "stdout",
     "output_type": "stream",
     "text": [
      "501    Saosin\n",
      "Name: name, dtype: object\n",
      "745    Maximum the Hormone\n",
      "Name: name, dtype: object\n",
      "759    Enter Shikari\n",
      "Name: name, dtype: object\n",
      "807    A Day to Remember\n",
      "Name: name, dtype: object\n",
      "818    Ignite\n",
      "Name: name, dtype: object\n",
      "820    It Prevails\n",
      "Name: name, dtype: object\n",
      "1171    Escape The Fate\n",
      "Name: name, dtype: object\n",
      "1172    Silverstein\n",
      "Name: name, dtype: object\n",
      "1176    Alesana\n",
      "Name: name, dtype: object\n",
      "1183    Four Year Strong\n",
      "Name: name, dtype: object\n",
      "1186    Alexisonfire\n",
      "Name: name, dtype: object\n",
      "1202    Lärm\n",
      "Name: name, dtype: object\n",
      "1530    Chainsaw Disaster\n",
      "Name: name, dtype: object\n",
      "1536    Raimundos\n",
      "Name: name, dtype: object\n",
      "1537    boysetsfire\n",
      "Name: name, dtype: object\n",
      "1538    Hatebreed\n",
      "Name: name, dtype: object\n",
      "1539    wecamewithbrokenteeth\n",
      "Name: name, dtype: object\n",
      "1854    Hollywood Undead\n",
      "Name: name, dtype: object\n",
      "1859    A Skylit Drive\n",
      "Name: name, dtype: object\n",
      "2170    ВFI\n",
      "Name: name, dtype: object\n"
     ]
    }
   ],
   "source": [
    "def get_artists(cluster, n=20):\n",
    "    ids = content_vector.artistID[predict==cluster]\n",
    "    artist_list = [artists['name'][artists.id==x] for x in ids]\n",
    "    for i in range(n):\n",
    "        print(artist_list[i])\n",
    "        \n",
    "get_artists(0)"
   ]
  },
  {
   "cell_type": "code",
   "execution_count": 136,
   "metadata": {},
   "outputs": [
    {
     "name": "stdout",
     "output_type": "stream",
     "text": [
      "Series([], Name: name, dtype: object)\n",
      "1    Diary of Dreams\n",
      "Name: name, dtype: object\n",
      "2    Carpathian Forest\n",
      "Name: name, dtype: object\n",
      "4    Bella Morte\n",
      "Name: name, dtype: object\n",
      "5    Moonspell\n",
      "Name: name, dtype: object\n",
      "8    Combichrist\n",
      "Name: name, dtype: object\n",
      "9    Grendel\n",
      "Name: name, dtype: object\n",
      "10    Agonoize\n",
      "Name: name, dtype: object\n",
      "11    Behemoth\n",
      "Name: name, dtype: object\n",
      "12    Hocico\n",
      "Name: name, dtype: object\n",
      "Series([], Name: name, dtype: object)\n",
      "13    Dimmu Borgir\n",
      "Name: name, dtype: object\n",
      "14    London After Midnight\n",
      "Name: name, dtype: object\n",
      "15    Psyclon Nine\n",
      "Name: name, dtype: object\n",
      "18    Limbonic Art\n",
      "Name: name, dtype: object\n",
      "19    Artista sconosciuto\n",
      "Name: name, dtype: object\n",
      "20    xotox\n",
      "Name: name, dtype: object\n",
      "21    The Kovenant\n",
      "Name: name, dtype: object\n",
      "22    Feindflug\n",
      "Name: name, dtype: object\n",
      "24    Tamtrum\n",
      "Name: name, dtype: object\n"
     ]
    }
   ],
   "source": [
    "get_artists(1)"
   ]
  },
  {
   "cell_type": "code",
   "execution_count": null,
   "metadata": {},
   "outputs": [],
   "source": []
  },
  {
   "cell_type": "code",
   "execution_count": 58,
   "metadata": {
    "scrolled": true
   },
   "outputs": [
    {
     "data": {
      "image/png": "[encoded data removed]",
      "text/plain": [
       "<Figure size 432x288 with 1 Axes>"
      ]
     },
     "metadata": {
      "needs_background": "light"
     },
     "output_type": "display_data"
    }
   ],
   "source": [
    "import seaborn as sns\n",
    "\n",
    "sns.distplot(np.log(user_artist.weight), kde=False)\n",
    "plt.show()"
   ]
  },
  {
   "cell_type": "code",
   "execution_count": 13,
   "metadata": {},
   "outputs": [],
   "source": [
    "user_artist['weight'] = np.log(user_artist['weight'])"
   ]
  },
  {
   "cell_type": "code",
   "execution_count": 14,
   "metadata": {
    "scrolled": false
   },
   "outputs": [
    {
     "data": {
      "text/html": [
       "<div>\n",
       "<style scoped>\n",
       "    .dataframe tbody tr th:only-of-type {\n",
       "        vertical-align: middle;\n",
       "    }\n",
       "\n",
       "    .dataframe tbody tr th {\n",
       "        vertical-align: top;\n",
       "    }\n",
       "\n",
       "    .dataframe thead th {\n",
       "        text-align: right;\n",
       "    }\n",
       "</style>\n",
       "<table border=\"1\" class=\"dataframe\">\n",
       "  <thead>\n",
       "    <tr style=\"text-align: right;\">\n",
       "      <th></th>\n",
       "      <th>0</th>\n",
       "      <th>1</th>\n",
       "      <th>2</th>\n",
       "      <th>3</th>\n",
       "      <th>4</th>\n",
       "      <th>5</th>\n",
       "      <th>6</th>\n",
       "      <th>7</th>\n",
       "      <th>8</th>\n",
       "      <th>9</th>\n",
       "      <th>...</th>\n",
       "      <th>2091</th>\n",
       "      <th>2092</th>\n",
       "      <th>2093</th>\n",
       "      <th>2094</th>\n",
       "      <th>2095</th>\n",
       "      <th>2096</th>\n",
       "      <th>2097</th>\n",
       "      <th>2098</th>\n",
       "      <th>2099</th>\n",
       "      <th>2100</th>\n",
       "    </tr>\n",
       "  </thead>\n",
       "  <tbody>\n",
       "    <tr>\n",
       "      <td>0</td>\n",
       "      <td>51</td>\n",
       "      <td>0</td>\n",
       "      <td>9.538420</td>\n",
       "      <td>0.0</td>\n",
       "      <td>5.429346</td>\n",
       "      <td>0.000000</td>\n",
       "      <td>0.0</td>\n",
       "      <td>0.000000</td>\n",
       "      <td>0.0</td>\n",
       "      <td>0.0</td>\n",
       "      <td>...</td>\n",
       "      <td>0.0</td>\n",
       "      <td>0.0</td>\n",
       "      <td>0.0</td>\n",
       "      <td>0.0</td>\n",
       "      <td>0.0</td>\n",
       "      <td>0.0</td>\n",
       "      <td>0.0</td>\n",
       "      <td>0</td>\n",
       "      <td>0.0</td>\n",
       "      <td>0.000000</td>\n",
       "    </tr>\n",
       "    <tr>\n",
       "      <td>1</td>\n",
       "      <td>52</td>\n",
       "      <td>0</td>\n",
       "      <td>9.366489</td>\n",
       "      <td>0.0</td>\n",
       "      <td>0.000000</td>\n",
       "      <td>0.000000</td>\n",
       "      <td>0.0</td>\n",
       "      <td>0.000000</td>\n",
       "      <td>0.0</td>\n",
       "      <td>0.0</td>\n",
       "      <td>...</td>\n",
       "      <td>0.0</td>\n",
       "      <td>0.0</td>\n",
       "      <td>0.0</td>\n",
       "      <td>0.0</td>\n",
       "      <td>0.0</td>\n",
       "      <td>0.0</td>\n",
       "      <td>0.0</td>\n",
       "      <td>0</td>\n",
       "      <td>0.0</td>\n",
       "      <td>0.000000</td>\n",
       "    </tr>\n",
       "    <tr>\n",
       "      <td>2</td>\n",
       "      <td>53</td>\n",
       "      <td>0</td>\n",
       "      <td>9.337061</td>\n",
       "      <td>0.0</td>\n",
       "      <td>6.530878</td>\n",
       "      <td>5.198497</td>\n",
       "      <td>0.0</td>\n",
       "      <td>0.000000</td>\n",
       "      <td>0.0</td>\n",
       "      <td>0.0</td>\n",
       "      <td>...</td>\n",
       "      <td>0.0</td>\n",
       "      <td>0.0</td>\n",
       "      <td>0.0</td>\n",
       "      <td>0.0</td>\n",
       "      <td>0.0</td>\n",
       "      <td>0.0</td>\n",
       "      <td>0.0</td>\n",
       "      <td>0</td>\n",
       "      <td>0.0</td>\n",
       "      <td>0.000000</td>\n",
       "    </tr>\n",
       "    <tr>\n",
       "      <td>3</td>\n",
       "      <td>54</td>\n",
       "      <td>0</td>\n",
       "      <td>9.239899</td>\n",
       "      <td>0.0</td>\n",
       "      <td>0.000000</td>\n",
       "      <td>0.000000</td>\n",
       "      <td>0.0</td>\n",
       "      <td>0.000000</td>\n",
       "      <td>0.0</td>\n",
       "      <td>0.0</td>\n",
       "      <td>...</td>\n",
       "      <td>0.0</td>\n",
       "      <td>0.0</td>\n",
       "      <td>0.0</td>\n",
       "      <td>0.0</td>\n",
       "      <td>0.0</td>\n",
       "      <td>0.0</td>\n",
       "      <td>0.0</td>\n",
       "      <td>0</td>\n",
       "      <td>0.0</td>\n",
       "      <td>0.000000</td>\n",
       "    </tr>\n",
       "    <tr>\n",
       "      <td>4</td>\n",
       "      <td>55</td>\n",
       "      <td>0</td>\n",
       "      <td>9.103089</td>\n",
       "      <td>0.0</td>\n",
       "      <td>0.000000</td>\n",
       "      <td>0.000000</td>\n",
       "      <td>0.0</td>\n",
       "      <td>8.055475</td>\n",
       "      <td>0.0</td>\n",
       "      <td>0.0</td>\n",
       "      <td>...</td>\n",
       "      <td>0.0</td>\n",
       "      <td>0.0</td>\n",
       "      <td>0.0</td>\n",
       "      <td>0.0</td>\n",
       "      <td>0.0</td>\n",
       "      <td>0.0</td>\n",
       "      <td>0.0</td>\n",
       "      <td>0</td>\n",
       "      <td>0.0</td>\n",
       "      <td>0.000000</td>\n",
       "    </tr>\n",
       "    <tr>\n",
       "      <td>...</td>\n",
       "      <td>...</td>\n",
       "      <td>...</td>\n",
       "      <td>...</td>\n",
       "      <td>...</td>\n",
       "      <td>...</td>\n",
       "      <td>...</td>\n",
       "      <td>...</td>\n",
       "      <td>...</td>\n",
       "      <td>...</td>\n",
       "      <td>...</td>\n",
       "      <td>...</td>\n",
       "      <td>...</td>\n",
       "      <td>...</td>\n",
       "      <td>...</td>\n",
       "      <td>...</td>\n",
       "      <td>...</td>\n",
       "      <td>...</td>\n",
       "      <td>...</td>\n",
       "      <td>...</td>\n",
       "      <td>...</td>\n",
       "      <td>...</td>\n",
       "    </tr>\n",
       "    <tr>\n",
       "      <td>17627</td>\n",
       "      <td>18726</td>\n",
       "      <td>0</td>\n",
       "      <td>0.000000</td>\n",
       "      <td>0.0</td>\n",
       "      <td>0.000000</td>\n",
       "      <td>0.000000</td>\n",
       "      <td>0.0</td>\n",
       "      <td>0.000000</td>\n",
       "      <td>0.0</td>\n",
       "      <td>0.0</td>\n",
       "      <td>...</td>\n",
       "      <td>0.0</td>\n",
       "      <td>0.0</td>\n",
       "      <td>0.0</td>\n",
       "      <td>0.0</td>\n",
       "      <td>0.0</td>\n",
       "      <td>0.0</td>\n",
       "      <td>0.0</td>\n",
       "      <td>0</td>\n",
       "      <td>0.0</td>\n",
       "      <td>5.820083</td>\n",
       "    </tr>\n",
       "    <tr>\n",
       "      <td>17628</td>\n",
       "      <td>18727</td>\n",
       "      <td>0</td>\n",
       "      <td>0.000000</td>\n",
       "      <td>0.0</td>\n",
       "      <td>0.000000</td>\n",
       "      <td>0.000000</td>\n",
       "      <td>0.0</td>\n",
       "      <td>0.000000</td>\n",
       "      <td>0.0</td>\n",
       "      <td>0.0</td>\n",
       "      <td>...</td>\n",
       "      <td>0.0</td>\n",
       "      <td>0.0</td>\n",
       "      <td>0.0</td>\n",
       "      <td>0.0</td>\n",
       "      <td>0.0</td>\n",
       "      <td>0.0</td>\n",
       "      <td>0.0</td>\n",
       "      <td>0</td>\n",
       "      <td>0.0</td>\n",
       "      <td>5.693732</td>\n",
       "    </tr>\n",
       "    <tr>\n",
       "      <td>17629</td>\n",
       "      <td>18728</td>\n",
       "      <td>0</td>\n",
       "      <td>0.000000</td>\n",
       "      <td>0.0</td>\n",
       "      <td>0.000000</td>\n",
       "      <td>0.000000</td>\n",
       "      <td>0.0</td>\n",
       "      <td>0.000000</td>\n",
       "      <td>0.0</td>\n",
       "      <td>0.0</td>\n",
       "      <td>...</td>\n",
       "      <td>0.0</td>\n",
       "      <td>0.0</td>\n",
       "      <td>0.0</td>\n",
       "      <td>0.0</td>\n",
       "      <td>0.0</td>\n",
       "      <td>0.0</td>\n",
       "      <td>0.0</td>\n",
       "      <td>0</td>\n",
       "      <td>0.0</td>\n",
       "      <td>5.638355</td>\n",
       "    </tr>\n",
       "    <tr>\n",
       "      <td>17630</td>\n",
       "      <td>18729</td>\n",
       "      <td>0</td>\n",
       "      <td>0.000000</td>\n",
       "      <td>0.0</td>\n",
       "      <td>0.000000</td>\n",
       "      <td>0.000000</td>\n",
       "      <td>0.0</td>\n",
       "      <td>0.000000</td>\n",
       "      <td>0.0</td>\n",
       "      <td>0.0</td>\n",
       "      <td>...</td>\n",
       "      <td>0.0</td>\n",
       "      <td>0.0</td>\n",
       "      <td>0.0</td>\n",
       "      <td>0.0</td>\n",
       "      <td>0.0</td>\n",
       "      <td>0.0</td>\n",
       "      <td>0.0</td>\n",
       "      <td>0</td>\n",
       "      <td>0.0</td>\n",
       "      <td>5.634790</td>\n",
       "    </tr>\n",
       "    <tr>\n",
       "      <td>17631</td>\n",
       "      <td>18730</td>\n",
       "      <td>0</td>\n",
       "      <td>0.000000</td>\n",
       "      <td>0.0</td>\n",
       "      <td>0.000000</td>\n",
       "      <td>0.000000</td>\n",
       "      <td>0.0</td>\n",
       "      <td>0.000000</td>\n",
       "      <td>0.0</td>\n",
       "      <td>0.0</td>\n",
       "      <td>...</td>\n",
       "      <td>0.0</td>\n",
       "      <td>0.0</td>\n",
       "      <td>0.0</td>\n",
       "      <td>0.0</td>\n",
       "      <td>0.0</td>\n",
       "      <td>0.0</td>\n",
       "      <td>0.0</td>\n",
       "      <td>0</td>\n",
       "      <td>0.0</td>\n",
       "      <td>5.572154</td>\n",
       "    </tr>\n",
       "  </tbody>\n",
       "</table>\n",
       "<p>17632 rows × 2101 columns</p>\n",
       "</div>"
      ],
      "text/plain": [
       "        0     1         2     3         4         5     6         7     8     \\\n",
       "0         51     0  9.538420   0.0  5.429346  0.000000   0.0  0.000000   0.0   \n",
       "1         52     0  9.366489   0.0  0.000000  0.000000   0.0  0.000000   0.0   \n",
       "2         53     0  9.337061   0.0  6.530878  5.198497   0.0  0.000000   0.0   \n",
       "3         54     0  9.239899   0.0  0.000000  0.000000   0.0  0.000000   0.0   \n",
       "4         55     0  9.103089   0.0  0.000000  0.000000   0.0  8.055475   0.0   \n",
       "...      ...   ...       ...   ...       ...       ...   ...       ...   ...   \n",
       "17627  18726     0  0.000000   0.0  0.000000  0.000000   0.0  0.000000   0.0   \n",
       "17628  18727     0  0.000000   0.0  0.000000  0.000000   0.0  0.000000   0.0   \n",
       "17629  18728     0  0.000000   0.0  0.000000  0.000000   0.0  0.000000   0.0   \n",
       "17630  18729     0  0.000000   0.0  0.000000  0.000000   0.0  0.000000   0.0   \n",
       "17631  18730     0  0.000000   0.0  0.000000  0.000000   0.0  0.000000   0.0   \n",
       "\n",
       "       9     ...  2091  2092  2093  2094  2095  2096  2097  2098  2099  \\\n",
       "0       0.0  ...   0.0   0.0   0.0   0.0   0.0   0.0   0.0     0   0.0   \n",
       "1       0.0  ...   0.0   0.0   0.0   0.0   0.0   0.0   0.0     0   0.0   \n",
       "2       0.0  ...   0.0   0.0   0.0   0.0   0.0   0.0   0.0     0   0.0   \n",
       "3       0.0  ...   0.0   0.0   0.0   0.0   0.0   0.0   0.0     0   0.0   \n",
       "4       0.0  ...   0.0   0.0   0.0   0.0   0.0   0.0   0.0     0   0.0   \n",
       "...     ...  ...   ...   ...   ...   ...   ...   ...   ...   ...   ...   \n",
       "17627   0.0  ...   0.0   0.0   0.0   0.0   0.0   0.0   0.0     0   0.0   \n",
       "17628   0.0  ...   0.0   0.0   0.0   0.0   0.0   0.0   0.0     0   0.0   \n",
       "17629   0.0  ...   0.0   0.0   0.0   0.0   0.0   0.0   0.0     0   0.0   \n",
       "17630   0.0  ...   0.0   0.0   0.0   0.0   0.0   0.0   0.0     0   0.0   \n",
       "17631   0.0  ...   0.0   0.0   0.0   0.0   0.0   0.0   0.0     0   0.0   \n",
       "\n",
       "           2100  \n",
       "0      0.000000  \n",
       "1      0.000000  \n",
       "2      0.000000  \n",
       "3      0.000000  \n",
       "4      0.000000  \n",
       "...         ...  \n",
       "17627  5.820083  \n",
       "17628  5.693732  \n",
       "17629  5.638355  \n",
       "17630  5.634790  \n",
       "17631  5.572154  \n",
       "\n",
       "[17632 rows x 2101 columns]"
      ]
     },
     "execution_count": 14,
     "metadata": {},
     "output_type": "execute_result"
    }
   ],
   "source": [
    "user_likes_vector = []\n",
    "\n",
    "for a in range(len(user_artist.artistID.unique())):\n",
    "    artist_id = user_artist.artistID.unique()[a]\n",
    "    artist_df = user_artist[user_artist.artistID == artist_id]\n",
    "    newvec = [0]*2101\n",
    "    newvec[0] = user_artist.artistID.unique()[a]\n",
    "    user_likes_vector.append(newvec)\n",
    "    for row in range(artist_df.shape[0]):\n",
    "        newvec[artist_df.iloc[row,0]] = artist_df.iloc[row,2]\n",
    "\n",
    "user_likes_vector = pd.DataFrame(user_likes_vector)\n",
    "\n"
   ]
  },
  {
   "cell_type": "code",
   "execution_count": null,
   "metadata": {},
   "outputs": [],
   "source": [
    "user_likes_vector = pd.DataFrame(user_likes_vector)"
   ]
  },
  {
   "cell_type": "code",
   "execution_count": 64,
   "metadata": {
    "scrolled": true
   },
   "outputs": [
    {
     "name": "stdout",
     "output_type": "stream",
     "text": [
      "2100\n",
      "18745\n",
      "(92834, 3)\n"
     ]
    }
   ],
   "source": [
    "print(max(user_artist.userID))\n",
    "print(max(user_artist.artistID))\n",
    "print(user_artist.shape)"
   ]
  },
  {
   "cell_type": "code",
   "execution_count": 15,
   "metadata": {},
   "outputs": [],
   "source": [
    "user_likes_vector = pd.DataFrame(user_likes_vector)"
   ]
  },
  {
   "cell_type": "code",
   "execution_count": 125,
   "metadata": {},
   "outputs": [],
   "source": [
    "from sklearn.cluster import MiniBatchKMeans\n",
    "\n",
    "minik = MiniBatchKMeans(n_clusters=10, init='random')\n",
    "clusters_sim_users = minik.fit_predict(user_likes_vector.iloc[:,1:])"
   ]
  },
  {
   "cell_type": "code",
   "execution_count": 126,
   "metadata": {
    "scrolled": true
   },
   "outputs": [
    {
     "data": {
      "text/plain": [
       "<BarContainer object of 10 artists>"
      ]
     },
     "execution_count": 126,
     "metadata": {},
     "output_type": "execute_result"
    },
    {
     "data": {
      "image/png": "[encoded data removed]",
      "text/plain": [
       "<Figure size 432x288 with 1 Axes>"
      ]
     },
     "metadata": {
      "needs_background": "light"
     },
     "output_type": "display_data"
    }
   ],
   "source": [
    "plt.bar(pd.Series(clusters_sim_users).value_counts().index, pd.Series(clusters_sim_users).value_counts())"
   ]
  },
  {
   "cell_type": "code",
   "execution_count": 129,
   "metadata": {},
   "outputs": [
    {
     "data": {
      "text/plain": [
       "7    16733\n",
       "1      612\n",
       "2       49\n",
       "4       48\n",
       "6       46\n",
       "0       36\n",
       "8       32\n",
       "5       30\n",
       "3       29\n",
       "9       17\n",
       "dtype: int64"
      ]
     },
     "execution_count": 129,
     "metadata": {},
     "output_type": "execute_result"
    }
   ],
   "source": [
    "pd.Series(clusters_sim_users).value_counts()"
   ]
  },
  {
   "cell_type": "code",
   "execution_count": 113,
   "metadata": {
    "scrolled": true
   },
   "outputs": [
    {
     "data": {
      "text/plain": [
       "['Chuck Berry',\n",
       " 'Buddy Holly',\n",
       " 'The Rockats',\n",
       " \"The 5.6.7.8's\",\n",
       " 'Batmobile',\n",
       " 'The Brian Setzer Orchestra',\n",
       " 'Stray Cats',\n",
       " 'Los Straitjackets',\n",
       " 'Prince Buster',\n",
       " 'The Meteors',\n",
       " 'Charlie Feathers',\n",
       " 'Restless',\n",
       " 'ブラック・キャッツ',\n",
       " 'Billy Briggs',\n",
       " 'Jets',\n",
       " 'Tex Williams',\n",
       " 'Polecats',\n",
       " 'Hank Thompson',\n",
       " 'Frenzy',\n",
       " 'Curtis Gordon']"
      ]
     },
     "execution_count": 113,
     "metadata": {},
     "output_type": "execute_result"
    }
   ],
   "source": [
    "#clusters_sim_users[8000:8030]\n",
    "\n",
    "cluster_1 = [artist_id_to_name[x] for x in user_likes_vector.iloc[:,0][clusters_sim_users==1]]\n",
    "\n",
    "cluster_1[:20]"
   ]
  },
  {
   "cell_type": "code",
   "execution_count": 114,
   "metadata": {},
   "outputs": [
    {
     "data": {
      "text/plain": [
       "['Mercedes Sosa']"
      ]
     },
     "execution_count": 114,
     "metadata": {},
     "output_type": "execute_result"
    }
   ],
   "source": [
    "cluster_2 = [artist_id_to_name[x] for x in user_likes_vector.iloc[:,0][clusters_sim_users==2]]\n",
    "\n",
    "cluster_2[:20]"
   ]
  },
  {
   "cell_type": "code",
   "execution_count": 115,
   "metadata": {},
   "outputs": [
    {
     "data": {
      "text/plain": [
       "['Fergie', 'Glee Cast', 'Moulin Rouge']"
      ]
     },
     "execution_count": 115,
     "metadata": {},
     "output_type": "execute_result"
    }
   ],
   "source": [
    "cluster_3 = [artist_id_to_name[x] for x in user_likes_vector.iloc[:,0][clusters_sim_users==3]]\n",
    "\n",
    "cluster_3[:20]"
   ]
  },
  {
   "cell_type": "code",
   "execution_count": 116,
   "metadata": {},
   "outputs": [
    {
     "data": {
      "text/plain": [
       "['Armin van Buuren', 'Tiësto', 'Ferry Corsten']"
      ]
     },
     "execution_count": 116,
     "metadata": {},
     "output_type": "execute_result"
    }
   ],
   "source": [
    "cluster_4 = [artist_id_to_name[x] for x in user_likes_vector.iloc[:,0][clusters_sim_users==4]]\n",
    "\n",
    "cluster_4[:20]"
   ]
  },
  {
   "cell_type": "code",
   "execution_count": 19,
   "metadata": {},
   "outputs": [
    {
     "data": {
      "image/png": "[encoded data removed]",
      "text/plain": [
       "<Figure size 432x288 with 2 Axes>"
      ]
     },
     "metadata": {
      "needs_background": "light"
     },
     "output_type": "display_data"
    }
   ],
   "source": [
    "from sklearn import metrics \n",
    "from scipy.spatial.distance import cdist\n",
    "\n",
    "X = content_vector.iloc[:,1:]\n",
    "\n",
    "distortions = []\n",
    "inertias = []\n",
    "\n",
    "k_range = range(1,50)\n",
    "\n",
    "for k in k_range:\n",
    "    model = MiniBatchKMeans(n_clusters = k).fit(X)\n",
    "    distortions.append(sum(np.min(cdist(X, model.cluster_centers_, 'euclidean'), axis=1)) / X.shape[0])\n",
    "    inertias.append(model.inertia_)\n",
    "\n",
    "plt.subplot(1,2,1)\n",
    "plt.plot([x for x in range(1,50)], distortions)\n",
    "\n",
    "plt.subplot(1,2,2)\n",
    "plt.plot([x for x in range(1,50)], inertias)\n",
    "\n",
    "plt.show()"
   ]
  },
  {
   "cell_type": "code",
   "execution_count": 23,
   "metadata": {},
   "outputs": [
    {
     "ename": "ValueError",
     "evalue": "x and y must have same first dimension, but have shapes (49,) and (199,)",
     "output_type": "error",
     "traceback": [
      "\u001b[0;31m---------------------------------------------------------------------------\u001b[0m",
      "\u001b[0;31mValueError\u001b[0m                                Traceback (most recent call last)",
      "\u001b[0;32m<ipython-input-23-b6078df1eacd>\u001b[0m in \u001b[0;36m<module>\u001b[0;34m\u001b[0m\n\u001b[1;32m     10\u001b[0m \u001b[0;34m\u001b[0m\u001b[0m\n\u001b[1;32m     11\u001b[0m \u001b[0mplt\u001b[0m\u001b[0;34m.\u001b[0m\u001b[0msubplot\u001b[0m\u001b[0;34m(\u001b[0m\u001b[0;36m1\u001b[0m\u001b[0;34m,\u001b[0m\u001b[0;36m2\u001b[0m\u001b[0;34m,\u001b[0m\u001b[0;36m1\u001b[0m\u001b[0;34m)\u001b[0m\u001b[0;34m\u001b[0m\u001b[0;34m\u001b[0m\u001b[0m\n\u001b[0;32m---> 12\u001b[0;31m \u001b[0mplt\u001b[0m\u001b[0;34m.\u001b[0m\u001b[0mplot\u001b[0m\u001b[0;34m(\u001b[0m\u001b[0;34m[\u001b[0m\u001b[0mx\u001b[0m \u001b[0;32mfor\u001b[0m \u001b[0mx\u001b[0m \u001b[0;32min\u001b[0m \u001b[0mrange\u001b[0m\u001b[0;34m(\u001b[0m\u001b[0;36m1\u001b[0m\u001b[0;34m,\u001b[0m\u001b[0;36m50\u001b[0m\u001b[0;34m)\u001b[0m\u001b[0;34m]\u001b[0m\u001b[0;34m,\u001b[0m \u001b[0mdistortions\u001b[0m\u001b[0;34m)\u001b[0m\u001b[0;34m\u001b[0m\u001b[0;34m\u001b[0m\u001b[0m\n\u001b[0m\u001b[1;32m     13\u001b[0m \u001b[0;34m\u001b[0m\u001b[0m\n\u001b[1;32m     14\u001b[0m \u001b[0mplt\u001b[0m\u001b[0;34m.\u001b[0m\u001b[0msubplot\u001b[0m\u001b[0;34m(\u001b[0m\u001b[0;36m1\u001b[0m\u001b[0;34m,\u001b[0m\u001b[0;36m2\u001b[0m\u001b[0;34m,\u001b[0m\u001b[0;36m2\u001b[0m\u001b[0;34m)\u001b[0m\u001b[0;34m\u001b[0m\u001b[0;34m\u001b[0m\u001b[0m\n",
      "\u001b[0;32m/opt/anaconda3/lib/python3.7/site-packages/matplotlib/pyplot.py\u001b[0m in \u001b[0;36mplot\u001b[0;34m(scalex, scaley, data, *args, **kwargs)\u001b[0m\n\u001b[1;32m   2793\u001b[0m     return gca().plot(\n\u001b[1;32m   2794\u001b[0m         *args, scalex=scalex, scaley=scaley, **({\"data\": data} if data\n\u001b[0;32m-> 2795\u001b[0;31m         is not None else {}), **kwargs)\n\u001b[0m\u001b[1;32m   2796\u001b[0m \u001b[0;34m\u001b[0m\u001b[0m\n\u001b[1;32m   2797\u001b[0m \u001b[0;34m\u001b[0m\u001b[0m\n",
      "\u001b[0;32m/opt/anaconda3/lib/python3.7/site-packages/matplotlib/axes/_axes.py\u001b[0m in \u001b[0;36mplot\u001b[0;34m(self, scalex, scaley, data, *args, **kwargs)\u001b[0m\n\u001b[1;32m   1664\u001b[0m         \"\"\"\n\u001b[1;32m   1665\u001b[0m         \u001b[0mkwargs\u001b[0m \u001b[0;34m=\u001b[0m \u001b[0mcbook\u001b[0m\u001b[0;34m.\u001b[0m\u001b[0mnormalize_kwargs\u001b[0m\u001b[0;34m(\u001b[0m\u001b[0mkwargs\u001b[0m\u001b[0;34m,\u001b[0m \u001b[0mmlines\u001b[0m\u001b[0;34m.\u001b[0m\u001b[0mLine2D\u001b[0m\u001b[0;34m.\u001b[0m\u001b[0m_alias_map\u001b[0m\u001b[0;34m)\u001b[0m\u001b[0;34m\u001b[0m\u001b[0;34m\u001b[0m\u001b[0m\n\u001b[0;32m-> 1666\u001b[0;31m         \u001b[0mlines\u001b[0m \u001b[0;34m=\u001b[0m \u001b[0;34m[\u001b[0m\u001b[0;34m*\u001b[0m\u001b[0mself\u001b[0m\u001b[0;34m.\u001b[0m\u001b[0m_get_lines\u001b[0m\u001b[0;34m(\u001b[0m\u001b[0;34m*\u001b[0m\u001b[0margs\u001b[0m\u001b[0;34m,\u001b[0m \u001b[0mdata\u001b[0m\u001b[0;34m=\u001b[0m\u001b[0mdata\u001b[0m\u001b[0;34m,\u001b[0m \u001b[0;34m**\u001b[0m\u001b[0mkwargs\u001b[0m\u001b[0;34m)\u001b[0m\u001b[0;34m]\u001b[0m\u001b[0;34m\u001b[0m\u001b[0;34m\u001b[0m\u001b[0m\n\u001b[0m\u001b[1;32m   1667\u001b[0m         \u001b[0;32mfor\u001b[0m \u001b[0mline\u001b[0m \u001b[0;32min\u001b[0m \u001b[0mlines\u001b[0m\u001b[0;34m:\u001b[0m\u001b[0;34m\u001b[0m\u001b[0;34m\u001b[0m\u001b[0m\n\u001b[1;32m   1668\u001b[0m             \u001b[0mself\u001b[0m\u001b[0;34m.\u001b[0m\u001b[0madd_line\u001b[0m\u001b[0;34m(\u001b[0m\u001b[0mline\u001b[0m\u001b[0;34m)\u001b[0m\u001b[0;34m\u001b[0m\u001b[0;34m\u001b[0m\u001b[0m\n",
      "\u001b[0;32m/opt/anaconda3/lib/python3.7/site-packages/matplotlib/axes/_base.py\u001b[0m in \u001b[0;36m__call__\u001b[0;34m(self, *args, **kwargs)\u001b[0m\n\u001b[1;32m    223\u001b[0m                 \u001b[0mthis\u001b[0m \u001b[0;34m+=\u001b[0m \u001b[0margs\u001b[0m\u001b[0;34m[\u001b[0m\u001b[0;36m0\u001b[0m\u001b[0;34m]\u001b[0m\u001b[0;34m,\u001b[0m\u001b[0;34m\u001b[0m\u001b[0;34m\u001b[0m\u001b[0m\n\u001b[1;32m    224\u001b[0m                 \u001b[0margs\u001b[0m \u001b[0;34m=\u001b[0m \u001b[0margs\u001b[0m\u001b[0;34m[\u001b[0m\u001b[0;36m1\u001b[0m\u001b[0;34m:\u001b[0m\u001b[0;34m]\u001b[0m\u001b[0;34m\u001b[0m\u001b[0;34m\u001b[0m\u001b[0m\n\u001b[0;32m--> 225\u001b[0;31m             \u001b[0;32myield\u001b[0m \u001b[0;32mfrom\u001b[0m \u001b[0mself\u001b[0m\u001b[0;34m.\u001b[0m\u001b[0m_plot_args\u001b[0m\u001b[0;34m(\u001b[0m\u001b[0mthis\u001b[0m\u001b[0;34m,\u001b[0m \u001b[0mkwargs\u001b[0m\u001b[0;34m)\u001b[0m\u001b[0;34m\u001b[0m\u001b[0;34m\u001b[0m\u001b[0m\n\u001b[0m\u001b[1;32m    226\u001b[0m \u001b[0;34m\u001b[0m\u001b[0m\n\u001b[1;32m    227\u001b[0m     \u001b[0;32mdef\u001b[0m \u001b[0mget_next_color\u001b[0m\u001b[0;34m(\u001b[0m\u001b[0mself\u001b[0m\u001b[0;34m)\u001b[0m\u001b[0;34m:\u001b[0m\u001b[0;34m\u001b[0m\u001b[0;34m\u001b[0m\u001b[0m\n",
      "\u001b[0;32m/opt/anaconda3/lib/python3.7/site-packages/matplotlib/axes/_base.py\u001b[0m in \u001b[0;36m_plot_args\u001b[0;34m(self, tup, kwargs)\u001b[0m\n\u001b[1;32m    389\u001b[0m             \u001b[0mx\u001b[0m\u001b[0;34m,\u001b[0m \u001b[0my\u001b[0m \u001b[0;34m=\u001b[0m \u001b[0mindex_of\u001b[0m\u001b[0;34m(\u001b[0m\u001b[0mtup\u001b[0m\u001b[0;34m[\u001b[0m\u001b[0;34m-\u001b[0m\u001b[0;36m1\u001b[0m\u001b[0;34m]\u001b[0m\u001b[0;34m)\u001b[0m\u001b[0;34m\u001b[0m\u001b[0;34m\u001b[0m\u001b[0m\n\u001b[1;32m    390\u001b[0m \u001b[0;34m\u001b[0m\u001b[0m\n\u001b[0;32m--> 391\u001b[0;31m         \u001b[0mx\u001b[0m\u001b[0;34m,\u001b[0m \u001b[0my\u001b[0m \u001b[0;34m=\u001b[0m \u001b[0mself\u001b[0m\u001b[0;34m.\u001b[0m\u001b[0m_xy_from_xy\u001b[0m\u001b[0;34m(\u001b[0m\u001b[0mx\u001b[0m\u001b[0;34m,\u001b[0m \u001b[0my\u001b[0m\u001b[0;34m)\u001b[0m\u001b[0;34m\u001b[0m\u001b[0;34m\u001b[0m\u001b[0m\n\u001b[0m\u001b[1;32m    392\u001b[0m \u001b[0;34m\u001b[0m\u001b[0m\n\u001b[1;32m    393\u001b[0m         \u001b[0;32mif\u001b[0m \u001b[0mself\u001b[0m\u001b[0;34m.\u001b[0m\u001b[0mcommand\u001b[0m \u001b[0;34m==\u001b[0m \u001b[0;34m'plot'\u001b[0m\u001b[0;34m:\u001b[0m\u001b[0;34m\u001b[0m\u001b[0;34m\u001b[0m\u001b[0m\n",
      "\u001b[0;32m/opt/anaconda3/lib/python3.7/site-packages/matplotlib/axes/_base.py\u001b[0m in \u001b[0;36m_xy_from_xy\u001b[0;34m(self, x, y)\u001b[0m\n\u001b[1;32m    268\u001b[0m         \u001b[0;32mif\u001b[0m \u001b[0mx\u001b[0m\u001b[0;34m.\u001b[0m\u001b[0mshape\u001b[0m\u001b[0;34m[\u001b[0m\u001b[0;36m0\u001b[0m\u001b[0;34m]\u001b[0m \u001b[0;34m!=\u001b[0m \u001b[0my\u001b[0m\u001b[0;34m.\u001b[0m\u001b[0mshape\u001b[0m\u001b[0;34m[\u001b[0m\u001b[0;36m0\u001b[0m\u001b[0;34m]\u001b[0m\u001b[0;34m:\u001b[0m\u001b[0;34m\u001b[0m\u001b[0;34m\u001b[0m\u001b[0m\n\u001b[1;32m    269\u001b[0m             raise ValueError(\"x and y must have same first dimension, but \"\n\u001b[0;32m--> 270\u001b[0;31m                              \"have shapes {} and {}\".format(x.shape, y.shape))\n\u001b[0m\u001b[1;32m    271\u001b[0m         \u001b[0;32mif\u001b[0m \u001b[0mx\u001b[0m\u001b[0;34m.\u001b[0m\u001b[0mndim\u001b[0m \u001b[0;34m>\u001b[0m \u001b[0;36m2\u001b[0m \u001b[0;32mor\u001b[0m \u001b[0my\u001b[0m\u001b[0;34m.\u001b[0m\u001b[0mndim\u001b[0m \u001b[0;34m>\u001b[0m \u001b[0;36m2\u001b[0m\u001b[0;34m:\u001b[0m\u001b[0;34m\u001b[0m\u001b[0;34m\u001b[0m\u001b[0m\n\u001b[1;32m    272\u001b[0m             raise ValueError(\"x and y can be no greater than 2-D, but have \"\n",
      "\u001b[0;31mValueError\u001b[0m: x and y must have same first dimension, but have shapes (49,) and (199,)"
     ]
    },
    {
     "data": {
      "image/png": "[encoded data removed]",
      "text/plain": [
       "<Figure size 432x288 with 1 Axes>"
      ]
     },
     "metadata": {
      "needs_background": "light"
     },
     "output_type": "display_data"
    }
   ],
   "source": [
    "distortions = []\n",
    "inertias = []\n",
    "\n",
    "k_range = range(1,200)\n",
    "\n",
    "for k in k_range:\n",
    "    model = MiniBatchKMeans(n_clusters = k).fit(user_likes_vector.iloc[:,1:])\n",
    "    distortions.append(sum(np.min(cdist(user_likes_vector.iloc[:,1:], model.cluster_centers_, 'euclidean'), axis=1)) / user_likes_vector.shape[0])\n",
    "    inertias.append(model.inertia_)\n",
    "\n",
    "plt.subplot(1,2,1)\n",
    "plt.plot([x for x in range(1,200)], distortions)\n",
    "\n",
    "plt.subplot(1,2,2)\n",
    "plt.plot([x for x in range(1,200)], inertias)\n",
    "\n",
    "plt.show()"
   ]
  },
  {
   "cell_type": "code",
   "execution_count": 24,
   "metadata": {},
   "outputs": [
    {
     "data": {
      "image/png": "[encoded data removed]",
      "text/plain": [
       "<Figure size 432x288 with 2 Axes>"
      ]
     },
     "metadata": {
      "needs_background": "light"
     },
     "output_type": "display_data"
    }
   ],
   "source": [
    "plt.subplot(1,2,1)\n",
    "plt.plot([x for x in range(1,200)], distortions)\n",
    "\n",
    "plt.subplot(1,2,2)\n",
    "plt.plot([x for x in range(1,200)], inertias)\n",
    "\n",
    "plt.show()"
   ]
  },
  {
   "cell_type": "code",
   "execution_count": 21,
   "metadata": {},
   "outputs": [
    {
     "ename": "AttributeError",
     "evalue": "'GaussianMixture' object has no attribute 'cluster_centers_'",
     "output_type": "error",
     "traceback": [
      "\u001b[0;31m---------------------------------------------------------------------------\u001b[0m",
      "\u001b[0;31mAttributeError\u001b[0m                            Traceback (most recent call last)",
      "\u001b[0;32m<ipython-input-21-3b37c1ddb8f1>\u001b[0m in \u001b[0;36m<module>\u001b[0;34m\u001b[0m\n\u001b[1;32m      8\u001b[0m \u001b[0;32mfor\u001b[0m \u001b[0mk\u001b[0m \u001b[0;32min\u001b[0m \u001b[0mk_range\u001b[0m\u001b[0;34m:\u001b[0m\u001b[0;34m\u001b[0m\u001b[0;34m\u001b[0m\u001b[0m\n\u001b[1;32m      9\u001b[0m     \u001b[0mmodel\u001b[0m \u001b[0;34m=\u001b[0m \u001b[0mGaussianMixture\u001b[0m\u001b[0;34m(\u001b[0m\u001b[0mn_components\u001b[0m \u001b[0;34m=\u001b[0m \u001b[0mk\u001b[0m\u001b[0;34m)\u001b[0m\u001b[0;34m.\u001b[0m\u001b[0mfit\u001b[0m\u001b[0;34m(\u001b[0m\u001b[0mcontent_vector\u001b[0m\u001b[0;34m.\u001b[0m\u001b[0miloc\u001b[0m\u001b[0;34m[\u001b[0m\u001b[0;34m:\u001b[0m\u001b[0;34m,\u001b[0m\u001b[0;36m1\u001b[0m\u001b[0;34m:\u001b[0m\u001b[0;34m]\u001b[0m\u001b[0;34m)\u001b[0m\u001b[0;34m\u001b[0m\u001b[0;34m\u001b[0m\u001b[0m\n\u001b[0;32m---> 10\u001b[0;31m     \u001b[0mdistortions\u001b[0m\u001b[0;34m.\u001b[0m\u001b[0mappend\u001b[0m\u001b[0;34m(\u001b[0m\u001b[0msum\u001b[0m\u001b[0;34m(\u001b[0m\u001b[0mnp\u001b[0m\u001b[0;34m.\u001b[0m\u001b[0mmin\u001b[0m\u001b[0;34m(\u001b[0m\u001b[0mcdist\u001b[0m\u001b[0;34m(\u001b[0m\u001b[0mcontent_vector\u001b[0m\u001b[0;34m.\u001b[0m\u001b[0miloc\u001b[0m\u001b[0;34m[\u001b[0m\u001b[0;34m:\u001b[0m\u001b[0;34m,\u001b[0m\u001b[0;36m1\u001b[0m\u001b[0;34m:\u001b[0m\u001b[0;34m]\u001b[0m\u001b[0;34m,\u001b[0m \u001b[0mmodel\u001b[0m\u001b[0;34m.\u001b[0m\u001b[0mcluster_centers_\u001b[0m\u001b[0;34m,\u001b[0m \u001b[0;34m'euclidean'\u001b[0m\u001b[0;34m)\u001b[0m\u001b[0;34m,\u001b[0m \u001b[0maxis\u001b[0m\u001b[0;34m=\u001b[0m\u001b[0;36m1\u001b[0m\u001b[0;34m)\u001b[0m\u001b[0;34m)\u001b[0m \u001b[0;34m/\u001b[0m \u001b[0mcontent_vector\u001b[0m\u001b[0;34m.\u001b[0m\u001b[0mshape\u001b[0m\u001b[0;34m[\u001b[0m\u001b[0;36m0\u001b[0m\u001b[0;34m]\u001b[0m\u001b[0;34m)\u001b[0m\u001b[0;34m\u001b[0m\u001b[0;34m\u001b[0m\u001b[0m\n\u001b[0m\u001b[1;32m     11\u001b[0m     \u001b[0minertias\u001b[0m\u001b[0;34m.\u001b[0m\u001b[0mappend\u001b[0m\u001b[0;34m(\u001b[0m\u001b[0mmodel\u001b[0m\u001b[0;34m.\u001b[0m\u001b[0minertia_\u001b[0m\u001b[0;34m)\u001b[0m\u001b[0;34m\u001b[0m\u001b[0;34m\u001b[0m\u001b[0m\n\u001b[1;32m     12\u001b[0m \u001b[0;34m\u001b[0m\u001b[0m\n",
      "\u001b[0;31mAttributeError\u001b[0m: 'GaussianMixture' object has no attribute 'cluster_centers_'"
     ]
    }
   ],
   "source": [
    "from sklearn.mixture import GaussianMixture\n",
    "\n",
    "distortions = []\n",
    "inertias = []\n",
    "\n",
    "k_range = range(1,50)\n",
    "\n",
    "for k in k_range:\n",
    "    model = GaussianMixture(n_components = k).fit(content_vector.iloc[:,1:])\n",
    "    distortions.append(sum(np.min(cdist(content_vector.iloc[:,1:], model.cluster_centers_, 'euclidean'), axis=1)) / content_vector.shape[0])\n",
    "    inertias.append(model.inertia_)\n",
    "\n",
    "plt.subplot(1,2,1)\n",
    "plt.plot([x for x in range(1,50)], distortions)\n",
    "\n",
    "plt.subplot(1,2,2)\n",
    "plt.plot([x for x in range(1,50)], inertias)\n",
    "\n",
    "plt.show()"
   ]
  },
  {
   "cell_type": "code",
   "execution_count": null,
   "metadata": {},
   "outputs": [],
   "source": [
    "distortions = []\n",
    "inertias = []\n",
    "\n",
    "k_range = range(1,50)\n",
    "\n",
    "for k in k_range:\n",
    "    model = GaussianMixture(n_components = k).fit(user_likes_vector.iloc[:,1:])\n",
    "    distortions.append(sum(np.min(cdist(user_likes_vector.iloc[:,1:], model.cluster_centers_, 'euclidean'), axis=1)) / user_likes_vector.shape[0])\n",
    "    inertias.append(model.inertia_)\n",
    "\n",
    "plt.subplot(1,2,1)\n",
    "plt.plot([x for x in range(1,50)], distortions)\n",
    "\n",
    "plt.subplot(1,2,2)\n",
    "plt.plot([x for x in range(1,50)], inertias)\n",
    "\n",
    "plt.show()"
   ]
  }
 ],
 "metadata": {
  "kernelspec": {
   "display_name": "Python 3",
   "language": "python",
   "name": "python3"
  },
  "language_info": {
   "codemirror_mode": {
    "name": "ipython",
    "version": 3
   },
   "file_extension": ".py",
   "mimetype": "text/x-python",
   "name": "python",
   "nbconvert_exporter": "python",
   "pygments_lexer": "ipython3",
   "version": "3.7.4"
  }
 },
 "nbformat": 4,
 "nbformat_minor": 2
}
