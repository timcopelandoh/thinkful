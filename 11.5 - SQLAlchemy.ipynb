{
 "cells": [
  {
   "cell_type": "markdown",
   "metadata": {},
   "source": [
    "# Module 11.5 - Getting SQL Data into Python"
   ]
  },
  {
   "cell_type": "code",
   "execution_count": 57,
   "metadata": {},
   "outputs": [],
   "source": [
    "from sqlalchemy import create_engine\n",
    "import numpy as np\n",
    "\n",
    "pg_user = 'dsbc_student'\n",
    "pg_pw = '7*.8G9QH21'\n",
    "pg_host = '142.93.121.174'\n",
    "pg_port = '5432'\n",
    "pg_db = 'dvdrentals'\n",
    "\n",
    "engine = create_engine('postgresql://{}:{}@{}:{}/{}'.format(\n",
    "    pg_user, pg_pw, pg_host, pg_port, pg_db))"
   ]
  },
  {
   "cell_type": "markdown",
   "metadata": {},
   "source": [
    "Question 1: How many movies are released for each rating?"
   ]
  },
  {
   "cell_type": "code",
   "execution_count": 58,
   "metadata": {},
   "outputs": [
    {
     "name": "stdout",
     "output_type": "stream",
     "text": [
      "('R', 195)\n",
      "('NC-17', 210)\n",
      "('PG', 194)\n",
      "('PG-13', 223)\n",
      "('G', 178)\n"
     ]
    }
   ],
   "source": [
    "sql = '''\n",
    "SELECT rating, COUNT(*)\n",
    "FROM film\n",
    "GROUP BY rating;\n",
    "'''\n",
    "\n",
    "q1 = engine.execute(sql)\n",
    "engine.dispose()\n",
    "rows = q1.fetchall()\n",
    "\n",
    "for row in rows:\n",
    "    print(row)"
   ]
  },
  {
   "cell_type": "markdown",
   "metadata": {},
   "source": [
    "Question 2: What is the average rental duration for each rating?"
   ]
  },
  {
   "cell_type": "code",
   "execution_count": 59,
   "metadata": {},
   "outputs": [
    {
     "name": "stdout",
     "output_type": "stream",
     "text": [
      "('R', datetime.timedelta(days=4, seconds=84121, microseconds=427665))\n",
      "('NC-17', datetime.timedelta(days=5, seconds=2146, microseconds=832872))\n",
      "('PG', datetime.timedelta(days=4, seconds=85290, microseconds=594901))\n",
      "('PG-13', datetime.timedelta(days=5, seconds=6769, microseconds=127857))\n",
      "('G', datetime.timedelta(days=5, seconds=5277, microseconds=744526))\n"
     ]
    }
   ],
   "source": [
    "sql = '''\n",
    "SELECT \n",
    "    film.rating,\n",
    "    AVG(rental.return_date - rental.rental_date) AS avg_duration\n",
    "FROM rental \n",
    "\n",
    "LEFT OUTER JOIN inventory\n",
    "ON rental.inventory_id = inventory.inventory_id\n",
    "\n",
    "LEFT OUTER JOIN film\n",
    "ON inventory.film_id = film.film_id\n",
    "\n",
    "GROUP BY film.rating\n",
    "'''\n",
    "\n",
    "q2 = engine.execute(sql)\n",
    "engine.dispose()\n",
    "rows = q2.fetchall()\n",
    "\n",
    "for row in rows:\n",
    "    print(row)"
   ]
  },
  {
   "cell_type": "markdown",
   "metadata": {},
   "source": [
    "Question 3: What is the mean movie length?"
   ]
  },
  {
   "cell_type": "code",
   "execution_count": 60,
   "metadata": {},
   "outputs": [
    {
     "name": "stdout",
     "output_type": "stream",
     "text": [
      "The average movie length is 115 minutes.\n"
     ]
    }
   ],
   "source": [
    "def average(x):\n",
    "    return sum(x)/len(x)\n",
    "\n",
    "sql = '''\n",
    "SELECT length\n",
    "FROM film'''\n",
    "\n",
    "q3 = engine.execute(sql)\n",
    "engine.dispose()\n",
    "rows = q3.fetchall()\n",
    "\n",
    "lengths = []\n",
    "\n",
    "for row in rows:\n",
    "    lengths.append(row['length'])\n",
    "    \n",
    "avg = average(lengths)\n",
    "\n",
    "print(\"The average movie length is {} minutes.\".format(int(round(avg,0))))"
   ]
  },
  {
   "cell_type": "markdown",
   "metadata": {},
   "source": [
    "Question 4: What is the median movie length?"
   ]
  },
  {
   "cell_type": "code",
   "execution_count": 61,
   "metadata": {},
   "outputs": [
    {
     "name": "stdout",
     "output_type": "stream",
     "text": [
      "The median movie length is 114 minutes\n"
     ]
    }
   ],
   "source": [
    "def median(x):\n",
    "    x = sorted(x)\n",
    "    if len(x) % 2 == 1:\n",
    "        return x[len(x)//2]\n",
    "    else:\n",
    "        return (x[len(x)//2]+x[len(x)//2-1])/2\n",
    "    \n",
    "med = median(lengths)\n",
    "\n",
    "print(\"The median movie length is {} minutes\".format(int(med)))"
   ]
  },
  {
   "cell_type": "markdown",
   "metadata": {},
   "source": [
    "Question 5: Calculate the standard deviation of movie lengths"
   ]
  },
  {
   "cell_type": "code",
   "execution_count": 62,
   "metadata": {},
   "outputs": [
    {
     "name": "stdout",
     "output_type": "stream",
     "text": [
      "The standard deviation of movie lengths is 40 minutes\n"
     ]
    }
   ],
   "source": [
    "import math\n",
    "\n",
    "def std_dev(x):\n",
    "    return math.sqrt(sum([(i-average(x))**2 for i in x])/(len(x)-1))\n",
    "\n",
    "std = std_dev(lengths)\n",
    "\n",
    "print('The standard deviation of movie lengths is {} minutes'.format(int(round(std,0))))"
   ]
  }
 ],
 "metadata": {
  "kernelspec": {
   "display_name": "Python 3",
   "language": "python",
   "name": "python3"
  },
  "language_info": {
   "codemirror_mode": {
    "name": "ipython",
    "version": 3
   },
   "file_extension": ".py",
   "mimetype": "text/x-python",
   "name": "python",
   "nbconvert_exporter": "python",
   "pygments_lexer": "ipython3",
   "version": "3.7.3"
  }
 },
 "nbformat": 4,
 "nbformat_minor": 2
}
