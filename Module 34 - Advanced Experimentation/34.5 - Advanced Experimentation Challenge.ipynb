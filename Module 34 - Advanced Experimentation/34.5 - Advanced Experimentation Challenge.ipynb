{
 "cells": [
  {
   "cell_type": "code",
   "execution_count": 60,
   "metadata": {
    "scrolled": true
   },
   "outputs": [
    {
     "data": {
      "text/html": [
       "<div>\n",
       "<style scoped>\n",
       "    .dataframe tbody tr th:only-of-type {\n",
       "        vertical-align: middle;\n",
       "    }\n",
       "\n",
       "    .dataframe tbody tr th {\n",
       "        vertical-align: top;\n",
       "    }\n",
       "\n",
       "    .dataframe thead th {\n",
       "        text-align: right;\n",
       "    }\n",
       "</style>\n",
       "<table border=\"1\" class=\"dataframe\">\n",
       "  <thead>\n",
       "    <tr style=\"text-align: right;\">\n",
       "      <th></th>\n",
       "      <th>cntry</th>\n",
       "      <th>idno</th>\n",
       "      <th>year</th>\n",
       "      <th>tvtot</th>\n",
       "      <th>ppltrst</th>\n",
       "      <th>pplfair</th>\n",
       "      <th>pplhlp</th>\n",
       "      <th>happy</th>\n",
       "      <th>sclmeet</th>\n",
       "      <th>sclact</th>\n",
       "      <th>gndr</th>\n",
       "      <th>agea</th>\n",
       "      <th>partner</th>\n",
       "    </tr>\n",
       "  </thead>\n",
       "  <tbody>\n",
       "    <tr>\n",
       "      <td>0</td>\n",
       "      <td>CH</td>\n",
       "      <td>5.0</td>\n",
       "      <td>6</td>\n",
       "      <td>3.0</td>\n",
       "      <td>3.0</td>\n",
       "      <td>10.0</td>\n",
       "      <td>5.0</td>\n",
       "      <td>8.0</td>\n",
       "      <td>5.0</td>\n",
       "      <td>4.0</td>\n",
       "      <td>2.0</td>\n",
       "      <td>60.0</td>\n",
       "      <td>1.0</td>\n",
       "    </tr>\n",
       "    <tr>\n",
       "      <td>1</td>\n",
       "      <td>CH</td>\n",
       "      <td>25.0</td>\n",
       "      <td>6</td>\n",
       "      <td>6.0</td>\n",
       "      <td>5.0</td>\n",
       "      <td>7.0</td>\n",
       "      <td>5.0</td>\n",
       "      <td>9.0</td>\n",
       "      <td>3.0</td>\n",
       "      <td>2.0</td>\n",
       "      <td>2.0</td>\n",
       "      <td>59.0</td>\n",
       "      <td>1.0</td>\n",
       "    </tr>\n",
       "    <tr>\n",
       "      <td>2</td>\n",
       "      <td>CH</td>\n",
       "      <td>26.0</td>\n",
       "      <td>6</td>\n",
       "      <td>1.0</td>\n",
       "      <td>8.0</td>\n",
       "      <td>8.0</td>\n",
       "      <td>8.0</td>\n",
       "      <td>7.0</td>\n",
       "      <td>6.0</td>\n",
       "      <td>3.0</td>\n",
       "      <td>1.0</td>\n",
       "      <td>24.0</td>\n",
       "      <td>2.0</td>\n",
       "    </tr>\n",
       "    <tr>\n",
       "      <td>3</td>\n",
       "      <td>CH</td>\n",
       "      <td>28.0</td>\n",
       "      <td>6</td>\n",
       "      <td>4.0</td>\n",
       "      <td>6.0</td>\n",
       "      <td>6.0</td>\n",
       "      <td>7.0</td>\n",
       "      <td>10.0</td>\n",
       "      <td>6.0</td>\n",
       "      <td>2.0</td>\n",
       "      <td>2.0</td>\n",
       "      <td>64.0</td>\n",
       "      <td>1.0</td>\n",
       "    </tr>\n",
       "    <tr>\n",
       "      <td>4</td>\n",
       "      <td>CH</td>\n",
       "      <td>29.0</td>\n",
       "      <td>6</td>\n",
       "      <td>5.0</td>\n",
       "      <td>6.0</td>\n",
       "      <td>7.0</td>\n",
       "      <td>5.0</td>\n",
       "      <td>8.0</td>\n",
       "      <td>7.0</td>\n",
       "      <td>2.0</td>\n",
       "      <td>2.0</td>\n",
       "      <td>55.0</td>\n",
       "      <td>1.0</td>\n",
       "    </tr>\n",
       "  </tbody>\n",
       "</table>\n",
       "</div>"
      ],
      "text/plain": [
       "  cntry  idno  year  tvtot  ppltrst  pplfair  pplhlp  happy  sclmeet  sclact  \\\n",
       "0    CH   5.0     6    3.0      3.0     10.0     5.0    8.0      5.0     4.0   \n",
       "1    CH  25.0     6    6.0      5.0      7.0     5.0    9.0      3.0     2.0   \n",
       "2    CH  26.0     6    1.0      8.0      8.0     8.0    7.0      6.0     3.0   \n",
       "3    CH  28.0     6    4.0      6.0      6.0     7.0   10.0      6.0     2.0   \n",
       "4    CH  29.0     6    5.0      6.0      7.0     5.0    8.0      7.0     2.0   \n",
       "\n",
       "   gndr  agea  partner  \n",
       "0   2.0  60.0      1.0  \n",
       "1   2.0  59.0      1.0  \n",
       "2   1.0  24.0      2.0  \n",
       "3   2.0  64.0      1.0  \n",
       "4   2.0  55.0      1.0  "
      ]
     },
     "execution_count": 60,
     "metadata": {},
     "output_type": "execute_result"
    }
   ],
   "source": [
    "import numpy as np\n",
    "import pandas as pd\n",
    "from scipy.stats import ttest_rel, ttest_ind\n",
    "\n",
    "df = pd.read_csv('adv_exp.txt')\n",
    "\n",
    "df['idno'] = df['idno'].apply(int)\n",
    "\n",
    "df.head()"
   ]
  },
  {
   "cell_type": "code",
   "execution_count": 3,
   "metadata": {},
   "outputs": [
    {
     "data": {
      "text/plain": [
       "array(['CH', 'CZ', 'DE', 'ES', 'NO', 'SE'], dtype=object)"
      ]
     },
     "execution_count": 3,
     "metadata": {},
     "output_type": "execute_result"
    }
   ],
   "source": [
    "df.cntry.unique()"
   ]
  },
  {
   "cell_type": "markdown",
   "metadata": {},
   "source": [
    "1.) Did people become less trusting from 2012 to 2014? Compute results for each country in the sample."
   ]
  },
  {
   "cell_type": "code",
   "execution_count": 56,
   "metadata": {
    "scrolled": true
   },
   "outputs": [
    {
     "name": "stdout",
     "output_type": "stream",
     "text": [
      "CH paired t-test, test statistic: 0.6586851756725737\n",
      "CH paired t-test, p-value       : 0.5102943511301135\n",
      "\n",
      "CZ paired t-test, test statistic: 0.5001638336887216\n",
      "CZ paired t-test, p-value       : 0.6171292682404208\n",
      "\n",
      "DE paired t-test, test statistic: 0.18399501804849683\n",
      "DE paired t-test, p-value       : 0.8568563797095805\n",
      "\n",
      "ES paired t-test, test statistic: -2.4561906976601646\n",
      "ES paired t-test, p-value       : 0.014181580725321856\n",
      "\n",
      "NO paired t-test, test statistic: -0.5073077081124404\n",
      "NO paired t-test, p-value       : 0.6120925701518767\n",
      "\n",
      "SE paired t-test, test statistic: 2.0671082026033982\n",
      "SE paired t-test, p-value       : 0.0390078167095776\n",
      "\n"
     ]
    }
   ],
   "source": [
    "from scipy.stats import ttest_rel\n",
    "\n",
    "for cntry in df.cntry.unique():\n",
    "    \n",
    "    df12 = df[(df.cntry == cntry) & (df.year == 6) & (df.ppltrst.isna() == False)]\n",
    "    df14 = df[(df.cntry == cntry) & (df.year == 7) & (df.ppltrst.isna() == False)]\n",
    "    \n",
    "    id_union = set(df12.idno).intersection(set(df14.idno))\n",
    "    \n",
    "    df12 = df12[[x in id_union for x in df12.idno]]\n",
    "    df14 = df14[[x in id_union for x in df14.idno]]\n",
    "    \n",
    "    test = ttest_rel(df14['ppltrst'], df12['ppltrst'])\n",
    "    \n",
    "    print('{} paired t-test, test statistic: {}'.format(cntry, test[0]))\n",
    "    print('{} paired t-test, p-value       : {}'.format(cntry, test[1]))\n",
    "    print('')"
   ]
  },
  {
   "cell_type": "markdown",
   "metadata": {},
   "source": [
    "Differences in people's assessments of others' trustworthiness changed to a statistically significant degree in two different countries. In Spain, people's assessment decreased, and in Sweden, it increased.\n",
    "\n",
    "I used a paired t-test, because this compares answers among people surveyed during both years. Since this is a subjective measure, it's beneficial to control your sample to make sure it's the same people you are comparing. One person's \"4\" might be different from another's."
   ]
  },
  {
   "cell_type": "markdown",
   "metadata": {},
   "source": [
    "2.) Did people become happier?"
   ]
  },
  {
   "cell_type": "code",
   "execution_count": 57,
   "metadata": {
    "scrolled": true
   },
   "outputs": [
    {
     "name": "stdout",
     "output_type": "stream",
     "text": [
      "CH paired t-test, test statistic: 0.319412957862232\n",
      "CH paired t-test, p-value       : 0.7495001355428359\n",
      "\n",
      "CZ paired t-test, test statistic: 1.4561384833039597\n",
      "CZ paired t-test, p-value       : 0.14584548433894534\n",
      "\n",
      "DE paired t-test, test statistic: 0.8062257748298549\n",
      "DE paired t-test, p-value       : 0.4346138707734991\n",
      "\n",
      "ES paired t-test, test statistic: -1.613832417735418\n",
      "ES paired t-test, p-value       : 0.1068245155648069\n",
      "\n",
      "NO paired t-test, test statistic: -4.2856826576235925\n",
      "NO paired t-test, p-value       : 2.0674530134057013e-05\n",
      "\n",
      "SE paired t-test, test statistic: 0.5581637086030012\n",
      "SE paired t-test, p-value       : 0.5768709591234161\n",
      "\n"
     ]
    }
   ],
   "source": [
    "for cntry in df.cntry.unique():\n",
    "    \n",
    "    df12 = df[(df.cntry == cntry) & (df.year == 6) & (df.happy.isna() == False)]\n",
    "    df14 = df[(df.cntry == cntry) & (df.year == 7) & (df.happy.isna() == False)]\n",
    "    \n",
    "    id_union = set(df12.idno).intersection(set(df14.idno))\n",
    "    \n",
    "    df12 = df12[[x in id_union for x in df12.idno]]\n",
    "    df14 = df14[[x in id_union for x in df14.idno]]\n",
    "    \n",
    "    test = ttest_rel(df14['happy'], df12['happy'])\n",
    "    \n",
    "    print('{} paired t-test, test statistic: {}'.format(cntry, test[0]))\n",
    "    print('{} paired t-test, p-value       : {}'.format(cntry, test[1]))\n",
    "    print('')"
   ]
  },
  {
   "cell_type": "markdown",
   "metadata": {},
   "source": [
    "People in Norway were substantially less happy in 2014. All other tests were not significant.\n",
    "\n",
    "I check to make sure we have sufficient sample size, since that's a large drop."
   ]
  },
  {
   "cell_type": "code",
   "execution_count": 59,
   "metadata": {},
   "outputs": [
    {
     "data": {
      "text/plain": [
       "(727, 13)"
      ]
     },
     "execution_count": 59,
     "metadata": {},
     "output_type": "execute_result"
    }
   ],
   "source": [
    "df12 = df[(df.cntry == 'NO') & (df.year == 6) & (df.happy.isna() == False)]\n",
    "df14 = df[(df.cntry == 'NO') & (df.year == 7) & (df.happy.isna() == False)]\n",
    "    \n",
    "id_union = set(df12.idno).intersection(set(df14.idno))\n",
    "    \n",
    "df12 = df12[[x in id_union for x in df12.idno]]\n",
    "df14 = df14[[x in id_union for x in df14.idno]]\n",
    "\n",
    "df14.shape"
   ]
  },
  {
   "cell_type": "markdown",
   "metadata": {},
   "source": [
    "727 is a sufficiently large sample.\n",
    "\n",
    "I used a paired t-test, because this compares answers among people surveyed during both years. Since this is a subjective measure, it's beneficial to control your sample to make sure it's the same people you are comparing. One person's \"4\" might be different from another's."
   ]
  },
  {
   "cell_type": "markdown",
   "metadata": {},
   "source": [
    "3.) Who reported watching more TV in 2012, men or women?"
   ]
  },
  {
   "cell_type": "code",
   "execution_count": 77,
   "metadata": {
    "scrolled": false
   },
   "outputs": [
    {
     "name": "stdout",
     "output_type": "stream",
     "text": [
      "Average number of hours of TV per week, men:   3.901906090190609\n",
      "Average number of hours of TV per week, women: 3.944392523364486\n",
      "T-test for statistical significant, t-score:   -0.6899928109209502\n",
      "T-test for statistical significant, p-value:   0.4902360402696986\n"
     ]
    }
   ],
   "source": [
    "print('Average number of hours of TV per week, men:   {}'.format(np.mean(df[(df.gndr == 1) & (df.year == 6)]['tvtot'])))\n",
    "print('Average number of hours of TV per week, women: {}'.format(np.mean(df[(df.gndr == 2) & (df.year == 6)]['tvtot'])))\n",
    "\n",
    "test = ttest_ind(df[(df.gndr == 1) & (df.year == 6)]['tvtot'].dropna(), df[(df.gndr == 2) & (df.year == 6)]['tvtot'].dropna())\n",
    "\n",
    "print('T-test for statistical significant, t-score:   {}'.format(test[0]))\n",
    "print('T-test for statistical significant, p-value:   {}'.format(test[1]))"
   ]
  },
  {
   "cell_type": "markdown",
   "metadata": {},
   "source": [
    "Women reported watching slightly more TV than men, but the difference was not statistically significant.\n",
    "\n",
    "I used a regular t-test, since we were comparing the averages of two groups."
   ]
  },
  {
   "cell_type": "markdown",
   "metadata": {},
   "source": [
    "4.) Who was more likely to believe people were fair in 2012, people living with a partner or people living alone?"
   ]
  },
  {
   "cell_type": "code",
   "execution_count": 78,
   "metadata": {
    "scrolled": true
   },
   "outputs": [
    {
     "name": "stdout",
     "output_type": "stream",
     "text": [
      "Average fairness rating, people living w/ partner:   6.080736012016523\n",
      "Average fairness rating, people living alone:        5.856965174129353\n",
      "T-test for statistical significant, t-score:         3.3201033970362084\n",
      "T-test for statistical significant, p-value:         0.0009073952609883756\n"
     ]
    }
   ],
   "source": [
    "print('Average fairness rating, people living w/ partner:   {}'.format(np.mean(df[(df.partner == 1) & (df.year == 6)]['pplfair'])))\n",
    "print('Average fairness rating, people living alone:        {}'.format(np.mean(df[(df.partner == 2) & (df.year == 6)]['pplfair'])))\n",
    "\n",
    "test = ttest_ind(df[(df.partner == 1) & (df.year == 6)]['pplfair'].dropna(), df[(df.partner == 2) & (df.year == 6)]['pplfair'].dropna())\n",
    "\n",
    "print('T-test for statistical significant, t-score:         {}'.format(test[0]))\n",
    "print('T-test for statistical significant, p-value:         {}'.format(test[1]))"
   ]
  },
  {
   "cell_type": "markdown",
   "metadata": {},
   "source": [
    "Those living with a partner were likely to rate others as more likely to be fair. The difference is statistically significant."
   ]
  },
  {
   "cell_type": "markdown",
   "metadata": {},
   "source": [
    "5.) Pick three or four of the countries in the sample and compare how often people met socially in 2014. Are there differences, and if so, which countries stand out?"
   ]
  },
  {
   "cell_type": "code",
   "execution_count": 88,
   "metadata": {
    "scrolled": true
   },
   "outputs": [
    {
     "name": "stdout",
     "output_type": "stream",
     "text": [
      "Response, Switzerland: 5.160621761658031\n",
      "Response, Cyprus:      4.445801526717557\n",
      "Response, Germany:     4.428571428571429\n",
      "\n",
      "Ttest_indResult(statistic=9.675850699914886, pvalue=1.7204743885392493e-21)\n",
      "Ttest_indResult(statistic=0.0433661445611368, pvalue=0.9654226437207307)\n",
      "Ttest_indResult(statistic=2.0861293215128325, pvalue=0.037289604714147245)\n"
     ]
    }
   ],
   "source": [
    "df_2014 = df[df.year==7]\n",
    "\n",
    "df_ch_2014 = df_2014[df_2014.cntry == 'CH']\n",
    "df_cz_2014 = df_2014[df_2014.cntry == 'CZ']\n",
    "df_de_2014 = df_2014[df_2014.cntry == 'DE']\n",
    "\n",
    "print('Response, Switzerland: {}'.format(np.mean(df_ch_2014.sclmeet)))\n",
    "print('Response, Cyprus:      {}'.format(np.mean(df_cz_2014.sclmeet)))\n",
    "print('Response, Germany:     {}'.format(np.mean(df_de_2014.sclmeet)))\n",
    "\n",
    "print()\n",
    "\n",
    "print('T-test result, Switzerland and Cyrpus:')\n",
    "print(ttest_ind(df_ch_2014.sclmeet.dropna(), df_cz_2014.sclmeet.dropna()))\n",
    "print('T-test result, Cyprus and Germany:')\n",
    "print(ttest_ind(df_cz_2014.sclmeet.dropna(), df_de_2014.sclmeet.dropna()))\n",
    "print('T-test result, Switzerland and Germany:')\n",
    "print(ttest_ind(df_ch_2014.sclmeet.dropna(), df_de_2014.sclmeet.dropna()))\n",
    "\n"
   ]
  },
  {
   "cell_type": "markdown",
   "metadata": {},
   "source": [
    "People from Switzerland reported meeting socially more often than people from Cyrpus and Germany. The difference was statistically significant in both cases."
   ]
  },
  {
   "cell_type": "markdown",
   "metadata": {},
   "source": [
    "6.) Pick three or four of the countries in the sample and compare how often people took part in social activities, relative to others their age, in 2014. Are there differences, and if so, which countries stand out?"
   ]
  },
  {
   "cell_type": "code",
   "execution_count": 89,
   "metadata": {
    "scrolled": true
   },
   "outputs": [
    {
     "name": "stdout",
     "output_type": "stream",
     "text": [
      "Response, Switzerland: 2.7816993464052286\n",
      "Response, Cyprus:      2.703076923076923\n",
      "Response, Germany:     2.7142857142857144\n",
      "\n",
      "T-test result, Switzerland and Cyrpus:\n",
      "Ttest_indResult(statistic=1.665721791943212, pvalue=0.09599050025440872)\n",
      "T-test result, Cyprus and Germany:\n",
      "Ttest_indResult(statistic=-0.04890685579084129, pvalue=0.9610082764822516)\n",
      "T-test result, Switzerland and Germany:\n",
      "Ttest_indResult(statistic=0.2746903478421981, pvalue=0.7836271662948312)\n"
     ]
    }
   ],
   "source": [
    "df_ch_2014 = df_2014[df_2014.cntry == 'CH']\n",
    "df_cz_2014 = df_2014[df_2014.cntry == 'CZ']\n",
    "df_de_2014 = df_2014[df_2014.cntry == 'DE']\n",
    "\n",
    "print('Response, Switzerland: {}'.format(np.mean(df_ch_2014.sclact)))\n",
    "print('Response, Cyprus:      {}'.format(np.mean(df_cz_2014.sclact)))\n",
    "print('Response, Germany:     {}'.format(np.mean(df_de_2014.sclact)))\n",
    "\n",
    "print()\n",
    "\n",
    "print('T-test result, Switzerland and Cyrpus:')\n",
    "print(ttest_ind(df_ch_2014.sclact.dropna(), df_cz_2014.sclact.dropna()))\n",
    "print('T-test result, Cyprus and Germany:')\n",
    "print(ttest_ind(df_cz_2014.sclact.dropna(), df_de_2014.sclact.dropna()))\n",
    "print('T-test result, Switzerland and Germany:')\n",
    "print(ttest_ind(df_ch_2014.sclact.dropna(), df_de_2014.sclact.dropna()))\n"
   ]
  },
  {
   "cell_type": "markdown",
   "metadata": {},
   "source": [
    "There were no statistically significant differences between the three countries for responses to this question."
   ]
  }
 ],
 "metadata": {
  "kernelspec": {
   "display_name": "Python 3",
   "language": "python",
   "name": "python3"
  },
  "language_info": {
   "codemirror_mode": {
    "name": "ipython",
    "version": 3
   },
   "file_extension": ".py",
   "mimetype": "text/x-python",
   "name": "python",
   "nbconvert_exporter": "python",
   "pygments_lexer": "ipython3",
   "version": "3.7.4"
  }
 },
 "nbformat": 4,
 "nbformat_minor": 2
}
