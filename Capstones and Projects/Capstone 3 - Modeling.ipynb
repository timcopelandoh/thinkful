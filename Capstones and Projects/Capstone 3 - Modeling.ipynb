{
 "cells": [
  {
   "cell_type": "code",
   "execution_count": null,
   "metadata": {},
   "outputs": [],
   "source": [
    "import numpy as np\n",
    "import pandas as pd\n",
    "import matplotlib.pyplot as plt\n",
    "import seaborn as sns\n",
    "import datetime\n",
    "import warnings\n",
    "\n",
    "warnings.filterwarnings('ignore')\n",
    "%matplotlib inline\n",
    "\n",
    "\n",
    "loan = pd.read_csv('accepted_2007_to_2018Q4.csv')\n",
    "\n",
    "return_number = {\n",
    "    'Jan': 1,\n",
    "    'Feb': 2,\n",
    "    'Mar': 3,\n",
    "    'Apr': 4,\n",
    "    'May': 5,\n",
    "    'Jun': 6,\n",
    "    'Jul': 7,\n",
    "    'Aug': 8,\n",
    "    'Sep': 9,\n",
    "    'Oct': 10,\n",
    "    'Nov': 11,\n",
    "    'Dec': 12\n",
    "}\n",
    "\n",
    "def convert_date(d):\n",
    "    try:\n",
    "        return datetime.date(year=int(d[4:]), month=return_number[d[:3]], day=1)\n",
    "    except:\n",
    "        pass\n",
    "\n",
    "loan['issue_d'] = loan['issue_d'].apply(convert_date)\n",
    "loan['earliest_cr_line'] = loan['earliest_cr_line'].apply(convert_date)\n",
    "\n",
    "loan = loan[loan.issue_d < datetime.date(2015,7,1)]\n",
    "loan = loan[loan.issue_d >= datetime.date(2010,1,1)]\n",
    "\n",
    "loan = loan[loan.term == ' 36 months']\n",
    "\n",
    "loan['earliest_cr_line'] = loan.apply(lambda x: (x['issue_d'] - x['earliest_cr_line']).days, axis=1)\n",
    "\n",
    "loan = loan[(loan.loan_status == 'Fully Paid') | (loan.loan_status == 'Charged Off')]\n",
    "\n",
    "loan = loan[loan.annual_inc < 1000000]\n",
    "\n",
    "loan['ln_annual_inc'] = np.log(loan.annual_inc)\n",
    "\n",
    "loan = loan[loan.revol_util < 150]\n",
    "loan['ln_revol_bal'] = np.log(loan.revol_bal+1)\n",
    "\n",
    "loan['ln_earliest_cr_line'] = np.log(loan.earliest_cr_line)\n",
    "\n",
    "loan['ln_open_acc'] = np.log(loan.open_acc)\n",
    "\n",
    "loan.rename(columns = {'delinq_2yrs': 'num_delinq_2yrs'}, inplace=True)\n",
    "loan['delinq_2yrs'] = (loan['num_delinq_2yrs'] >= 1)\n",
    "\n",
    "loan.rename(columns = {'pub_rec': 'num_pub_rec'}, inplace=True)\n",
    "loan['pub_rec'] = (loan['num_pub_rec'] >= 1)\n",
    "\n",
    "loan.rename(columns = {'inq_last_6mths': 'num_inq_last_6mths'}, inplace=True)\n",
    "loan['inq_last_6mths'] = (loan['num_inq_last_6mths'] >= 1)"
   ]
  },
  {
   "cell_type": "code",
   "execution_count": null,
   "metadata": {},
   "outputs": [],
   "source": [
    "col_list = ['loan_amnt', 'int_rate', 'ln_annual_inc', 'dti', 'fico_range_high', 'num_delinq_2yrs', 'ln_earliest_cr_line', 'num_inq_last_6mths', 'mths_since_last_delinq', 'mths_since_last_record', 'ln_open_acc', 'num_pub_rec', 'ln_revol_bal', 'revol_util', 'total_acc']\n"
   ]
  }
 ],
 "metadata": {
  "kernelspec": {
   "display_name": "Python 3",
   "language": "python",
   "name": "python3"
  },
  "language_info": {
   "codemirror_mode": {
    "name": "ipython",
    "version": 3
   },
   "file_extension": ".py",
   "mimetype": "text/x-python",
   "name": "python",
   "nbconvert_exporter": "python",
   "pygments_lexer": "ipython3",
   "version": "3.7.3"
  }
 },
 "nbformat": 4,
 "nbformat_minor": 2
}
