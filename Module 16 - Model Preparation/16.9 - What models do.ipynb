{
 "cells": [
  {
   "cell_type": "markdown",
   "metadata": {},
   "source": [
    "# Question 1\n",
    "\n",
    "Model a coin flip"
   ]
  },
  {
   "cell_type": "code",
   "execution_count": 69,
   "metadata": {},
   "outputs": [],
   "source": [
    "import numpy as np\n",
    "\n",
    "def flip():\n",
    "    coin = ['Heads', 'Tails']\n",
    "    return coin[np.random.randint(0,2)]\n",
    "\n",
    "def numheads(n):\n",
    "    return sum(np.random.randint(0,2,n))"
   ]
  },
  {
   "cell_type": "markdown",
   "metadata": {},
   "source": [
    "I wasn't really sure what the question was asking. I figured it was asking for a statistical model of a coin flip, but after looking at the sample answers it appears they were asking for some components you would include if you tried to make a physical model.\n",
    "\n",
    "Some examples would be:\n",
    "\n",
    "-weight of coin\n",
    "\n",
    "-force applied to coin\n",
    "\n",
    "-starting distance above ground"
   ]
  },
  {
   "cell_type": "markdown",
   "metadata": {},
   "source": [
    "# Question 2\n",
    "\n",
    "After reading the non-technical summary of Netflix's recommendation algorithm, try to derive some of the model's features.\n",
    "\n",
    "Table for users\n",
    "-Dummy for having viewed a certain movie (or variable for number of views)\n",
    "-Ratings given for each title\n",
    "-Time watched\n",
    "-Device used\n",
    "-Duration of session\n",
    "\n",
    "Table for titles\n",
    "-Genre\n",
    "-Type (ie tv show or movie)\n",
    "-Actors\n",
    "-Release year\n",
    "-Netflix Rating/Popularity"
   ]
  }
 ],
 "metadata": {
  "kernelspec": {
   "display_name": "Python 3",
   "language": "python",
   "name": "python3"
  },
  "language_info": {
   "codemirror_mode": {
    "name": "ipython",
    "version": 3
   },
   "file_extension": ".py",
   "mimetype": "text/x-python",
   "name": "python",
   "nbconvert_exporter": "python",
   "pygments_lexer": "ipython3",
   "version": "3.7.3"
  }
 },
 "nbformat": 4,
 "nbformat_minor": 2
}
