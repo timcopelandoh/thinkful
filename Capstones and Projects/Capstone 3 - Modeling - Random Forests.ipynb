{
 "cells": [
  {
   "cell_type": "code",
   "execution_count": 2,
   "metadata": {},
   "outputs": [],
   "source": [
    "import numpy as np\n",
    "import pandas as pd\n",
    "import matplotlib.pyplot as plt\n",
    "import seaborn as sns\n",
    "import datetime\n",
    "import warnings\n",
    "\n",
    "warnings.filterwarnings('ignore')\n",
    "%matplotlib inline\n",
    "\n",
    "\n",
    "loan = pd.read_csv('accepted_2007_to_2018Q4.csv')\n",
    "\n",
    "return_number = {\n",
    "    'Jan': 1,\n",
    "    'Feb': 2,\n",
    "    'Mar': 3,\n",
    "    'Apr': 4,\n",
    "    'May': 5,\n",
    "    'Jun': 6,\n",
    "    'Jul': 7,\n",
    "    'Aug': 8,\n",
    "    'Sep': 9,\n",
    "    'Oct': 10,\n",
    "    'Nov': 11,\n",
    "    'Dec': 12\n",
    "}\n",
    "\n",
    "def convert_date(d):\n",
    "    try:\n",
    "        return datetime.date(year=int(d[4:]), month=return_number[d[:3]], day=1)\n",
    "    except:\n",
    "        pass\n",
    "\n",
    "loan['issue_d'] = loan['issue_d'].apply(convert_date)\n",
    "loan['earliest_cr_line'] = loan['earliest_cr_line'].apply(convert_date)\n",
    "\n",
    "loan = loan[loan.issue_d < datetime.date(2015,7,1)]\n",
    "loan = loan[loan.issue_d >= datetime.date(2010,1,1)]\n",
    "\n",
    "loan = loan[loan.term == ' 36 months']\n",
    "\n",
    "loan['earliest_cr_line'] = loan.apply(lambda x: (x['issue_d'] - x['earliest_cr_line']).days, axis=1)\n",
    "\n",
    "loan = loan[(loan.loan_status == 'Fully Paid') | (loan.loan_status == 'Charged Off')]\n",
    "\n",
    "loan = loan[loan.annual_inc < 1000000]\n",
    "\n",
    "loan['ln_annual_inc'] = np.log(loan.annual_inc)\n",
    "\n",
    "loan = loan[loan.revol_util < 150]\n",
    "loan['ln_revol_bal'] = np.log(loan.revol_bal+1)\n",
    "\n",
    "loan['ln_earliest_cr_line'] = np.log(loan.earliest_cr_line)\n",
    "\n",
    "loan['ln_open_acc'] = np.log(loan.open_acc)\n",
    "\n",
    "loan.rename(columns = {'delinq_2yrs': 'num_delinq_2yrs'}, inplace=True)\n",
    "loan['delinq_2yrs'] = (loan['num_delinq_2yrs'] >= 1)\n",
    "\n",
    "loan.rename(columns = {'pub_rec': 'num_pub_rec'}, inplace=True)\n",
    "loan['pub_rec'] = (loan['num_pub_rec'] >= 1)\n",
    "\n",
    "loan.rename(columns = {'inq_last_6mths': 'num_inq_last_6mths'}, inplace=True)\n",
    "loan['inq_last_6mths'] = (loan['num_inq_last_6mths'] >= 1)\n",
    "\n",
    "loan['target'] = (loan['loan_status'] == 'Fully Paid')"
   ]
  },
  {
   "cell_type": "code",
   "execution_count": 3,
   "metadata": {},
   "outputs": [],
   "source": [
    "col_list = ['loan_amnt', 'int_rate', 'ln_annual_inc', 'dti', 'fico_range_high', 'num_delinq_2yrs', 'ln_earliest_cr_line', 'num_inq_last_6mths', 'mths_since_last_delinq', 'mths_since_last_record', 'ln_open_acc', 'num_pub_rec', 'ln_revol_bal', 'revol_util', 'total_acc']\n"
   ]
  },
  {
   "cell_type": "code",
   "execution_count": 4,
   "metadata": {},
   "outputs": [],
   "source": [
    "# We will use 2010-2013 to tune our models, and save data from 2014 and the first \n",
    "# 6 months of 2015 for walk-forward testing\n",
    "\n",
    "train = loan[loan.issue_d < datetime.date(2014, 1, 1)]\n",
    "test = loan[(loan.issue_d >= datetime.date(2014, 1, 1)) & (loan.issue_d < datetime.date(2015, 7, 1))]\n"
   ]
  },
  {
   "cell_type": "code",
   "execution_count": 5,
   "metadata": {},
   "outputs": [],
   "source": [
    "y = train['target']\n",
    "X1 = train[['loan_amnt', 'ln_annual_inc', 'dti', 'fico_range_high', 'delinq_2yrs', 'num_delinq_2yrs', 'ln_earliest_cr_line', 'inq_last_6mths', 'num_inq_last_6mths', 'ln_open_acc', 'pub_rec', 'num_pub_rec', 'ln_revol_bal', 'revol_util', 'total_acc']]\n",
    "X2 = pd.concat([X1, train.int_rate, pd.get_dummies(train.grade)], axis=1)\n",
    "X3 = pd.concat([X1, train.int_rate, pd.get_dummies(train.sub_grade)], axis=1)\n"
   ]
  },
  {
   "cell_type": "code",
   "execution_count": 6,
   "metadata": {},
   "outputs": [],
   "source": [
    "X1_test = test[['loan_amnt', 'ln_annual_inc', 'dti', 'fico_range_high', 'delinq_2yrs', 'num_delinq_2yrs', 'ln_earliest_cr_line', 'inq_last_6mths', 'num_inq_last_6mths', 'ln_open_acc', 'pub_rec', 'num_pub_rec', 'ln_revol_bal', 'revol_util', 'total_acc']]\n",
    "X2_test = pd.concat([X1_test, test.int_rate, pd.get_dummies(test.grade)], axis=1)\n",
    "X3_test = pd.concat([X1_test, test.int_rate, pd.get_dummies(test.sub_grade)], axis=1)\n",
    "y_test = test['target']"
   ]
  },
  {
   "cell_type": "code",
   "execution_count": 7,
   "metadata": {},
   "outputs": [
    {
     "name": "stdout",
     "output_type": "stream",
     "text": [
      "0.8761131128523608\n",
      "85.70703887939453\n"
     ]
    }
   ],
   "source": [
    "from sklearn import ensemble\n",
    "from sklearn.model_selection import cross_val_score\n",
    "import time\n",
    "\n",
    "start = time.time()\n",
    "rfc1 = ensemble.RandomForestClassifier(max_depth=5, max_features=5, n_estimators=50)\n",
    "scores = cross_val_score(rfc1, X1, y, cv=10)\n",
    "time_elapsed = time.time()-start\n",
    "print(scores.mean())\n",
    "print(time_elapsed)\n",
    "\n"
   ]
  },
  {
   "cell_type": "code",
   "execution_count": 8,
   "metadata": {
    "scrolled": true
   },
   "outputs": [
    {
     "name": "stdout",
     "output_type": "stream",
     "text": [
      "loan_amnt: 0.01276648260474094\n",
      "ln_annual_inc: 0.28058601730327715\n",
      "dti: 0.09334992816516573\n",
      "fico_range_high: 0.40068783496384897\n",
      "delinq_2yrs: 0.00024219399756298906\n",
      "num_delinq_2yrs: 0.0012639425497245772\n",
      "ln_earliest_cr_line: 0.01986393492134564\n",
      "inq_last_6mths: 0.036935662429466894\n",
      "num_inq_last_6mths: 0.06686292691800944\n",
      "ln_open_acc: 0.006335401436843731\n",
      "pub_rec: 0.0003369831577565909\n",
      "num_pub_rec: 0.0013925762731647456\n",
      "ln_revol_bal: 0.018810459799973353\n",
      "revol_util: 0.04636961235065306\n",
      "total_acc: 0.014196043128466227\n"
     ]
    }
   ],
   "source": [
    "rfc1.fit(X1, y)\n",
    "\n",
    "\n",
    "for i in range(X1.shape[1]):\n",
    "    print('{}: {}'.format(X1.columns[i], rfc1.feature_importances_[i]))\n"
   ]
  },
  {
   "cell_type": "code",
   "execution_count": 8,
   "metadata": {},
   "outputs": [
    {
     "data": {
      "text/plain": [
       "(166313, 15)"
      ]
     },
     "execution_count": 8,
     "metadata": {},
     "output_type": "execute_result"
    }
   ],
   "source": [
    "X1.shape"
   ]
  },
  {
   "cell_type": "code",
   "execution_count": 9,
   "metadata": {},
   "outputs": [
    {
     "data": {
      "text/plain": [
       "array([1.43595080e-02, 2.94853922e-01, 7.89589865e-02, 3.84439022e-01,\n",
       "       1.91351602e-04, 2.10393035e-03, 1.92234562e-02, 3.69678307e-02,\n",
       "       6.89204537e-02, 4.73567711e-03, 5.86217644e-04, 1.36427057e-03,\n",
       "       2.12206307e-02, 5.92933510e-02, 1.27813921e-02])"
      ]
     },
     "execution_count": 9,
     "metadata": {},
     "output_type": "execute_result"
    }
   ],
   "source": [
    "rfc1.feature_importances_"
   ]
  },
  {
   "cell_type": "code",
   "execution_count": 9,
   "metadata": {},
   "outputs": [],
   "source": [
    "pred1 = rfc1.predict_proba(X1_test)"
   ]
  },
  {
   "cell_type": "code",
   "execution_count": 11,
   "metadata": {},
   "outputs": [
    {
     "data": {
      "text/plain": [
       "<matplotlib.axes._subplots.AxesSubplot at 0x110fdc7b8>"
      ]
     },
     "execution_count": 11,
     "metadata": {},
     "output_type": "execute_result"
    },
    {
     "data": {
      "image/png": "[encoded data removed]",
      "text/plain": [
       "<Figure size 432x288 with 1 Axes>"
      ]
     },
     "metadata": {
      "needs_background": "light"
     },
     "output_type": "display_data"
    }
   ],
   "source": [
    "sns.distplot([x[1] for x in pred1], kde=False)"
   ]
  },
  {
   "cell_type": "code",
   "execution_count": 10,
   "metadata": {},
   "outputs": [],
   "source": [
    "test['pred1'] = [x[1] for x in pred1]"
   ]
  },
  {
   "cell_type": "code",
   "execution_count": 11,
   "metadata": {},
   "outputs": [],
   "source": [
    "test['pct_return'] = (test.total_pymnt - test.funded_amnt) / test.funded_amnt\n"
   ]
  },
  {
   "cell_type": "code",
   "execution_count": 12,
   "metadata": {},
   "outputs": [
    {
     "name": "stdout",
     "output_type": "stream",
     "text": [
      "-----------------  A  -----------------\n",
      "\n",
      "Naive Returns:       7.141438714524952\n",
      "\n",
      "Model 1:\n",
      ">80th percentile:    7.270412246088808\n",
      ">90th percentile:    7.208616826202103\n",
      ">95th percentile:    7.053099413073421\n",
      ">99th percentile:    6.663439169471727\n",
      "\n",
      "\n",
      "-----------------  B  -----------------\n",
      "\n",
      "Naive Returns:       8.71693709483582\n",
      "\n",
      "Model 1:\n",
      ">80th percentile:    9.317496239678476\n",
      ">90th percentile:    9.313357649531804\n",
      ">95th percentile:    8.99222256714819\n",
      ">99th percentile:    9.138979973780621\n",
      "\n",
      "\n",
      "-----------------  C  -----------------\n",
      "\n",
      "Naive Returns:       8.296905799613116\n",
      "\n",
      "Model 1:\n",
      ">80th percentile:    9.782237007857846\n",
      ">90th percentile:    9.75509479263979\n",
      ">95th percentile:    10.222737839455476\n",
      ">99th percentile:    8.95349137497604\n",
      "\n",
      "\n",
      "-----------------  D  -----------------\n",
      "\n",
      "Naive Returns:       7.915659945631005\n",
      "\n",
      "Model 1:\n",
      ">80th percentile:    9.226388297739351\n",
      ">90th percentile:    8.890245692815977\n",
      ">95th percentile:    8.393905231604522\n",
      ">99th percentile:    8.254394131776317\n",
      "\n",
      "\n",
      "-----------------  E  -----------------\n",
      "\n",
      "Naive Returns:       7.291694950786074\n",
      "\n",
      "Model 1:\n",
      ">80th percentile:    8.437633951816641\n",
      ">90th percentile:    7.593058884113256\n",
      ">95th percentile:    6.670573687503765\n",
      ">99th percentile:    10.932338444424746\n",
      "\n",
      "\n",
      "-----------------  F  -----------------\n",
      "\n",
      "Naive Returns:       9.535019756814036\n",
      "\n",
      "Model 1:\n",
      ">80th percentile:    11.47365295693618\n",
      ">90th percentile:    9.749433525632407\n",
      ">95th percentile:    8.287578721221351\n",
      ">99th percentile:    -4.206316025324389\n",
      "\n",
      "\n",
      "-----------------  G  -----------------\n",
      "\n",
      "Naive Returns:       7.877324088472641\n",
      "\n",
      "Model 1:\n",
      ">80th percentile:    14.124701140606714\n",
      ">90th percentile:    3.306828423768645\n",
      ">95th percentile:    4.642469186620007\n",
      ">99th percentile:    28.935824283383532\n",
      "\n",
      "\n"
     ]
    }
   ],
   "source": [
    "letters = ['A', 'B', 'C', 'D', 'E', 'F', 'G']\n",
    "\n",
    "test['pct_return'] = (test.total_pymnt - test.funded_amnt) / test.funded_amnt\n",
    "\n",
    "for letter in letters:\n",
    "    thresh_m1_80 = np.percentile(test[test.grade == letter]['pred1'], q=80)\n",
    "\n",
    "    thresh_m1_90 = np.percentile(test[test.grade == letter]['pred1'], q=90)\n",
    "\n",
    "    thresh_m1_95 = np.percentile(test[test.grade == letter]['pred1'], q=95)\n",
    "    \n",
    "    thresh_m1_99 = np.percentile(test[test.grade == letter]['pred1'], q=99)\n",
    "\n",
    "    print('-----------------  ' + letter + '  -----------------')\n",
    "    print('')\n",
    "    \n",
    "    print('Naive Returns:       {}'.format(test[test.grade==letter]['pct_return'].mean()*100))\n",
    "    \n",
    "    print('')\n",
    "    print('Model 1:')\n",
    "    print('>80th percentile:    {}'.format(test[(test.grade==letter)&(test.pred1 >= thresh_m1_80)]['pct_return'].mean()*100))\n",
    "    print('>90th percentile:    {}'.format(test[(test.grade==letter)&(test.pred1 >= thresh_m1_90)]['pct_return'].mean()*100))\n",
    "    print('>95th percentile:    {}'.format(test[(test.grade==letter)&(test.pred1 >= thresh_m1_95)]['pct_return'].mean()*100))\n",
    "    print('>99th percentile:    {}'.format(test[(test.grade==letter)&(test.pred1 >= thresh_m1_99)]['pct_return'].mean()*100))\n",
    "\n",
    "    print('\\n')"
   ]
  },
  {
   "cell_type": "code",
   "execution_count": 15,
   "metadata": {},
   "outputs": [
    {
     "data": {
      "text/plain": [
       "\"from sklearn.model_selection import GridSearchCV\\n\\npar am_grid = {\\n    'max_depth': [1, 2, 3, 5, 10, 20, 40],\\n    'max_features': [2, 3, 4, 5],\\n    'n_estimators': [10, 50, 100, 500]\\n}\\n\\nparam_grid2 = {\\n    'max_depth': [2,3,5],\\n    'max_features': [2,3],\\n    'n_estimators': [50]\\n}\\n\\nrf = ensemble.RandomForestClassifier()\\n\\nstart = time.time()\\ngrid_search = GridSearchCV(estimator=rf, param_grid = param_grid, cv=3)\\ngrid_search.fit(X1, y)\\nelapsed = time.time()-start\\n\\nprint(grid_search.best_params_)\\nprint('{} seconds'.format(round(elapsed, 0)))\\n\""
      ]
     },
     "execution_count": 15,
     "metadata": {},
     "output_type": "execute_result"
    }
   ],
   "source": [
    "'''from sklearn.model_selection import GridSearchCV\n",
    "\n",
    "par am_grid = {\n",
    "    'max_depth': [1, 2, 3, 5, 10, 20, 40],\n",
    "    'max_features': [2, 3, 4, 5],\n",
    "    'n_estimators': [10, 50, 100, 500]\n",
    "}\n",
    "\n",
    "param_grid2 = {\n",
    "    'max_depth': [2,3,5],\n",
    "    'max_features': [2,3],\n",
    "    'n_estimators': [50]\n",
    "}\n",
    "\n",
    "rf = ensemble.RandomForestClassifier()\n",
    "\n",
    "start = time.time()\n",
    "grid_search = GridSearchCV(estimator=rf, param_grid = param_grid, cv=3)\n",
    "grid_search.fit(X1, y)\n",
    "elapsed = time.time()-start\n",
    "\n",
    "print(grid_search.best_params_)\n",
    "print('{} seconds'.format(round(elapsed, 0)))\n",
    "'''"
   ]
  },
  {
   "cell_type": "code",
   "execution_count": 16,
   "metadata": {
    "scrolled": true
   },
   "outputs": [
    {
     "data": {
      "text/plain": [
       "112.91666666666667"
      ]
     },
     "execution_count": 16,
     "metadata": {},
     "output_type": "execute_result"
    }
   ],
   "source": [
    "6775/60"
   ]
  },
  {
   "cell_type": "code",
   "execution_count": 25,
   "metadata": {},
   "outputs": [
    {
     "data": {
      "text/plain": [
       "RandomizedSearchCV(cv=3, error_score='raise-deprecating',\n",
       "                   estimator=RandomForestClassifier(bootstrap=True,\n",
       "                                                    class_weight=None,\n",
       "                                                    criterion='gini',\n",
       "                                                    max_depth=None,\n",
       "                                                    max_features='auto',\n",
       "                                                    max_leaf_nodes=None,\n",
       "                                                    min_impurity_decrease=0.0,\n",
       "                                                    min_impurity_split=None,\n",
       "                                                    min_samples_leaf=1,\n",
       "                                                    min_samples_split=2,\n",
       "                                                    min_weight_fraction_leaf=0.0,\n",
       "                                                    n_estimators='warn',\n",
       "                                                    n_jobs=None,\n",
       "                                                    oob_score=False,\n",
       "                                                    random_state=None,\n",
       "                                                    verbose=0,\n",
       "                                                    warm_start=False),\n",
       "                   iid='warn', n_iter=40, n_jobs=None,\n",
       "                   param_distributions={'max_depth': [1, 2, 3, 5, 7, 10, 15, 20,\n",
       "                                                      25, 30, 40, 50, 70, 90],\n",
       "                                        'max_features': [2, 3, 4, 5, 7, 10, 15],\n",
       "                                        'n_estimators': [50]},\n",
       "                   pre_dispatch='2*n_jobs', random_state=None, refit=True,\n",
       "                   return_train_score=False, scoring=None, verbose=0)"
      ]
     },
     "execution_count": 25,
     "metadata": {},
     "output_type": "execute_result"
    }
   ],
   "source": [
    "from sklearn.model_selection import RandomizedSearchCV\n",
    "\n",
    "param_grid = {\n",
    "    'max_depth': [1,2,3,5,7,10,15,20,25,30,40,50,70,90],\n",
    "    'max_features': [2,3,4,5,7,10,15],\n",
    "    'n_estimators': [50]\n",
    "}\n",
    "\n",
    "rf2 = ensemble.RandomForestClassifier()\n",
    "\n",
    "rf2_random = RandomizedSearchCV(estimator=rf2, param_distributions = param_grid, n_iter=40, cv=3)\n",
    "\n",
    "rf2_random.fit(X1, y)"
   ]
  },
  {
   "cell_type": "code",
   "execution_count": 26,
   "metadata": {},
   "outputs": [
    {
     "data": {
      "text/plain": [
       "{'n_estimators': 50, 'max_features': 5, 'max_depth': 1}"
      ]
     },
     "execution_count": 26,
     "metadata": {},
     "output_type": "execute_result"
    }
   ],
   "source": [
    "rf2_random.best_params_"
   ]
  }
 ],
 "metadata": {
  "kernelspec": {
   "display_name": "Python 3",
   "language": "python",
   "name": "python3"
  },
  "language_info": {
   "codemirror_mode": {
    "name": "ipython",
    "version": 3
   },
   "file_extension": ".py",
   "mimetype": "text/x-python",
   "name": "python",
   "nbconvert_exporter": "python",
   "pygments_lexer": "ipython3",
   "version": "3.7.4"
  }
 },
 "nbformat": 4,
 "nbformat_minor": 2
}
