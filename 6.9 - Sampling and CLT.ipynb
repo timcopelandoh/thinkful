{
 "cells": [
  {
   "cell_type": "code",
   "execution_count": 12,
   "metadata": {},
   "outputs": [
    {
     "name": "stdout",
     "output_type": "stream",
     "text": [
      "Sample 1 mean:\t\t\t1.87\n",
      "Sample 1 std. deviation:\t1.2700787377166818\n",
      "\n",
      "Sample 2 mean:\t\t\t4.71\n",
      "Sample 2 std. deviation:\t1.5119193100162456\n",
      "\n"
     ]
    }
   ],
   "source": [
    "import numpy as np\n",
    "\n",
    "pop1 = np.random.binomial(10, 0.2, 1000)\n",
    "pop2 = np.random.binomial(10, 0.5, 1000)\n",
    "\n",
    "sample1 = np.random.choice(pop1, 100, replace = True)\n",
    "sample2 = np.random.choice(pop2, 100, replace = True)\n",
    "\n",
    "print('Sample 1 mean:'+'\\t\\t\\t'+str(np.mean(sample1)))\n",
    "print('Sample 1 std. deviation:'+'\\t'+str(np.std(sample1))+'\\n')\n",
    "\n",
    "print('Sample 2 mean:'+'\\t\\t\\t'+str(np.mean(sample2)))\n",
    "print('Sample 2 std. deviation:'+'\\t'+str(np.std(sample2))+'\\n')"
   ]
  },
  {
   "cell_type": "markdown",
   "metadata": {},
   "source": [
    "I don't expect the mean or standard deviation to change if we increase the sample size"
   ]
  },
  {
   "cell_type": "code",
   "execution_count": 13,
   "metadata": {},
   "outputs": [
    {
     "name": "stdout",
     "output_type": "stream",
     "text": [
      "Sample 1 mean:\t\t\t2.039\n",
      "Sample 1 std. deviation:\t1.285098828884378\n",
      "\n",
      "Sample 2 mean:\t\t\t4.939\n",
      "Sample 2 std. deviation:\t1.6128481019612477\n",
      "\n"
     ]
    }
   ],
   "source": [
    "pop1 = np.random.binomial(10, 0.2, 1000)\n",
    "pop2 = np.random.binomial(10, 0.5, 1000)\n",
    "\n",
    "sample1 = np.random.choice(pop1, 1000, replace = True)\n",
    "sample2 = np.random.choice(pop2, 1000, replace = True)\n",
    "\n",
    "print('Sample 1 mean:'+'\\t\\t\\t'+str(np.mean(sample1)))\n",
    "print('Sample 1 std. deviation:'+'\\t'+str(np.std(sample1))+'\\n')\n",
    "\n",
    "print('Sample 2 mean:'+'\\t\\t\\t'+str(np.mean(sample2)))\n",
    "print('Sample 2 std. deviation:'+'\\t'+str(np.std(sample2))+'\\n')"
   ]
  },
  {
   "cell_type": "markdown",
   "metadata": {},
   "source": [
    "As the probabilities get closer together, I expect the t-statistic to decrease, and the p-value to increase."
   ]
  },
  {
   "cell_type": "code",
   "execution_count": 18,
   "metadata": {},
   "outputs": [
    {
     "name": "stdout",
     "output_type": "stream",
     "text": [
      "T-test 1: Ttest_indResult(statistic=-27.821950185663503, pvalue=2.9037900409654504e-144)\n",
      "T-test 2: Ttest_indResult(statistic=-14.757126643144574, pvalue=7.38870353941133e-47)\n"
     ]
    }
   ],
   "source": [
    "from scipy.stats import ttest_ind\n",
    "\n",
    "pop1 = np.random.binomial(10, 0.3, 1000)\n",
    "pop2 = np.random.binomial(10, 0.5, 1000)\n",
    "\n",
    "sample1 = np.random.choice(pop1, 1000, replace = True)\n",
    "sample2 = np.random.choice(pop2, 1000, replace = True)\n",
    "\n",
    "print('T-test 1: ' + str(ttest_ind(sample1, sample2)))\n",
    "\n",
    "pop1 = np.random.binomial(10, 0.4, 1000)\n",
    "sample1 = np.random.choice(pop1, 1000, replace = True)\n",
    "\n",
    "print('T-test 2: ' + str(ttest_ind(sample1, sample2)))\n"
   ]
  },
  {
   "cell_type": "markdown",
   "metadata": {},
   "source": [
    "I chose the gamma distribution. I think sample means should be pretty close, but may be slightly positively biased."
   ]
  },
  {
   "cell_type": "code",
   "execution_count": 21,
   "metadata": {},
   "outputs": [
    {
     "name": "stdout",
     "output_type": "stream",
     "text": [
      "Sample 1 mean:\t\t\t2.98938017062557\n",
      "Sample 2 mean:\t\t\t1.9113220127016994\n"
     ]
    }
   ],
   "source": [
    "pop1 = np.random.gamma(3, 1, 1000)\n",
    "pop2 = np.random.gamma(1, 2, 1000)\n",
    "\n",
    "sample1 = np.random.choice(pop1, 1000, replace = True)\n",
    "sample2 = np.random.choice(pop2, 1000, replace = True)\n",
    "\n",
    "print('Sample 1 mean:'+'\\t\\t\\t'+str(np.mean(sample1)))\n",
    "print('Sample 2 mean:'+'\\t\\t\\t'+str(np.mean(sample2)))\n"
   ]
  }
 ],
 "metadata": {
  "kernelspec": {
   "display_name": "Python 3",
   "language": "python",
   "name": "python3"
  },
  "language_info": {
   "codemirror_mode": {
    "name": "ipython",
    "version": 3
   },
   "file_extension": ".py",
   "mimetype": "text/x-python",
   "name": "python",
   "nbconvert_exporter": "python",
   "pygments_lexer": "ipython3",
   "version": "3.7.3"
  }
 },
 "nbformat": 4,
 "nbformat_minor": 2
}
