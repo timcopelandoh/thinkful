{
 "cells": [
  {
   "cell_type": "markdown",
   "metadata": {},
   "source": [
    "# 18.7 - Overfitting and Regularization"
   ]
  },
  {
   "cell_type": "code",
   "execution_count": 82,
   "metadata": {},
   "outputs": [],
   "source": [
    "import numpy as np\n",
    "import pandas as pd\n",
    "from sklearn import linear_model\n",
    "from sklearn.linear_model import LinearRegression, RidgeCV, LassoCV, ElasticNetCV\n",
    "from sklearn.model_selection import train_test_split\n",
    "from sklearn.metrics import mean_absolute_error\n",
    "from statsmodels.tools.eval_measures import mse, rmse\n",
    "from sqlalchemy import create_engine\n",
    "\n",
    "import warnings\n",
    "warnings.filterwarnings('ignore')\n",
    "\n",
    "postgres_user = 'dsbc_student'\n",
    "postgres_pw = '7*.8G9QH21'\n",
    "postgres_host = '142.93.121.174'\n",
    "postgres_port = '5432'\n",
    "postgres_db = 'houseprices'\n",
    "\n",
    "engine = create_engine('postgresql://{}:{}@{}:{}/{}'.format(\n",
    "    postgres_user, postgres_pw, postgres_host, postgres_port, postgres_db))\n",
    "\n",
    "house = pd.read_sql_query('select * from houseprices',con=engine)\n",
    "\n",
    "engine.dispose()\n",
    "\n",
    "y = house['saleprice']\n",
    "X = house[['grlivarea', 'totalbsmtsf', 'fullbath', 'halfbath', 'overallqual', 'overallcond', 'yearbuilt', 'garagearea']]\n",
    "\n",
    "X_train, X_test, y_train, y_test = train_test_split(X, y, test_size = 0.2, random_state = 465)"
   ]
  },
  {
   "cell_type": "markdown",
   "metadata": {},
   "source": [
    "### Model 1: Linear Regression"
   ]
  },
  {
   "cell_type": "code",
   "execution_count": 83,
   "metadata": {},
   "outputs": [],
   "source": [
    "lr = LinearRegression()\n",
    "lr = lr.fit(X_train, y_train)"
   ]
  },
  {
   "cell_type": "markdown",
   "metadata": {},
   "source": [
    "### Model 2: Lasso"
   ]
  },
  {
   "cell_type": "code",
   "execution_count": 84,
   "metadata": {
    "scrolled": true
   },
   "outputs": [],
   "source": [
    "alphas=[10 ** i for i in range(-10,40)]\n",
    "\n",
    "lasso = LassoCV(alphas=alphas)\n",
    "lasso = lasso.fit(X_train, y_train)"
   ]
  },
  {
   "cell_type": "markdown",
   "metadata": {},
   "source": [
    "### Model 3: Ridge"
   ]
  },
  {
   "cell_type": "code",
   "execution_count": 85,
   "metadata": {},
   "outputs": [],
   "source": [
    "ridge = RidgeCV(alphas=alphas)\n",
    "ridge = ridge.fit(X_train, y_train)"
   ]
  },
  {
   "cell_type": "markdown",
   "metadata": {},
   "source": [
    "### Model 4: Elastic Net"
   ]
  },
  {
   "cell_type": "code",
   "execution_count": 86,
   "metadata": {},
   "outputs": [],
   "source": [
    "elastic = ElasticNetCV(alphas=alphas)\n",
    "elastic = elastic.fit(X_train, y_train)"
   ]
  },
  {
   "cell_type": "markdown",
   "metadata": {},
   "source": [
    "### Evaluation"
   ]
  },
  {
   "cell_type": "code",
   "execution_count": 87,
   "metadata": {
    "scrolled": true
   },
   "outputs": [
    {
     "name": "stdout",
     "output_type": "stream",
     "text": [
      "--------- Linear Regression ---------\n",
      "R-squared(Train): \t0.771\n",
      "R-squared(Test): \t0.783\n",
      "MAE: \t\t\t24169.31\n",
      "MSE: \t\t\t1457655930.83\n",
      "RMSE: \t\t\t38179.26\n",
      "MAPE: \t\t\t14.833%\n",
      "\n",
      "--------------- Lasso ---------------\n",
      "Alpha: \t\t\t1000\n",
      "R-squared(Train): \t0.77\n",
      "R-squared(Test): \t0.784\n",
      "MAE: \t\t\t23986.78\n",
      "MSE: \t\t\t1447958841.78\n",
      "RMSE: \t\t\t38052.054\n",
      "MAPE: \t\t\t14.612%\n",
      "\n",
      "--------------- Ridge ---------------\n",
      "Alpha: \t\t\t100\n",
      "R-squared(Train): \t0.77\n",
      "R-squared(Test): \t0.785\n",
      "MAE: \t\t\t23719.37\n",
      "MSE: \t\t\t1443478608.15\n",
      "RMSE: \t\t\t37993.139\n",
      "MAPE: \t\t\t14.428%\n",
      "\n",
      "------------ Elastic Net ------------\n",
      "Alpha: \t\t\t0.1\n",
      "R-squared(Train): \t0.77\n",
      "R-squared(Test): \t0.784\n",
      "MAE: \t\t\t23895.26\n",
      "MSE: \t\t\t1448314250.94\n",
      "RMSE: \t\t\t38056.724\n",
      "MAPE: \t\t\t14.584%\n",
      "\n"
     ]
    }
   ],
   "source": [
    "regs = [lr, lasso, ridge, elastic]\n",
    "types = ['--------- Linear Regression ---------', \n",
    "         '--------------- Lasso ---------------', \n",
    "         '--------------- Ridge ---------------', \n",
    "         '------------ Elastic Net ------------']\n",
    "count = 0\n",
    "for r in regs:\n",
    "    print(types[count])\n",
    "    count += 1\n",
    "    try:\n",
    "        print('Alpha: \\t\\t\\t{}'.format(r.alpha_))\n",
    "    except:\n",
    "        pass\n",
    "    #print(r.score(X_test, y_test))\n",
    "    #print(mean_absolute_error(y_test, r.predict(X_test)))\n",
    "    #print(rmse(y_test, r.predict(X_test)))\n",
    "    #print('')\n",
    "    print('R-squared(Train): \\t{}'.format(round(r.score(X_train, y_train),3)))\n",
    "    print('R-squared(Test): \\t{}'.format(round(r.score(X_test, y_test),3)))\n",
    "    print('MAE: \\t\\t\\t{}'.format(round(mean_absolute_error(y_test, r.predict(X_test)),2)))\n",
    "    print('MSE: \\t\\t\\t{}'.format(round(mse(y_test, r.predict(X_test)),2)))\n",
    "    print('RMSE: \\t\\t\\t{}'.format(round(rmse(y_test, r.predict(X_test)),3)))\n",
    "    print('MAPE: \\t\\t\\t{}%'.format(round(np.mean(np.abs((y_test-r.predict(X_test))*100/y_test)),3)))\n",
    "    print('')"
   ]
  },
  {
   "cell_type": "markdown",
   "metadata": {},
   "source": [
    "All 4 models are fairly comparable. All regularized models show a slight improvement no matter what metric we use. Ridge performs the best out of all of them, however the difference is very slight. The RMSE for the ridge model is \\\\$37,993, compared to \\\\$38,179 for OLS."
   ]
  }
 ],
 "metadata": {
  "kernelspec": {
   "display_name": "Python 3",
   "language": "python",
   "name": "python3"
  },
  "language_info": {
   "codemirror_mode": {
    "name": "ipython",
    "version": 3
   },
   "file_extension": ".py",
   "mimetype": "text/x-python",
   "name": "python",
   "nbconvert_exporter": "python",
   "pygments_lexer": "ipython3",
   "version": "3.7.3"
  }
 },
 "nbformat": 4,
 "nbformat_minor": 2
}
