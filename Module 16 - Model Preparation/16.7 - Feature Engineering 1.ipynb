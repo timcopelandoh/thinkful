{
 "cells": [
  {
   "cell_type": "markdown",
   "metadata": {},
   "source": [
    "# 16.7 - Feature Engineering 1: From Variables to Features"
   ]
  },
  {
   "cell_type": "code",
   "execution_count": 3,
   "metadata": {},
   "outputs": [],
   "source": [
    "import matplotlib.pyplot as plt\n",
    "import seaborn as sns\n",
    "import numpy as np\n",
    "import pandas as pd\n",
    "import seaborn as sns\n",
    "import scipy.stats as stats\n",
    "from scipy.stats.mstats import winsorize\n",
    "from sqlalchemy import create_engine\n",
    "from scipy.stats import jarque_bera\n",
    "from scipy.stats import normaltest\n",
    "from scipy.stats import boxcox\n",
    "import warnings\n",
    "\n",
    "postgres_user = 'dsbc_student'\n",
    "postgres_pw = '7*.8G9QH21'\n",
    "postgres_host = '142.93.121.174'\n",
    "postgres_port = '5432'\n",
    "postgres_db = 'studentsperformance'\n",
    "\n",
    "engine = create_engine('postgresql://{}:{}@{}:{}/{}'.format(\n",
    "    postgres_user, postgres_pw, postgres_host, postgres_port, postgres_db))\n",
    "\n",
    "student = pd.read_sql_query('select * from studentsperformance',con=engine)\n",
    "\n",
    "engine.dispose()"
   ]
  },
  {
   "cell_type": "markdown",
   "metadata": {},
   "source": [
    "# Question 1\n",
    "\n",
    "Are exam scores normally distributed?"
   ]
  },
  {
   "cell_type": "code",
   "execution_count": 4,
   "metadata": {},
   "outputs": [
    {
     "data": {
      "text/html": [
       "<div>\n",
       "<style scoped>\n",
       "    .dataframe tbody tr th:only-of-type {\n",
       "        vertical-align: middle;\n",
       "    }\n",
       "\n",
       "    .dataframe tbody tr th {\n",
       "        vertical-align: top;\n",
       "    }\n",
       "\n",
       "    .dataframe thead th {\n",
       "        text-align: right;\n",
       "    }\n",
       "</style>\n",
       "<table border=\"1\" class=\"dataframe\">\n",
       "  <thead>\n",
       "    <tr style=\"text-align: right;\">\n",
       "      <th></th>\n",
       "      <th>gender</th>\n",
       "      <th>race/ethnicity</th>\n",
       "      <th>parental level of education</th>\n",
       "      <th>lunch</th>\n",
       "      <th>test preparation course</th>\n",
       "      <th>math score</th>\n",
       "      <th>reading score</th>\n",
       "      <th>writing score</th>\n",
       "    </tr>\n",
       "  </thead>\n",
       "  <tbody>\n",
       "    <tr>\n",
       "      <th>0</th>\n",
       "      <td>female</td>\n",
       "      <td>group B</td>\n",
       "      <td>bachelor's degree</td>\n",
       "      <td>standard</td>\n",
       "      <td>none</td>\n",
       "      <td>72</td>\n",
       "      <td>72</td>\n",
       "      <td>74</td>\n",
       "    </tr>\n",
       "    <tr>\n",
       "      <th>1</th>\n",
       "      <td>female</td>\n",
       "      <td>group C</td>\n",
       "      <td>some college</td>\n",
       "      <td>standard</td>\n",
       "      <td>completed</td>\n",
       "      <td>69</td>\n",
       "      <td>90</td>\n",
       "      <td>88</td>\n",
       "    </tr>\n",
       "    <tr>\n",
       "      <th>2</th>\n",
       "      <td>female</td>\n",
       "      <td>group B</td>\n",
       "      <td>master's degree</td>\n",
       "      <td>standard</td>\n",
       "      <td>none</td>\n",
       "      <td>90</td>\n",
       "      <td>95</td>\n",
       "      <td>93</td>\n",
       "    </tr>\n",
       "    <tr>\n",
       "      <th>3</th>\n",
       "      <td>male</td>\n",
       "      <td>group A</td>\n",
       "      <td>associate's degree</td>\n",
       "      <td>free/reduced</td>\n",
       "      <td>none</td>\n",
       "      <td>47</td>\n",
       "      <td>57</td>\n",
       "      <td>44</td>\n",
       "    </tr>\n",
       "    <tr>\n",
       "      <th>4</th>\n",
       "      <td>male</td>\n",
       "      <td>group C</td>\n",
       "      <td>some college</td>\n",
       "      <td>standard</td>\n",
       "      <td>none</td>\n",
       "      <td>76</td>\n",
       "      <td>78</td>\n",
       "      <td>75</td>\n",
       "    </tr>\n",
       "  </tbody>\n",
       "</table>\n",
       "</div>"
      ],
      "text/plain": [
       "   gender race/ethnicity parental level of education         lunch  \\\n",
       "0  female        group B           bachelor's degree      standard   \n",
       "1  female        group C                some college      standard   \n",
       "2  female        group B             master's degree      standard   \n",
       "3    male        group A          associate's degree  free/reduced   \n",
       "4    male        group C                some college      standard   \n",
       "\n",
       "  test preparation course  math score  reading score  writing score  \n",
       "0                    none          72             72             74  \n",
       "1               completed          69             90             88  \n",
       "2                    none          90             95             93  \n",
       "3                    none          47             57             44  \n",
       "4                    none          76             78             75  "
      ]
     },
     "execution_count": 4,
     "metadata": {},
     "output_type": "execute_result"
    }
   ],
   "source": [
    "student.head()"
   ]
  },
  {
   "cell_type": "code",
   "execution_count": 11,
   "metadata": {},
   "outputs": [
    {
     "data": {
      "image/png": "[encoded data removed]",
      "text/plain": [
       "<Figure size 1080x360 with 3 Axes>"
      ]
     },
     "metadata": {
      "needs_background": "light"
     },
     "output_type": "display_data"
    }
   ],
   "source": [
    "plt.figure(figsize=(15,5))\n",
    "\n",
    "plt.subplot(1,3,1)\n",
    "plt.hist(student['math score'])\n",
    "plt.title('Math')\n",
    "\n",
    "plt.subplot(1,3,2)\n",
    "plt.hist(student['reading score'])\n",
    "plt.title('Reading')\n",
    "\n",
    "plt.subplot(1,3,3)\n",
    "plt.hist(student['writing score'])\n",
    "plt.title('Writing')\n",
    "\n",
    "plt.show()"
   ]
  },
  {
   "cell_type": "code",
   "execution_count": 37,
   "metadata": {},
   "outputs": [
    {
     "name": "stdout",
     "output_type": "stream",
     "text": [
      "Math Score:\n",
      "Jarque-Bera test statistic: 15.91 \tJargue-Bera p-value: 0.0004\n",
      "Normatlity test statistic: 15.41 \tNormality p-value: 0.0005\n",
      "\n",
      "Reading Score:\n",
      "Jarque-Bera test statistic: 11.38 \tJargue-Bera p-value: 0.0034\n",
      "Normatlity test statistic: 11.12 \tNormality p-value: 0.0039\n",
      "\n",
      "Writing Score:\n",
      "Jarque-Bera test statistic: 13.99 \tJargue-Bera p-value: 0.0009\n",
      "Normatlity test statistic: 13.61 \tNormality p-value: 0.0011\n",
      "\n"
     ]
    }
   ],
   "source": [
    "for var in ['math score', 'reading score', 'writing score']:\n",
    "    #results = student[tests[i]]\n",
    "    jbtest = jarque_bera(student[var])\n",
    "    ntest = normaltest(student[var])\n",
    "    print(var.title()+':')\n",
    "    print('Jarque-Bera test statistic: {} \\tJargue-Bera p-value: {}'.format(round(jbtest[0],2),round(jbtest[1],4)))\n",
    "    print('Normatlity test statistic: {} \\tNormality p-value: {}'.format(round(ntest[0],2),round(ntest[1],4)))\n",
    "    print('')"
   ]
  },
  {
   "cell_type": "markdown",
   "metadata": {},
   "source": [
    "While they look fairly similar to a normal distribution, all our tests reject normality for all 3 exam types."
   ]
  },
  {
   "cell_type": "code",
   "execution_count": 62,
   "metadata": {},
   "outputs": [
    {
     "name": "stdout",
     "output_type": "stream",
     "text": [
      "Math Score:\n",
      "Jarque-Bera test statistic: 1.72 \tJargue-Bera p-value: 0.4231\n",
      "Normatlity test statistic: 1.83 \tNormality p-value: 0.4001\n",
      "Reading Score:\n",
      "Jarque-Bera test statistic: 4.12 \tJargue-Bera p-value: 0.1275\n",
      "Normatlity test statistic: 5.28 \tNormality p-value: 0.0713\n",
      "Writing Score:\n",
      "Jarque-Bera test statistic: 4.75 \tJargue-Bera p-value: 0.0932\n",
      "Normatlity test statistic: 6.27 \tNormality p-value: 0.0436\n"
     ]
    }
   ],
   "source": [
    "math_bc,_ = boxcox(student[student['math score'] > 0]['math score'])\n",
    "reading_bc,_ = boxcox(student['reading score'])\n",
    "writing_bc,_ = boxcox(student['writing score'])\n",
    "\n",
    "bc_vars = [math_bc, reading_bc, writing_bc]\n",
    "var_names = ['math score', 'reading score', 'writing score']\n",
    "\n",
    "for i in range(3):\n",
    "    jbtest = jarque_bera(bc_vars[i])\n",
    "    ntest = normaltest(bc_vars[i])\n",
    "    print(var_names[i].title()+':')\n",
    "    print('Jarque-Bera test statistic: {} \\tJargue-Bera p-value: {}'.format(round(jbtest[0],2),round(jbtest[1],4)))\n",
    "    print('Normatlity test statistic: {} \\tNormality p-value: {}'.format(round(ntest[0],2),round(ntest[1],4)))"
   ]
  },
  {
   "cell_type": "markdown",
   "metadata": {},
   "source": [
    "Our tests indicate the modified values are closer to normality."
   ]
  },
  {
   "cell_type": "markdown",
   "metadata": {},
   "source": [
    "# Question 2\n",
    "\n",
    "See if the average of students' test scores is normally distributed:"
   ]
  },
  {
   "cell_type": "code",
   "execution_count": 82,
   "metadata": {},
   "outputs": [
    {
     "name": "stdout",
     "output_type": "stream",
     "text": [
      "Jarque-Bera test statistic: 15.45 \tJargue-Bera p-value: 0.0004\n",
      "Normatlity test statistic: 15.19 \tNormality p-value: 0.0005\n"
     ]
    }
   ],
   "source": [
    "for row in range(len(student)):\n",
    "    student.loc[row,'avg score'] = np.mean(student.iloc[row,5:8])\n",
    "\n",
    "jbtest = jarque_bera(student['avg score'])\n",
    "ntest = normaltest(student['avg score'])\n",
    "\n",
    "print('Jarque-Bera test statistic: {} \\tJargue-Bera p-value: {}'.format(round(jbtest[0],2),round(jbtest[1],4)))\n",
    "print('Normatlity test statistic: {} \\tNormality p-value: {}'.format(round(ntest[0],2),round(ntest[1],4)))"
   ]
  },
  {
   "cell_type": "markdown",
   "metadata": {},
   "source": [
    "The average of a students' 3 test scores is not normally distributed. Let's try after applying a Box-Cox transformation."
   ]
  },
  {
   "cell_type": "code",
   "execution_count": 83,
   "metadata": {},
   "outputs": [
    {
     "name": "stdout",
     "output_type": "stream",
     "text": [
      "Jarque-Bera test statistic: 2.44 \tJargue-Bera p-value: 0.2959\n",
      "Normatlity test statistic: 2.78 \tNormality p-value: 0.2491\n"
     ]
    }
   ],
   "source": [
    "new_avg,_ = boxcox(student['avg score'])\n",
    "\n",
    "jbtest = jarque_bera(new_avg)\n",
    "ntest = normaltest(new_avg)\n",
    "\n",
    "print('Jarque-Bera test statistic: {} \\tJargue-Bera p-value: {}'.format(round(jbtest[0],2),round(jbtest[1],4)))\n",
    "print('Normatlity test statistic: {} \\tNormality p-value: {}'.format(round(ntest[0],2),round(ntest[1],4)))"
   ]
  },
  {
   "cell_type": "markdown",
   "metadata": {},
   "source": [
    "Yes, after applying the Box-Cox transformation, we can no longer reject the assumption of normality."
   ]
  },
  {
   "cell_type": "markdown",
   "metadata": {},
   "source": [
    "# Question 3\n",
    "\n",
    "Which variables are correlated with our target variable?"
   ]
  },
  {
   "cell_type": "code",
   "execution_count": 113,
   "metadata": {},
   "outputs": [
    {
     "data": {
      "image/png": "[encoded data removed]",
      "text/plain": [
       "<Figure size 720x1800 with 5 Axes>"
      ]
     },
     "metadata": {
      "needs_background": "light"
     },
     "output_type": "display_data"
    }
   ],
   "source": [
    "plt.figure(figsize=(10,25))\n",
    "\n",
    "plt.subplot(5,1,1)\n",
    "plt.bar(student.groupby('gender')['avg score'].mean().index, student.groupby('gender')['avg score'].mean())\n",
    "plt.title('Average Score by Gender')\n",
    "\n",
    "plt.subplot(5,1,2)\n",
    "plt.bar(student.groupby('race/ethnicity')['avg score'].mean().index, student.groupby('race/ethnicity')['avg score'].mean())\n",
    "plt.title('Average Score by Race/Ethnicity')\n",
    "\n",
    "plt.subplot(5,1,3)\n",
    "plt.bar(student.groupby('parental level of education')['avg score'].mean().index, student.groupby('parental level of education')['avg score'].mean())\n",
    "plt.title('Average Score by Education')\n",
    "\n",
    "plt.subplot(5,1,4)\n",
    "plt.bar(student.groupby('lunch')['avg score'].mean().index, student.groupby('lunch')['avg score'].mean())\n",
    "plt.title('Average Score by Discounted Lunch Status')\n",
    "\n",
    "plt.subplot(5,1,5)\n",
    "plt.bar(student.groupby('test preparation course')['avg score'].mean().index, student.groupby('test preparation course')['avg score'].mean())\n",
    "plt.title('Average Score by Prep Course Status')\n",
    "\n",
    "plt.show()"
   ]
  },
  {
   "cell_type": "markdown",
   "metadata": {},
   "source": [
    "Parental level of education, discounted lunch status, and whether or not they took a prep course seem fairly predictive of test performance."
   ]
  }
 ],
 "metadata": {
  "kernelspec": {
   "display_name": "Python 3",
   "language": "python",
   "name": "python3"
  },
  "language_info": {
   "codemirror_mode": {
    "name": "ipython",
    "version": 3
   },
   "file_extension": ".py",
   "mimetype": "text/x-python",
   "name": "python",
   "nbconvert_exporter": "python",
   "pygments_lexer": "ipython3",
   "version": "3.7.3"
  }
 },
 "nbformat": 4,
 "nbformat_minor": 2
}
